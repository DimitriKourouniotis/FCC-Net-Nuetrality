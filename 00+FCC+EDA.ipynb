{
 "cells": [
  {
   "cell_type": "markdown",
   "metadata": {},
   "source": [
    "# For FCC comments;\n",
    "## Q1. Which filings are fake;\n",
    "## Q2. How are they distributed by state vs population (and possibly by broadband access)\n",
    "## Q3. Wordcloud of most common words used\n",
    "## Q4. in-progress Heatmap of USA of filings by state vs population\n",
    "## Q5. Predicting which filings are fake by text content and possibly time submission and email domain (pornhub, hurra.de) "
   ]
  },
  {
   "cell_type": "markdown",
   "metadata": {},
   "source": []
  }
 ],
 "metadata": {
  "kernelspec": {
   "display_name": "Python 3",
   "language": "python",
   "name": "python3"
  },
  "language_info": {
   "codemirror_mode": {
    "name": "ipython",
    "version": 3
   },
   "file_extension": ".py",
   "mimetype": "text/x-python",
   "name": "python",
   "nbconvert_exporter": "python",
   "pygments_lexer": "ipython3",
   "version": "3.6.3"
  }
 },
 "nbformat": 4,
 "nbformat_minor": 2
}
