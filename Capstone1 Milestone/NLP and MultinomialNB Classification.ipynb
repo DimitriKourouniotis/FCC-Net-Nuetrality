{
 "cells": [
  {
   "cell_type": "markdown",
   "metadata": {},
   "source": [
    "## FCC Comments on Net Neutrality\n",
    "### Natural Language Processing and Multinomial Naive Bayes model\n",
    "### Dimitri Kourouniotis"
   ]
  },
  {
   "cell_type": "code",
   "execution_count": 100,
   "metadata": {},
   "outputs": [],
   "source": [
    "#import\n",
    "import pandas as pd"
   ]
  },
  {
   "cell_type": "code",
   "execution_count": 101,
   "metadata": {},
   "outputs": [
    {
     "name": "stderr",
     "output_type": "stream",
     "text": [
      "C:\\ProgramData\\Anaconda3\\lib\\site-packages\\IPython\\core\\interactiveshell.py:2698: DtypeWarning: Columns (5,11,12) have mixed types. Specify dtype option on import or set low_memory=False.\n",
      "  interactivity=interactivity, compiler=compiler, result=result)\n"
     ]
    }
   ],
   "source": [
    "#Read in Dataset\n",
    "df = pd.read_csv('FCC_US_commentstext_datefreq.csv',encoding = 'latin-1')"
   ]
  },
  {
   "cell_type": "code",
   "execution_count": 143,
   "metadata": {},
   "outputs": [
    {
     "data": {
      "text/html": [
       "<div>\n",
       "<style>\n",
       "    .dataframe thead tr:only-child th {\n",
       "        text-align: right;\n",
       "    }\n",
       "\n",
       "    .dataframe thead th {\n",
       "        text-align: left;\n",
       "    }\n",
       "\n",
       "    .dataframe tbody tr th {\n",
       "        vertical-align: top;\n",
       "    }\n",
       "</style>\n",
       "<table border=\"1\" class=\"dataframe\">\n",
       "  <thead>\n",
       "    <tr style=\"text-align: right;\">\n",
       "      <th></th>\n",
       "      <th>State_Abbreviation</th>\n",
       "      <th>id</th>\n",
       "      <th>date_submission</th>\n",
       "      <th>contact_email</th>\n",
       "      <th>index</th>\n",
       "      <th>renamed_text_data</th>\n",
       "      <th>internationaladdressentity</th>\n",
       "      <th>filers</th>\n",
       "      <th>intl_fake_zip</th>\n",
       "      <th>date_test</th>\n",
       "      <th>freq_time</th>\n",
       "      <th>text_data</th>\n",
       "      <th>comment_text</th>\n",
       "    </tr>\n",
       "  </thead>\n",
       "  <tbody>\n",
       "    <tr>\n",
       "      <th>0</th>\n",
       "      <td>IA</td>\n",
       "      <td>59f8b2bb50b733300f069dce</td>\n",
       "      <td>2017-07-11T15:53:55.588Z</td>\n",
       "      <td>LINDAKUNZE88@GMAIL.COM</td>\n",
       "      <td>filings.2017.7</td>\n",
       "      <td>NaN</td>\n",
       "      <td>NaN</td>\n",
       "      <td>[{\"name\":\"Linda Kunze\"}]</td>\n",
       "      <td>NaN</td>\n",
       "      <td>2017-07-11 15:53:55</td>\n",
       "      <td>12</td>\n",
       "      <td>The unprecedented regulatory power the Obama A...</td>\n",
       "      <td>The unprecedented regulatory power the Obama A...</td>\n",
       "    </tr>\n",
       "    <tr>\n",
       "      <th>1</th>\n",
       "      <td>RI</td>\n",
       "      <td>59f8b2bb50b733300f069dd1</td>\n",
       "      <td>2017-07-11T15:53:55.750Z</td>\n",
       "      <td>TD3ONE@GMAIL.COM</td>\n",
       "      <td>filings.2017.7</td>\n",
       "      <td>NaN</td>\n",
       "      <td>NaN</td>\n",
       "      <td>[{\"name\":\"Thomas Daniels\"}]</td>\n",
       "      <td>NaN</td>\n",
       "      <td>2017-07-11 15:53:55</td>\n",
       "      <td>12</td>\n",
       "      <td>The unprecedented regulatory power the Obama A...</td>\n",
       "      <td>The unprecedented regulatory power the Obama A...</td>\n",
       "    </tr>\n",
       "  </tbody>\n",
       "</table>\n",
       "</div>"
      ],
      "text/plain": [
       "  State_Abbreviation                        id           date_submission  \\\n",
       "0                 IA  59f8b2bb50b733300f069dce  2017-07-11T15:53:55.588Z   \n",
       "1                 RI  59f8b2bb50b733300f069dd1  2017-07-11T15:53:55.750Z   \n",
       "\n",
       "            contact_email           index renamed_text_data  \\\n",
       "0  LINDAKUNZE88@GMAIL.COM  filings.2017.7               NaN   \n",
       "1        TD3ONE@GMAIL.COM  filings.2017.7               NaN   \n",
       "\n",
       "  internationaladdressentity                       filers  intl_fake_zip  \\\n",
       "0                        NaN     [{\"name\":\"Linda Kunze\"}]            NaN   \n",
       "1                        NaN  [{\"name\":\"Thomas Daniels\"}]            NaN   \n",
       "\n",
       "             date_test  freq_time  \\\n",
       "0  2017-07-11 15:53:55         12   \n",
       "1  2017-07-11 15:53:55         12   \n",
       "\n",
       "                                           text_data  \\\n",
       "0  The unprecedented regulatory power the Obama A...   \n",
       "1  The unprecedented regulatory power the Obama A...   \n",
       "\n",
       "                                        comment_text  \n",
       "0  The unprecedented regulatory power the Obama A...  \n",
       "1  The unprecedented regulatory power the Obama A...  "
      ]
     },
     "execution_count": 143,
     "metadata": {},
     "output_type": "execute_result"
    }
   ],
   "source": [
    "df.head(2)"
   ]
  },
  {
   "cell_type": "markdown",
   "metadata": {},
   "source": [
    "### 400 labeled records marked with Fake or True "
   ]
  },
  {
   "cell_type": "code",
   "execution_count": 104,
   "metadata": {},
   "outputs": [],
   "source": [
    "#import classifed data set\n",
    "data = pd.read_csv('FCC_df_zip_400model.csv')"
   ]
  },
  {
   "cell_type": "code",
   "execution_count": 105,
   "metadata": {},
   "outputs": [
    {
     "name": "stdout",
     "output_type": "stream",
     "text": [
      "<class 'pandas.core.frame.DataFrame'>\n",
      "RangeIndex: 400 entries, 0 to 399\n",
      "Data columns (total 15 columns):\n",
      "id                            400 non-null object\n",
      "date_submission               400 non-null object\n",
      "contact_email                 389 non-null object\n",
      "confirmation_number           400 non-null float64\n",
      "text_data                     397 non-null object\n",
      "index                         400 non-null object\n",
      "filers                        400 non-null object\n",
      "addressentity                 400 non-null object\n",
      "internationaladdressentity    400 non-null object\n",
      "address_line_1                400 non-null object\n",
      "city                          400 non-null object\n",
      "state                         400 non-null object\n",
      "zip_code                      400 non-null object\n",
      "international_address_text    0 non-null float64\n",
      "fake                          400 non-null int64\n",
      "dtypes: float64(2), int64(1), object(12)\n",
      "memory usage: 47.0+ KB\n"
     ]
    }
   ],
   "source": [
    "data.info()"
   ]
  },
  {
   "cell_type": "code",
   "execution_count": 118,
   "metadata": {},
   "outputs": [
    {
     "data": {
      "text/html": [
       "<div>\n",
       "<style>\n",
       "    .dataframe thead tr:only-child th {\n",
       "        text-align: right;\n",
       "    }\n",
       "\n",
       "    .dataframe thead th {\n",
       "        text-align: left;\n",
       "    }\n",
       "\n",
       "    .dataframe tbody tr th {\n",
       "        vertical-align: top;\n",
       "    }\n",
       "</style>\n",
       "<table border=\"1\" class=\"dataframe\">\n",
       "  <thead>\n",
       "    <tr style=\"text-align: right;\">\n",
       "      <th></th>\n",
       "      <th>id</th>\n",
       "      <th>date_submission</th>\n",
       "      <th>contact_email</th>\n",
       "      <th>confirmation_number</th>\n",
       "      <th>comment_text</th>\n",
       "      <th>index</th>\n",
       "      <th>filers</th>\n",
       "      <th>addressentity</th>\n",
       "      <th>internationaladdressentity</th>\n",
       "      <th>address_line_1</th>\n",
       "      <th>city</th>\n",
       "      <th>state</th>\n",
       "      <th>zip_code</th>\n",
       "      <th>international_address_text</th>\n",
       "      <th>fake</th>\n",
       "      <th>date_test</th>\n",
       "      <th>intl_fake_zip</th>\n",
       "      <th>model</th>\n",
       "    </tr>\n",
       "  </thead>\n",
       "  <tbody>\n",
       "    <tr>\n",
       "      <th>0</th>\n",
       "      <td>59f883d850b733300fdbec7a</td>\n",
       "      <td>2017-05-24T22:58:31+00:00</td>\n",
       "      <td>amos31wj@yahoo.com</td>\n",
       "      <td>2.020000e+17</td>\n",
       "      <td>Dear Chairman Pai,  I'm contacting you about r...</td>\n",
       "      <td>filings.2017.5</td>\n",
       "      <td>[{\"name\":\"Amos Thompson\"}]</td>\n",
       "      <td>{'city': 'W Jefferson', 'address_line_1': '133...</td>\n",
       "      <td>{'addresstext': ''}</td>\n",
       "      <td>133 Blendon Rd</td>\n",
       "      <td>W Jefferson</td>\n",
       "      <td>OH</td>\n",
       "      <td>43162</td>\n",
       "      <td>NaN</td>\n",
       "      <td>1</td>\n",
       "      <td>2017-05-24 22:58:31</td>\n",
       "      <td>0</td>\n",
       "      <td>1</td>\n",
       "    </tr>\n",
       "    <tr>\n",
       "      <th>1</th>\n",
       "      <td>59f883d850b733300fdbec7b</td>\n",
       "      <td>2017-05-24T22:58:31+00:00</td>\n",
       "      <td>dseanger@msn.com</td>\n",
       "      <td>2.020000e+17</td>\n",
       "      <td>Chairman Pai:  My comments re: net neutrality ...</td>\n",
       "      <td>filings.2017.5</td>\n",
       "      <td>[{\"name\":\"Douglas Seanger\"}]</td>\n",
       "      <td>{'city': 'Tucson', 'address_line_1': '1650 E R...</td>\n",
       "      <td>{'addresstext': ''}</td>\n",
       "      <td>1650 E River Rd Ste 104</td>\n",
       "      <td>Tucson</td>\n",
       "      <td>AZ</td>\n",
       "      <td>56303</td>\n",
       "      <td>NaN</td>\n",
       "      <td>1</td>\n",
       "      <td>2017-05-24 22:58:31</td>\n",
       "      <td>0</td>\n",
       "      <td>1</td>\n",
       "    </tr>\n",
       "  </tbody>\n",
       "</table>\n",
       "</div>"
      ],
      "text/plain": [
       "                         id            date_submission       contact_email  \\\n",
       "0  59f883d850b733300fdbec7a  2017-05-24T22:58:31+00:00  amos31wj@yahoo.com   \n",
       "1  59f883d850b733300fdbec7b  2017-05-24T22:58:31+00:00    dseanger@msn.com   \n",
       "\n",
       "   confirmation_number                                       comment_text  \\\n",
       "0         2.020000e+17  Dear Chairman Pai,  I'm contacting you about r...   \n",
       "1         2.020000e+17  Chairman Pai:  My comments re: net neutrality ...   \n",
       "\n",
       "            index                        filers  \\\n",
       "0  filings.2017.5    [{\"name\":\"Amos Thompson\"}]   \n",
       "1  filings.2017.5  [{\"name\":\"Douglas Seanger\"}]   \n",
       "\n",
       "                                       addressentity  \\\n",
       "0  {'city': 'W Jefferson', 'address_line_1': '133...   \n",
       "1  {'city': 'Tucson', 'address_line_1': '1650 E R...   \n",
       "\n",
       "  internationaladdressentity           address_line_1         city state  \\\n",
       "0        {'addresstext': ''}           133 Blendon Rd  W Jefferson    OH   \n",
       "1        {'addresstext': ''}  1650 E River Rd Ste 104       Tucson    AZ   \n",
       "\n",
       "  zip_code  international_address_text  fake           date_test  \\\n",
       "0    43162                         NaN     1 2017-05-24 22:58:31   \n",
       "1    56303                         NaN     1 2017-05-24 22:58:31   \n",
       "\n",
       "   intl_fake_zip  model  \n",
       "0              0      1  \n",
       "1              0      1  "
      ]
     },
     "execution_count": 118,
     "metadata": {},
     "output_type": "execute_result"
    }
   ],
   "source": [
    "#explore concatonated graded data\n",
    "data.head(2)"
   ]
  },
  {
   "cell_type": "code",
   "execution_count": 119,
   "metadata": {},
   "outputs": [],
   "source": [
    "# rename text_data column\n",
    "data=data.rename(columns = {'text_data':'comment_text'})"
   ]
  },
  {
   "cell_type": "code",
   "execution_count": 120,
   "metadata": {},
   "outputs": [],
   "source": [
    "data['date_test']= pd.to_datetime(data['date_submission'])\n",
    "data['date_test']= data['date_test'].values.astype('datetime64[s]')"
   ]
  },
  {
   "cell_type": "code",
   "execution_count": 121,
   "metadata": {},
   "outputs": [],
   "source": [
    "#add intl fake zip column to match full dataset (where zip code was extracted from suspicious address)\n",
    "data['intl_fake_zip']=0"
   ]
  },
  {
   "cell_type": "code",
   "execution_count": 122,
   "metadata": {},
   "outputs": [],
   "source": [
    "#add model column \n",
    "data['model']=1"
   ]
  },
  {
   "cell_type": "code",
   "execution_count": 123,
   "metadata": {},
   "outputs": [
    {
     "data": {
      "text/plain": [
       "Index(['id', 'date_submission', 'contact_email', 'confirmation_number',\n",
       "       'comment_text', 'index', 'filers', 'addressentity',\n",
       "       'internationaladdressentity', 'address_line_1', 'city', 'state',\n",
       "       'zip_code', 'international_address_text', 'fake', 'date_test',\n",
       "       'intl_fake_zip', 'model'],\n",
       "      dtype='object')"
      ]
     },
     "execution_count": 123,
     "metadata": {},
     "output_type": "execute_result"
    }
   ],
   "source": [
    "data.columns"
   ]
  },
  {
   "cell_type": "code",
   "execution_count": 112,
   "metadata": {},
   "outputs": [],
   "source": [
    "model_df = data[['id', 'contact_email','comment_text', 'filers', 'internationaladdressentity', 'fake', 'date_test','intl_fake_zip', 'model']]"
   ]
  },
  {
   "cell_type": "code",
   "execution_count": 124,
   "metadata": {},
   "outputs": [
    {
     "data": {
      "text/html": [
       "<div>\n",
       "<style>\n",
       "    .dataframe thead tr:only-child th {\n",
       "        text-align: right;\n",
       "    }\n",
       "\n",
       "    .dataframe thead th {\n",
       "        text-align: left;\n",
       "    }\n",
       "\n",
       "    .dataframe tbody tr th {\n",
       "        vertical-align: top;\n",
       "    }\n",
       "</style>\n",
       "<table border=\"1\" class=\"dataframe\">\n",
       "  <thead>\n",
       "    <tr style=\"text-align: right;\">\n",
       "      <th></th>\n",
       "      <th>id</th>\n",
       "      <th>contact_email</th>\n",
       "      <th>comment_text</th>\n",
       "      <th>filers</th>\n",
       "      <th>internationaladdressentity</th>\n",
       "      <th>fake</th>\n",
       "      <th>date_test</th>\n",
       "      <th>intl_fake_zip</th>\n",
       "      <th>model</th>\n",
       "    </tr>\n",
       "  </thead>\n",
       "  <tbody>\n",
       "    <tr>\n",
       "      <th>0</th>\n",
       "      <td>59f883d850b733300fdbec7a</td>\n",
       "      <td>amos31wj@yahoo.com</td>\n",
       "      <td>Dear Chairman Pai,  I'm contacting you about r...</td>\n",
       "      <td>[{\"name\":\"Amos Thompson\"}]</td>\n",
       "      <td>{'addresstext': ''}</td>\n",
       "      <td>1</td>\n",
       "      <td>2017-05-24 22:58:31</td>\n",
       "      <td>0</td>\n",
       "      <td>1</td>\n",
       "    </tr>\n",
       "    <tr>\n",
       "      <th>1</th>\n",
       "      <td>59f883d850b733300fdbec7b</td>\n",
       "      <td>dseanger@msn.com</td>\n",
       "      <td>Chairman Pai:  My comments re: net neutrality ...</td>\n",
       "      <td>[{\"name\":\"Douglas Seanger\"}]</td>\n",
       "      <td>{'addresstext': ''}</td>\n",
       "      <td>1</td>\n",
       "      <td>2017-05-24 22:58:31</td>\n",
       "      <td>0</td>\n",
       "      <td>1</td>\n",
       "    </tr>\n",
       "  </tbody>\n",
       "</table>\n",
       "</div>"
      ],
      "text/plain": [
       "                         id       contact_email  \\\n",
       "0  59f883d850b733300fdbec7a  amos31wj@yahoo.com   \n",
       "1  59f883d850b733300fdbec7b    dseanger@msn.com   \n",
       "\n",
       "                                        comment_text  \\\n",
       "0  Dear Chairman Pai,  I'm contacting you about r...   \n",
       "1  Chairman Pai:  My comments re: net neutrality ...   \n",
       "\n",
       "                         filers internationaladdressentity  fake  \\\n",
       "0    [{\"name\":\"Amos Thompson\"}]        {'addresstext': ''}     1   \n",
       "1  [{\"name\":\"Douglas Seanger\"}]        {'addresstext': ''}     1   \n",
       "\n",
       "            date_test  intl_fake_zip  model  \n",
       "0 2017-05-24 22:58:31              0      1  \n",
       "1 2017-05-24 22:58:31              0      1  "
      ]
     },
     "execution_count": 124,
     "metadata": {},
     "output_type": "execute_result"
    }
   ],
   "source": [
    "model_df.head(2)"
   ]
  },
  {
   "cell_type": "markdown",
   "metadata": {},
   "source": [
    "<div class=\"span5 alert alert-info\">\n",
    "<h3>NLP section<h3> </div>"
   ]
  },
  {
   "cell_type": "code",
   "execution_count": 126,
   "metadata": {},
   "outputs": [],
   "source": [
    "import nltk"
   ]
  },
  {
   "cell_type": "code",
   "execution_count": 127,
   "metadata": {},
   "outputs": [
    {
     "name": "stdout",
     "output_type": "stream",
     "text": [
      "400\n"
     ]
    }
   ],
   "source": [
    "print(len(model_df))"
   ]
  },
  {
   "cell_type": "code",
   "execution_count": 128,
   "metadata": {},
   "outputs": [
    {
     "data": {
      "text/plain": [
       "\"Dear FCC,  I want to give my opinion on the FCC's so-called Open Internet order. I'd like to suggest the commissioners to repeal The previous administration's power grab to take over broadband. People like me, as opposed to Washington bureaucrats, ought to use the services we desire. The previous administration's power grab to take over broadband is a distortion of the open Internet. It reversed a pro-consumer approach that functioned remarkably well for a long time with both parties' approval.\""
      ]
     },
     "execution_count": 128,
     "metadata": {},
     "output_type": "execute_result"
    }
   ],
   "source": [
    "model_df['comment_text'][35]"
   ]
  },
  {
   "cell_type": "code",
   "execution_count": 130,
   "metadata": {},
   "outputs": [
    {
     "data": {
      "text/html": [
       "<div>\n",
       "<style>\n",
       "    .dataframe thead tr:only-child th {\n",
       "        text-align: right;\n",
       "    }\n",
       "\n",
       "    .dataframe thead th {\n",
       "        text-align: left;\n",
       "    }\n",
       "\n",
       "    .dataframe tbody tr th {\n",
       "        vertical-align: top;\n",
       "    }\n",
       "</style>\n",
       "<table border=\"1\" class=\"dataframe\">\n",
       "  <thead>\n",
       "    <tr>\n",
       "      <th></th>\n",
       "      <th colspan=\"8\" halign=\"left\">intl_fake_zip</th>\n",
       "      <th colspan=\"8\" halign=\"left\">model</th>\n",
       "    </tr>\n",
       "    <tr>\n",
       "      <th></th>\n",
       "      <th>count</th>\n",
       "      <th>mean</th>\n",
       "      <th>std</th>\n",
       "      <th>min</th>\n",
       "      <th>25%</th>\n",
       "      <th>50%</th>\n",
       "      <th>75%</th>\n",
       "      <th>max</th>\n",
       "      <th>count</th>\n",
       "      <th>mean</th>\n",
       "      <th>std</th>\n",
       "      <th>min</th>\n",
       "      <th>25%</th>\n",
       "      <th>50%</th>\n",
       "      <th>75%</th>\n",
       "      <th>max</th>\n",
       "    </tr>\n",
       "    <tr>\n",
       "      <th>fake</th>\n",
       "      <th></th>\n",
       "      <th></th>\n",
       "      <th></th>\n",
       "      <th></th>\n",
       "      <th></th>\n",
       "      <th></th>\n",
       "      <th></th>\n",
       "      <th></th>\n",
       "      <th></th>\n",
       "      <th></th>\n",
       "      <th></th>\n",
       "      <th></th>\n",
       "      <th></th>\n",
       "      <th></th>\n",
       "      <th></th>\n",
       "      <th></th>\n",
       "    </tr>\n",
       "  </thead>\n",
       "  <tbody>\n",
       "    <tr>\n",
       "      <th>0</th>\n",
       "      <td>107.0</td>\n",
       "      <td>0.0</td>\n",
       "      <td>0.0</td>\n",
       "      <td>0.0</td>\n",
       "      <td>0.0</td>\n",
       "      <td>0.0</td>\n",
       "      <td>0.0</td>\n",
       "      <td>0.0</td>\n",
       "      <td>107.0</td>\n",
       "      <td>1.0</td>\n",
       "      <td>0.0</td>\n",
       "      <td>1.0</td>\n",
       "      <td>1.0</td>\n",
       "      <td>1.0</td>\n",
       "      <td>1.0</td>\n",
       "      <td>1.0</td>\n",
       "    </tr>\n",
       "    <tr>\n",
       "      <th>1</th>\n",
       "      <td>293.0</td>\n",
       "      <td>0.0</td>\n",
       "      <td>0.0</td>\n",
       "      <td>0.0</td>\n",
       "      <td>0.0</td>\n",
       "      <td>0.0</td>\n",
       "      <td>0.0</td>\n",
       "      <td>0.0</td>\n",
       "      <td>293.0</td>\n",
       "      <td>1.0</td>\n",
       "      <td>0.0</td>\n",
       "      <td>1.0</td>\n",
       "      <td>1.0</td>\n",
       "      <td>1.0</td>\n",
       "      <td>1.0</td>\n",
       "      <td>1.0</td>\n",
       "    </tr>\n",
       "  </tbody>\n",
       "</table>\n",
       "</div>"
      ],
      "text/plain": [
       "     intl_fake_zip                                     model                 \\\n",
       "             count mean  std  min  25%  50%  75%  max  count mean  std  min   \n",
       "fake                                                                          \n",
       "0            107.0  0.0  0.0  0.0  0.0  0.0  0.0  0.0  107.0  1.0  0.0  1.0   \n",
       "1            293.0  0.0  0.0  0.0  0.0  0.0  0.0  0.0  293.0  1.0  0.0  1.0   \n",
       "\n",
       "                          \n",
       "      25%  50%  75%  max  \n",
       "fake                      \n",
       "0     1.0  1.0  1.0  1.0  \n",
       "1     1.0  1.0  1.0  1.0  "
      ]
     },
     "execution_count": 130,
     "metadata": {},
     "output_type": "execute_result"
    }
   ],
   "source": [
    "model_df.groupby('fake').describe()"
   ]
  },
  {
   "cell_type": "code",
   "execution_count": 131,
   "metadata": {},
   "outputs": [],
   "source": [
    "#some comments are not text but floats\n",
    "model_df['comment_text'] = model_df['comment_text'].astype(str)"
   ]
  },
  {
   "cell_type": "code",
   "execution_count": 132,
   "metadata": {},
   "outputs": [],
   "source": [
    "model_df['length']=model_df['comment_text'].apply(len)"
   ]
  },
  {
   "cell_type": "code",
   "execution_count": 133,
   "metadata": {},
   "outputs": [
    {
     "data": {
      "text/html": [
       "<div>\n",
       "<style>\n",
       "    .dataframe thead tr:only-child th {\n",
       "        text-align: right;\n",
       "    }\n",
       "\n",
       "    .dataframe thead th {\n",
       "        text-align: left;\n",
       "    }\n",
       "\n",
       "    .dataframe tbody tr th {\n",
       "        vertical-align: top;\n",
       "    }\n",
       "</style>\n",
       "<table border=\"1\" class=\"dataframe\">\n",
       "  <thead>\n",
       "    <tr style=\"text-align: right;\">\n",
       "      <th></th>\n",
       "      <th>comment_text</th>\n",
       "      <th>length</th>\n",
       "    </tr>\n",
       "  </thead>\n",
       "  <tbody>\n",
       "    <tr>\n",
       "      <th>0</th>\n",
       "      <td>Dear Chairman Pai,  I'm contacting you about r...</td>\n",
       "      <td>437</td>\n",
       "    </tr>\n",
       "    <tr>\n",
       "      <th>1</th>\n",
       "      <td>Chairman Pai:  My comments re: net neutrality ...</td>\n",
       "      <td>454</td>\n",
       "    </tr>\n",
       "  </tbody>\n",
       "</table>\n",
       "</div>"
      ],
      "text/plain": [
       "                                        comment_text  length\n",
       "0  Dear Chairman Pai,  I'm contacting you about r...     437\n",
       "1  Chairman Pai:  My comments re: net neutrality ...     454"
      ]
     },
     "execution_count": 133,
     "metadata": {},
     "output_type": "execute_result"
    }
   ],
   "source": [
    "model_df[['comment_text','length']].head(2)"
   ]
  },
  {
   "cell_type": "code",
   "execution_count": 134,
   "metadata": {},
   "outputs": [],
   "source": [
    "import matplotlib.pyplot as plt\n",
    "import seaborn as sns\n",
    "%matplotlib inline"
   ]
  },
  {
   "cell_type": "code",
   "execution_count": 135,
   "metadata": {},
   "outputs": [
    {
     "data": {
      "text/plain": [
       "<matplotlib.axes._subplots.AxesSubplot at 0x21df0304080>"
      ]
     },
     "execution_count": 135,
     "metadata": {},
     "output_type": "execute_result"
    },
    {
     "data": {
      "image/png": "[encoded data removed]",
      "text/plain": [
       "<matplotlib.figure.Figure at 0x21defb49b00>"
      ]
     },
     "metadata": {},
     "output_type": "display_data"
    }
   ],
   "source": [
    "model_df['length'].plot.hist(bins=130,figsize=(12,4))"
   ]
  },
  {
   "cell_type": "code",
   "execution_count": 136,
   "metadata": {},
   "outputs": [
    {
     "data": {
      "text/plain": [
       "count     400.000000\n",
       "mean      651.345000\n",
       "std       447.029938\n",
       "min         1.000000\n",
       "25%       425.000000\n",
       "50%       460.000000\n",
       "75%      1300.000000\n",
       "max      1980.000000\n",
       "Name: length, dtype: float64"
      ]
     },
     "execution_count": 136,
     "metadata": {},
     "output_type": "execute_result"
    }
   ],
   "source": [
    "model_df['length'].describe()"
   ]
  },
  {
   "cell_type": "code",
   "execution_count": 137,
   "metadata": {},
   "outputs": [
    {
     "data": {
      "text/plain": [
       "1300    82\n",
       "451     10\n",
       "442      8\n",
       "431      6\n",
       "480      6\n",
       "Name: length, dtype: int64"
      ]
     },
     "execution_count": 137,
     "metadata": {},
     "output_type": "execute_result"
    }
   ],
   "source": [
    "model_df['length'].value_counts().head()"
   ]
  },
  {
   "cell_type": "code",
   "execution_count": 138,
   "metadata": {},
   "outputs": [
    {
     "data": {
      "text/plain": [
       "'The FCC needs to stand up for Internet users like me and keep the net neutrality rules that are already in effect. \\r\\r\\r\\n\\r\\r\\r\\nThe FCC should throw out Chairman Ajit Pai?s proposal to hand the government-subsidized ISP monopolies like Verizon, Comcast, and AT&amp;T the legal cover to create Internet fast lanes, stripping Internet users of the vital privacy and access safeguards we worked for and so recently won. \\r\\r\\r\\n\\r\\r\\r\\nI?m afraid of a ?pay-to-play? Internet where ISPs can charge more for certain websites because 3. Thankfully, the existing Open Internet rules mean that ISP monopolies can?t slow or block consumers? ability to see certain web services or engage in data discrimination by charging online services and websites more money to reach people faster. That?s the right kind of forward-looking approach to make sure competition in the Internet space is fair and benefits small businesses and Internet users as well as entrenched Internet companies. Chairman Pai?s proposed repeal of the rules would transform Internet providers into Internet gatekeepers with the ability to veto new expression and innovation. That?s contrary to the basic precepts on which the Internet was built. \\r\\r\\r\\n\\r\\r\\r\\nI appreciate you maintaining Title II net neutrality rules and the rights of Internet users like me.'"
      ]
     },
     "execution_count": 138,
     "metadata": {},
     "output_type": "execute_result"
    }
   ],
   "source": [
    "#inspect the 82 messages that have length 1300\n",
    "model_df[model_df['length']==1300]['comment_text'].iloc[0]"
   ]
  },
  {
   "cell_type": "code",
   "execution_count": 142,
   "metadata": {},
   "outputs": [
    {
     "data": {
      "text/html": [
       "<div>\n",
       "<style>\n",
       "    .dataframe thead tr:only-child th {\n",
       "        text-align: right;\n",
       "    }\n",
       "\n",
       "    .dataframe thead th {\n",
       "        text-align: left;\n",
       "    }\n",
       "\n",
       "    .dataframe tbody tr th {\n",
       "        vertical-align: top;\n",
       "    }\n",
       "</style>\n",
       "<table border=\"1\" class=\"dataframe\">\n",
       "  <thead>\n",
       "    <tr style=\"text-align: right;\">\n",
       "      <th></th>\n",
       "      <th>id</th>\n",
       "      <th>contact_email</th>\n",
       "      <th>comment_text</th>\n",
       "      <th>filers</th>\n",
       "      <th>internationaladdressentity</th>\n",
       "      <th>fake</th>\n",
       "      <th>date_test</th>\n",
       "      <th>intl_fake_zip</th>\n",
       "      <th>model</th>\n",
       "      <th>length</th>\n",
       "    </tr>\n",
       "  </thead>\n",
       "  <tbody>\n",
       "    <tr>\n",
       "      <th>101</th>\n",
       "      <td>59f8884750b733300fe0dc7e</td>\n",
       "      <td>netsparker@example.com</td>\n",
       "      <td>The FCC needs to stand up for Internet users l...</td>\n",
       "      <td>[{\"name\":\"\\nnetsparker(0x000A32);\"}]</td>\n",
       "      <td>{'addresstext': ''}</td>\n",
       "      <td>1</td>\n",
       "      <td>2017-05-25 01:33:40</td>\n",
       "      <td>0</td>\n",
       "      <td>1</td>\n",
       "      <td>1300</td>\n",
       "    </tr>\n",
       "    <tr>\n",
       "      <th>102</th>\n",
       "      <td>59f8884750b733300fe0dc80</td>\n",
       "      <td>netsparker@example.com</td>\n",
       "      <td>The FCC needs to stand up for Internet users l...</td>\n",
       "      <td>[{\"name\":\"http://r87.com/?dearfcc.org/\"}]</td>\n",
       "      <td>{'addresstext': ''}</td>\n",
       "      <td>1</td>\n",
       "      <td>2017-05-25 01:33:41</td>\n",
       "      <td>0</td>\n",
       "      <td>1</td>\n",
       "      <td>1300</td>\n",
       "    </tr>\n",
       "  </tbody>\n",
       "</table>\n",
       "</div>"
      ],
      "text/plain": [
       "                           id           contact_email  \\\n",
       "101  59f8884750b733300fe0dc7e  netsparker@example.com   \n",
       "102  59f8884750b733300fe0dc80  netsparker@example.com   \n",
       "\n",
       "                                          comment_text  \\\n",
       "101  The FCC needs to stand up for Internet users l...   \n",
       "102  The FCC needs to stand up for Internet users l...   \n",
       "\n",
       "                                        filers internationaladdressentity  \\\n",
       "101       [{\"name\":\"\\nnetsparker(0x000A32);\"}]        {'addresstext': ''}   \n",
       "102  [{\"name\":\"http://r87.com/?dearfcc.org/\"}]        {'addresstext': ''}   \n",
       "\n",
       "     fake           date_test  intl_fake_zip  model  length  \n",
       "101     1 2017-05-25 01:33:40              0      1    1300  \n",
       "102     1 2017-05-25 01:33:41              0      1    1300  "
      ]
     },
     "execution_count": 142,
     "metadata": {},
     "output_type": "execute_result"
    }
   ],
   "source": [
    "#inspect the 82 messages that have length 1300\n",
    "#they come from 'netsparker@example.com', all have the identical text, the name Smith and were all submitted withing 30' of each other?\n",
    "model_df[model_df['length']==1300].iloc[:2]"
   ]
  },
  {
   "cell_type": "code",
   "execution_count": 195,
   "metadata": {},
   "outputs": [
    {
     "data": {
      "text/plain": [
       "array([<matplotlib.axes._subplots.AxesSubplot object at 0x0000021D88313AC8>,\n",
       "       <matplotlib.axes._subplots.AxesSubplot object at 0x0000021D88478828>], dtype=object)"
      ]
     },
     "execution_count": 195,
     "metadata": {},
     "output_type": "execute_result"
    },
    {
     "data": {
      "image/png": "[encoded data removed]",
      "text/plain": [
       "<matplotlib.figure.Figure at 0x21d88435208>"
      ]
     },
     "metadata": {},
     "output_type": "display_data"
    }
   ],
   "source": [
    "#looking at the distribution of fake vs real\n",
    "model_df.hist(column='length',by='fake',bins=60,figsize=(12,4))"
   ]
  },
  {
   "cell_type": "code",
   "execution_count": 41,
   "metadata": {},
   "outputs": [],
   "source": [
    "# Text preprocessing\n",
    "# converting numbers to sequence of vectors, including stopwords removal\n",
    "import string\n",
    "from nltk.corpus import stopwords"
   ]
  },
  {
   "cell_type": "code",
   "execution_count": 42,
   "metadata": {},
   "outputs": [],
   "source": [
    "def text_process(comment):\n",
    "    \"\"\"\n",
    "    1 remove punctuation using nopunc and rejoin\n",
    "    2 remove stopwords\n",
    "    3 return list of clean text words after removng stopwords\n",
    "    \"\"\"\n",
    "    nopunc =[char for char in comment if char not in string.punctuation]\n",
    "    nopunc =''.join(nopunc)\n",
    "    return [word for word in nopunc.split() if word.lower() not in stopwords.words('english')]"
   ]
  },
  {
   "cell_type": "code",
   "execution_count": 147,
   "metadata": {},
   "outputs": [
    {
     "data": {
      "text/plain": [
       "0    [Dear, Chairman, Pai, Im, contacting, regulati...\n",
       "1    [Chairman, Pai, comments, net, neutrality, rul...\n",
       "2    [Mr, Pai, Hi, Id, like, comment, Internet, fre...\n",
       "3    [Dear, Chairman, Pai, Im, worried, future, Int...\n",
       "4    [Federal, Communications, Commission, Regardin...\n",
       "Name: comment_text, dtype: object"
      ]
     },
     "execution_count": 147,
     "metadata": {},
     "output_type": "execute_result"
    }
   ],
   "source": [
    "#test if cleanup works\n",
    "model_df['comment_text'].head(5).apply(text_process)"
   ]
  },
  {
   "cell_type": "code",
   "execution_count": 148,
   "metadata": {},
   "outputs": [],
   "source": [
    "from sklearn.feature_extraction.text import CountVectorizer"
   ]
  },
  {
   "cell_type": "code",
   "execution_count": 149,
   "metadata": {},
   "outputs": [],
   "source": [
    "#create bag of words\n",
    "bow_transformer = CountVectorizer(analyzer=text_process).fit(model_df['comment_text'])"
   ]
  },
  {
   "cell_type": "code",
   "execution_count": 150,
   "metadata": {},
   "outputs": [
    {
     "name": "stdout",
     "output_type": "stream",
     "text": [
      "1506\n"
     ]
    }
   ],
   "source": [
    "print(len(bow_transformer.vocabulary_))"
   ]
  },
  {
   "cell_type": "code",
   "execution_count": 151,
   "metadata": {},
   "outputs": [],
   "source": [
    "comment35 = model_df['comment_text'][35]"
   ]
  },
  {
   "cell_type": "code",
   "execution_count": 152,
   "metadata": {},
   "outputs": [
    {
     "name": "stdout",
     "output_type": "stream",
     "text": [
      "Dear FCC,  I want to give my opinion on the FCC's so-called Open Internet order. I'd like to suggest the commissioners to repeal The previous administration's power grab to take over broadband. People like me, as opposed to Washington bureaucrats, ought to use the services we desire. The previous administration's power grab to take over broadband is a distortion of the open Internet. It reversed a pro-consumer approach that functioned remarkably well for a long time with both parties' approval.\n"
     ]
    }
   ],
   "source": [
    "print(comment35)"
   ]
  },
  {
   "cell_type": "code",
   "execution_count": 153,
   "metadata": {},
   "outputs": [],
   "source": [
    "bow35 = bow_transformer.transform([comment35])"
   ]
  },
  {
   "cell_type": "code",
   "execution_count": 154,
   "metadata": {
    "collapsed": true
   },
   "outputs": [
    {
     "name": "stdout",
     "output_type": "stream",
     "text": [
      "  (0, 54)\t1\n",
      "  (0, 65)\t1\n",
      "  (0, 66)\t1\n",
      "  (0, 88)\t1\n",
      "  (0, 93)\t2\n",
      "  (0, 128)\t1\n",
      "  (0, 137)\t1\n",
      "  (0, 202)\t1\n",
      "  (0, 233)\t2\n",
      "  (0, 270)\t1\n",
      "  (0, 274)\t1\n",
      "  (0, 344)\t2\n",
      "  (0, 352)\t1\n",
      "  (0, 412)\t1\n",
      "  (0, 512)\t1\n",
      "  (0, 549)\t1\n",
      "  (0, 713)\t1\n",
      "  (0, 727)\t1\n",
      "  (0, 736)\t2\n",
      "  (0, 874)\t2\n",
      "  (0, 886)\t1\n",
      "  (0, 988)\t1\n",
      "  (0, 991)\t1\n",
      "  (0, 995)\t1\n",
      "  (0, 1001)\t1\n",
      "  (0, 1005)\t1\n",
      "  (0, 1024)\t1\n",
      "  (0, 1071)\t2\n",
      "  (0, 1087)\t2\n",
      "  (0, 1105)\t1\n",
      "  (0, 1186)\t1\n",
      "  (0, 1191)\t1\n",
      "  (0, 1215)\t1\n",
      "  (0, 1259)\t1\n",
      "  (0, 1291)\t1\n",
      "  (0, 1341)\t1\n",
      "  (0, 1352)\t2\n",
      "  (0, 1385)\t1\n",
      "  (0, 1430)\t1\n",
      "  (0, 1455)\t1\n",
      "  (0, 1471)\t1\n"
     ]
    }
   ],
   "source": [
    "print(bow35)"
   ]
  },
  {
   "cell_type": "code",
   "execution_count": 155,
   "metadata": {},
   "outputs": [
    {
     "name": "stdout",
     "output_type": "stream",
     "text": [
      "(1, 1506)\n"
     ]
    }
   ],
   "source": [
    "print(bow35.shape)"
   ]
  },
  {
   "cell_type": "code",
   "execution_count": 156,
   "metadata": {},
   "outputs": [
    {
     "data": {
      "text/plain": [
       "'power'"
      ]
     },
     "execution_count": 156,
     "metadata": {},
     "output_type": "execute_result"
    }
   ],
   "source": [
    "bow_transformer.get_feature_names()[1071]"
   ]
  },
  {
   "cell_type": "code",
   "execution_count": 157,
   "metadata": {},
   "outputs": [],
   "source": [
    "#Term Frequence inverse Document Frequency\n",
    "comments_bow = bow_transformer.transform(model_df['comment_text'])"
   ]
  },
  {
   "cell_type": "code",
   "execution_count": 158,
   "metadata": {},
   "outputs": [
    {
     "name": "stdout",
     "output_type": "stream",
     "text": [
      "Shape of Sparse Matrix:  (400, 1506)\n"
     ]
    }
   ],
   "source": [
    "print('Shape of Sparse Matrix: ',comments_bow.shape)"
   ]
  },
  {
   "cell_type": "code",
   "execution_count": 159,
   "metadata": {},
   "outputs": [
    {
     "data": {
      "text/plain": [
       "20589"
      ]
     },
     "execution_count": 159,
     "metadata": {},
     "output_type": "execute_result"
    }
   ],
   "source": [
    "#number of non zero occurances\n",
    "comments_bow.nnz"
   ]
  },
  {
   "cell_type": "code",
   "execution_count": 160,
   "metadata": {},
   "outputs": [
    {
     "name": "stdout",
     "output_type": "stream",
     "text": [
      "sparsity : 3.4178286852589643\n"
     ]
    }
   ],
   "source": [
    "#check sparsity formula\n",
    "# non zero / (rows * columns)\n",
    "sparsity = (100.0 * comments_bow.nnz / (comments_bow.shape[0] * comments_bow.shape[1]))\n",
    "print('sparsity : {}'.format(sparsity))"
   ]
  },
  {
   "cell_type": "code",
   "execution_count": 161,
   "metadata": {},
   "outputs": [],
   "source": [
    "#Weight and normalization using transformer\n",
    "from sklearn.feature_extraction.text import TfidfTransformer"
   ]
  },
  {
   "cell_type": "code",
   "execution_count": 162,
   "metadata": {},
   "outputs": [],
   "source": [
    "#fit to bag of words\n",
    "tfidf_transformer = TfidfTransformer().fit(comments_bow)"
   ]
  },
  {
   "cell_type": "code",
   "execution_count": 163,
   "metadata": {},
   "outputs": [],
   "source": [
    "#transform for a single message\n",
    "tfidf35 = tfidf_transformer.transform(bow35)"
   ]
  },
  {
   "cell_type": "code",
   "execution_count": 164,
   "metadata": {
    "collapsed": true
   },
   "outputs": [
    {
     "name": "stdout",
     "output_type": "stream",
     "text": [
      "  (0, 1471)\t0.0779346928906\n",
      "  (0, 1455)\t0.101997762019\n",
      "  (0, 1430)\t0.142110263906\n",
      "  (0, 1385)\t0.121382597317\n",
      "  (0, 1352)\t0.237470921067\n",
      "  (0, 1341)\t0.148083587874\n",
      "  (0, 1291)\t0.144399491561\n",
      "  (0, 1259)\t0.0762552501572\n",
      "  (0, 1215)\t0.134951504838\n",
      "  (0, 1191)\t0.0857032368804\n",
      "  (0, 1186)\t0.152119058799\n",
      "  (0, 1105)\t0.155040244421\n",
      "  (0, 1087)\t0.286478816191\n",
      "  (0, 1071)\t0.262691778719\n",
      "  (0, 1024)\t0.132218918181\n",
      "  (0, 1005)\t0.150730724657\n",
      "  (0, 1001)\t0.127231937601\n",
      "  (0, 995)\t0.117471474199\n",
      "  (0, 991)\t0.190915172862\n",
      "  (0, 988)\t0.0923773090785\n",
      "  (0, 886)\t0.124942709946\n",
      "  (0, 874)\t0.129932172994\n",
      "  (0, 736)\t0.282020902959\n",
      "  (0, 727)\t0.15817800544\n",
      "  (0, 713)\t0.116853355224\n",
      "  (0, 549)\t0.13687639984\n",
      "  (0, 512)\t0.129652047579\n",
      "  (0, 412)\t0.146819601539\n",
      "  (0, 352)\t0.1288298781\n",
      "  (0, 344)\t0.238763782753\n",
      "  (0, 274)\t0.1288298781\n",
      "  (0, 270)\t0.0859982931112\n",
      "  (0, 233)\t0.286478816191\n",
      "  (0, 202)\t0.124942709946\n",
      "  (0, 137)\t0.152119058799\n",
      "  (0, 128)\t0.0959676281705\n",
      "  (0, 93)\t0.10813176377\n",
      "  (0, 88)\t0.118735460533\n",
      "  (0, 66)\t0.163369036525\n",
      "  (0, 65)\t0.0632016479553\n",
      "  (0, 54)\t0.112762136566\n"
     ]
    }
   ],
   "source": [
    "#gives a term freq inverse doc frequency, a weight value for each of these\n",
    "print(tfidf35)"
   ]
  },
  {
   "cell_type": "code",
   "execution_count": 165,
   "metadata": {},
   "outputs": [],
   "source": [
    "#convert entire BOW corpus into TFIDF corpus\n",
    "comments_tfidf = tfidf_transformer.transform(comments_bow)"
   ]
  },
  {
   "cell_type": "markdown",
   "metadata": {},
   "source": [
    "<div class=\"span5 alert alert-info\">\n",
    "<h3>Multinomial NB section<h3> </div>"
   ]
  },
  {
   "cell_type": "code",
   "execution_count": 166,
   "metadata": {},
   "outputs": [],
   "source": [
    "#with messages trained as numerical vectors we can train our real or fake classifer\n",
    "# we can use any Naive Bayes classifer to start:\n",
    "\n",
    "from sklearn.naive_bayes import MultinomialNB"
   ]
  },
  {
   "cell_type": "code",
   "execution_count": 167,
   "metadata": {},
   "outputs": [],
   "source": [
    "from sklearn.model_selection import train_test_split"
   ]
  },
  {
   "cell_type": "code",
   "execution_count": 168,
   "metadata": {},
   "outputs": [],
   "source": [
    "X = model_df['comment_text']\n",
    "y = model_df['fake']"
   ]
  },
  {
   "cell_type": "code",
   "execution_count": 169,
   "metadata": {},
   "outputs": [],
   "source": [
    "cv = CountVectorizer()"
   ]
  },
  {
   "cell_type": "code",
   "execution_count": 170,
   "metadata": {},
   "outputs": [],
   "source": [
    "X = cv.fit_transform(X)"
   ]
  },
  {
   "cell_type": "code",
   "execution_count": 171,
   "metadata": {},
   "outputs": [],
   "source": [
    "X_train, X_test, y_train, y_test = train_test_split(X, y,test_size=0.3,random_state=101)"
   ]
  },
  {
   "cell_type": "code",
   "execution_count": 172,
   "metadata": {},
   "outputs": [
    {
     "data": {
      "text/plain": [
       "MultinomialNB(alpha=1.0, class_prior=None, fit_prior=True)"
      ]
     },
     "execution_count": 172,
     "metadata": {},
     "output_type": "execute_result"
    }
   ],
   "source": [
    "nb = MultinomialNB()\n",
    "nb.fit(X_train,y_train)"
   ]
  },
  {
   "cell_type": "code",
   "execution_count": 173,
   "metadata": {},
   "outputs": [],
   "source": [
    "predictions = nb.predict(X_test)"
   ]
  },
  {
   "cell_type": "code",
   "execution_count": 174,
   "metadata": {},
   "outputs": [],
   "source": [
    "from sklearn.metrics import confusion_matrix,classification_report"
   ]
  },
  {
   "cell_type": "code",
   "execution_count": 194,
   "metadata": {},
   "outputs": [
    {
     "name": "stdout",
     "output_type": "stream",
     "text": [
      "[[16 11]\n",
      " [ 0 93]]\n",
      "             precision    recall  f1-score   support\n",
      "\n",
      "          0       1.00      0.59      0.74        27\n",
      "          1       0.89      1.00      0.94        93\n",
      "\n",
      "avg / total       0.92      0.91      0.90       120\n",
      "\n"
     ]
    }
   ],
   "source": [
    "print(confusion_matrix(y_test,predictions))\n",
    "print(classification_report(y_test,predictions))"
   ]
  },
  {
   "cell_type": "code",
   "execution_count": 192,
   "metadata": {},
   "outputs": [
    {
     "name": "stdout",
     "output_type": "stream",
     "text": [
      "AUC: 0.7962962962962963\n"
     ]
    }
   ],
   "source": [
    "# AUC score\n",
    "from sklearn.metrics import roc_auc_score\n",
    "print(\"AUC: {}\".format(roc_auc_score(y_test,predictions)))"
   ]
  },
  {
   "cell_type": "markdown",
   "metadata": {},
   "source": [
    "<div class=\"span5 alert alert-info\">\n",
    "<h3>In Progress on New Data Section section<h3> </div>"
   ]
  },
  {
   "cell_type": "markdown",
   "metadata": {},
   "source": [
    "Try out on new data"
   ]
  },
  {
   "cell_type": "code",
   "execution_count": 197,
   "metadata": {},
   "outputs": [],
   "source": [
    "df_FCC_text=df['comment_text']"
   ]
  },
  {
   "cell_type": "code",
   "execution_count": 206,
   "metadata": {},
   "outputs": [],
   "source": [
    "#some comments are not text but floats\n",
    "df_FCC_text = df_FCC_text.astype(str)"
   ]
  },
  {
   "cell_type": "code",
   "execution_count": null,
   "metadata": {},
   "outputs": [],
   "source": [
    "#create bag of words\n",
    "bow_transformer_real = CountVectorizer(analyzer=text_process).fit(df_FCC_text)"
   ]
  },
  {
   "cell_type": "code",
   "execution_count": null,
   "metadata": {},
   "outputs": [],
   "source": [
    "length_read =df_FCC_real.apply(len)"
   ]
  },
  {
   "cell_type": "code",
   "execution_count": 133,
   "metadata": {},
   "outputs": [
    {
     "data": {
      "text/html": [
       "<div>\n",
       "<style>\n",
       "    .dataframe thead tr:only-child th {\n",
       "        text-align: right;\n",
       "    }\n",
       "\n",
       "    .dataframe thead th {\n",
       "        text-align: left;\n",
       "    }\n",
       "\n",
       "    .dataframe tbody tr th {\n",
       "        vertical-align: top;\n",
       "    }\n",
       "</style>\n",
       "<table border=\"1\" class=\"dataframe\">\n",
       "  <thead>\n",
       "    <tr style=\"text-align: right;\">\n",
       "      <th></th>\n",
       "      <th>comment_text</th>\n",
       "      <th>length</th>\n",
       "    </tr>\n",
       "  </thead>\n",
       "  <tbody>\n",
       "    <tr>\n",
       "      <th>0</th>\n",
       "      <td>Dear Chairman Pai,  I'm contacting you about r...</td>\n",
       "      <td>437</td>\n",
       "    </tr>\n",
       "    <tr>\n",
       "      <th>1</th>\n",
       "      <td>Chairman Pai:  My comments re: net neutrality ...</td>\n",
       "      <td>454</td>\n",
       "    </tr>\n",
       "  </tbody>\n",
       "</table>\n",
       "</div>"
      ],
      "text/plain": [
       "                                        comment_text  length\n",
       "0  Dear Chairman Pai,  I'm contacting you about r...     437\n",
       "1  Chairman Pai:  My comments re: net neutrality ...     454"
      ]
     },
     "execution_count": 133,
     "metadata": {},
     "output_type": "execute_result"
    }
   ],
   "source": [
    "model_df[['comment_text','length']].head(2)"
   ]
  },
  {
   "cell_type": "code",
   "execution_count": null,
   "metadata": {},
   "outputs": [],
   "source": [
    "#X_real = cv.fit_transform(df_FCC_text)"
   ]
  },
  {
   "cell_type": "code",
   "execution_count": null,
   "metadata": {},
   "outputs": [],
   "source": []
  }
 ],
 "metadata": {
  "kernelspec": {
   "display_name": "Python 3",
   "language": "python",
   "name": "python3"
  },
  "language_info": {
   "codemirror_mode": {
    "name": "ipython",
    "version": 3
   },
   "file_extension": ".py",
   "mimetype": "text/x-python",
   "name": "python",
   "nbconvert_exporter": "python",
   "pygments_lexer": "ipython3",
   "version": "3.6.3"
  }
 },
 "nbformat": 4,
 "nbformat_minor": 2
}
