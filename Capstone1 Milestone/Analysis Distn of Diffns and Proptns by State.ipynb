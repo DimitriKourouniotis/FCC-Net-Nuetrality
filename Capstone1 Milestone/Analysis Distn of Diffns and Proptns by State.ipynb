{
 "cells": [
  {
   "cell_type": "markdown",
   "metadata": {},
   "source": [
    "## Analysis of the Distributions of Differences and Proportions by State\n",
    "## FCC Net Neutrality Comments\n",
    "### by Dimitri Kourouniotis\n"
   ]
  },
  {
   "cell_type": "markdown",
   "metadata": {},
   "source": [
    "My exploration below shows that there is something statistically out of the norm about the distribution of the comments filed not being consistent with the distribution of the population.   "
   ]
  },
  {
   "cell_type": "markdown",
   "metadata": {},
   "source": [
    "A sample of 3 million FCC Net Nuetrality comments were taken from the 22 million submitted. The data was cleaned to allocate as many comments as possible to their respective state through the zip code field in the address field. Some fraudulent ones were uncovered for example: \n",
    "* an IP address was provided instead of a zip code (in these instances the email address is 'netsparker@example.com' and the city of Chicago is situated in the state of Virgina)\n",
    "* a valid zipcode appeared in the freeform text field 'internationaladdressentity' field but the city was omitted, something native residents would not do. In addition to a superfluous addition of \"United States of America\" where it is not required\n",
    "* instances where a field would be NULL instead of simply blank yeilded a valid zipcode and city, but fake street address - it has already been reported in the press that hundreds of these appeared to posted at the exact identical time "
   ]
  },
  {
   "cell_type": "markdown",
   "metadata": {},
   "source": [
    "Once comments where attributed to their states, I imported census data for the 2016 population estimates of each state and DC. With this I created a dataframe with the: \n",
    "* % US Population in Each State \n",
    "* % of Total Comments by State\n",
    "* % of Comments to State Population \n",
    "* Difference between % US Population and % of Total Comments.  "
   ]
  },
  {
   "cell_type": "code",
   "execution_count": 1,
   "metadata": {},
   "outputs": [],
   "source": [
    "#import \n",
    "import pandas as pd\n",
    "import numpy as np\n",
    "from scipy import stats"
   ]
  },
  {
   "cell_type": "code",
   "execution_count": 2,
   "metadata": {},
   "outputs": [],
   "source": [
    "#visualization imports\n",
    "import matplotlib.pyplot as plt\n",
    "import seaborn as sns\n",
    "%matplotlib inline"
   ]
  },
  {
   "cell_type": "code",
   "execution_count": 3,
   "metadata": {},
   "outputs": [],
   "source": [
    "df = pd.read_csv('FCC_pop_comments_perc2.csv')"
   ]
  },
  {
   "cell_type": "code",
   "execution_count": 67,
   "metadata": {},
   "outputs": [
    {
     "data": {
      "text/html": [
       "<div>\n",
       "<style>\n",
       "    .dataframe thead tr:only-child th {\n",
       "        text-align: right;\n",
       "    }\n",
       "\n",
       "    .dataframe thead th {\n",
       "        text-align: left;\n",
       "    }\n",
       "\n",
       "    .dataframe tbody tr th {\n",
       "        vertical-align: top;\n",
       "    }\n",
       "</style>\n",
       "<table border=\"1\" class=\"dataframe\">\n",
       "  <thead>\n",
       "    <tr style=\"text-align: right;\">\n",
       "      <th></th>\n",
       "      <th>POPESTIMATE2016</th>\n",
       "      <th>perc_pop_of_nation</th>\n",
       "      <th>name</th>\n",
       "      <th>filers</th>\n",
       "      <th>perc_comments_of_total</th>\n",
       "      <th>perc_comments_to_state</th>\n",
       "      <th>diff_perc_pop_comments</th>\n",
       "    </tr>\n",
       "  </thead>\n",
       "  <tbody>\n",
       "    <tr>\n",
       "      <th>0</th>\n",
       "      <td>4863300</td>\n",
       "      <td>1.51</td>\n",
       "      <td>Alabama</td>\n",
       "      <td>34193.0</td>\n",
       "      <td>1.47</td>\n",
       "      <td>0.70</td>\n",
       "      <td>0.04</td>\n",
       "    </tr>\n",
       "    <tr>\n",
       "      <th>1</th>\n",
       "      <td>741894</td>\n",
       "      <td>0.23</td>\n",
       "      <td>Alaska</td>\n",
       "      <td>5305.0</td>\n",
       "      <td>0.23</td>\n",
       "      <td>0.72</td>\n",
       "      <td>0.00</td>\n",
       "    </tr>\n",
       "  </tbody>\n",
       "</table>\n",
       "</div>"
      ],
      "text/plain": [
       "   POPESTIMATE2016  perc_pop_of_nation     name   filers  \\\n",
       "0          4863300                1.51  Alabama  34193.0   \n",
       "1           741894                0.23   Alaska   5305.0   \n",
       "\n",
       "   perc_comments_of_total  perc_comments_to_state  diff_perc_pop_comments  \n",
       "0                    1.47                    0.70                    0.04  \n",
       "1                    0.23                    0.72                    0.00  "
      ]
     },
     "execution_count": 67,
     "metadata": {},
     "output_type": "execute_result"
    }
   ],
   "source": [
    "df.head(2)"
   ]
  },
  {
   "cell_type": "markdown",
   "metadata": {},
   "source": [
    "    "
   ]
  },
  {
   "cell_type": "markdown",
   "metadata": {},
   "source": [
    "## The proportion of comments in each state to its population should be similar across the country\n",
    "### H<sub>0</sub> Null Hypothesis: the distribution of proportions from each state is normal\n",
    "### H<sub>1</sub> Alternative Hypothesis: the distribution of proportions from each state is not normal"
   ]
  },
  {
   "cell_type": "code",
   "execution_count": 68,
   "metadata": {},
   "outputs": [
    {
     "data": {
      "text/plain": [
       "<matplotlib.axes._subplots.AxesSubplot at 0x22a89871f28>"
      ]
     },
     "execution_count": 68,
     "metadata": {},
     "output_type": "execute_result"
    },
    {
     "data": {
      "image/png": "[encoded data removed]",
      "text/plain": [
       "<matplotlib.figure.Figure at 0x22a883fa940>"
      ]
     },
     "metadata": {},
     "output_type": "display_data"
    }
   ],
   "source": [
    "#within each state proportion of comments to population should be normally distributed\n",
    "sns.distplot(df['perc_comments_to_state'],color='Orange')"
   ]
  },
  {
   "cell_type": "code",
   "execution_count": 16,
   "metadata": {},
   "outputs": [
    {
     "data": {
      "text/plain": [
       "count    51.000000\n",
       "mean      0.731569\n",
       "std       0.122676\n",
       "min       0.560000\n",
       "25%       0.650000\n",
       "50%       0.710000\n",
       "75%       0.770000\n",
       "max       1.280000\n",
       "Name: perc_comments_to_state, dtype: float64"
      ]
     },
     "execution_count": 16,
     "metadata": {},
     "output_type": "execute_result"
    }
   ],
   "source": [
    "s = pd.Series(df['perc_comments_to_state'])\n",
    "s.describe()"
   ]
  },
  {
   "cell_type": "code",
   "execution_count": 62,
   "metadata": {},
   "outputs": [
    {
     "name": "stdout",
     "output_type": "stream",
     "text": [
      "alpha = 0.001\n",
      "p = 1.66366e-08\n",
      "The null hypothesis CAN be rejected\n"
     ]
    }
   ],
   "source": [
    "#Test the normal distribution hypothesis from the Population Size = 51 (DC+50 states)\n",
    "k2, p = stats.normaltest(df['perc_comments_to_state'])\n",
    "alpha = 1e-3\n",
    "print(\"alpha = {:g}\".format(alpha))\n",
    "print(\"p = {:g}\".format(p))\n",
    "if p < alpha:  # null hypothesis: x comes from a normal distribution\n",
    "     print(\"The null hypothesis CAN be rejected\")\n",
    "else:\n",
    "     print(\"The null hypothesis CANNOT be rejected\")\n"
   ]
  },
  {
   "cell_type": "markdown",
   "metadata": {},
   "source": [
    " "
   ]
  },
  {
   "cell_type": "markdown",
   "metadata": {},
   "source": [
    "## The proportion of comments from each state relative to the population proportion should be similar \n",
    "## Like the previous hypothesis but looking at it from a different angle\n",
    "### H<sub>0</sub> Null Hypothesis: the distribution of comment proportions by state of is Normal\n",
    "### H<sub>1</sub> Alternative Hypothesis: the distribution of proportions from each state is not Normal"
   ]
  },
  {
   "cell_type": "code",
   "execution_count": 69,
   "metadata": {},
   "outputs": [
    {
     "data": {
      "text/plain": [
       "<matplotlib.axes._subplots.AxesSubplot at 0x22a89d07b70>"
      ]
     },
     "execution_count": 69,
     "metadata": {},
     "output_type": "execute_result"
    },
    {
     "data": {
      "image/png": "[encoded data removed]",
      "text/plain": [
       "<matplotlib.figure.Figure at 0x22a883faf98>"
      ]
     },
     "metadata": {},
     "output_type": "display_data"
    }
   ],
   "source": [
    "#The proportion of comments attributed to each state should be proportional to the population\n",
    "#The difference in that proportion should be normally distributed\n",
    "sns.distplot(df['diff_perc_pop_comments'],color='Green')"
   ]
  },
  {
   "cell_type": "code",
   "execution_count": 17,
   "metadata": {},
   "outputs": [
    {
     "data": {
      "text/plain": [
       "count    51.000000\n",
       "mean     -0.000196\n",
       "std       0.351571\n",
       "min      -0.980000\n",
       "25%      -0.070000\n",
       "50%       0.030000\n",
       "75%       0.075000\n",
       "max       1.840000\n",
       "Name: diff_perc_pop_comments, dtype: float64"
      ]
     },
     "execution_count": 17,
     "metadata": {},
     "output_type": "execute_result"
    }
   ],
   "source": [
    "s = pd.Series(df['diff_perc_pop_comments'])\n",
    "s.describe()"
   ]
  },
  {
   "cell_type": "code",
   "execution_count": 63,
   "metadata": {},
   "outputs": [
    {
     "name": "stdout",
     "output_type": "stream",
     "text": [
      "alpha = 0.001\n",
      "p = 1.01365e-11\n",
      "The null hypothesis CAN be rejected\n"
     ]
    }
   ],
   "source": [
    "#Test the normal distribution hypothesis from the Population Size = 51 (DC+50 states)\n",
    "k2, p = stats.normaltest(df['diff_perc_pop_comments'])\n",
    "alpha = 1e-3\n",
    "print(\"alpha = {:g}\".format(alpha))\n",
    "print(\"p = {:g}\".format(p))\n",
    "if p < alpha:  # null hypothesis: x comes from a normal distribution\n",
    "     print(\"The null hypothesis CAN be rejected\")\n",
    "else:\n",
    "     print(\"The null hypothesis CANNOT be rejected\")\n"
   ]
  },
  {
   "cell_type": "code",
   "execution_count": null,
   "metadata": {},
   "outputs": [],
   "source": []
  }
 ],
 "metadata": {
  "kernelspec": {
   "display_name": "Python 3",
   "language": "python",
   "name": "python3"
  },
  "language_info": {
   "codemirror_mode": {
    "name": "ipython",
    "version": 3
   },
   "file_extension": ".py",
   "mimetype": "text/x-python",
   "name": "python",
   "nbconvert_exporter": "python",
   "pygments_lexer": "ipython3",
   "version": "3.6.3"
  }
 },
 "nbformat": 4,
 "nbformat_minor": 2
}
