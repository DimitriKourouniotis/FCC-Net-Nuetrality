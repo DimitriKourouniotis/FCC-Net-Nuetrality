{
 "cells": [
  {
   "cell_type": "markdown",
   "metadata": {},
   "source": [
    "Count of First Sentence in comments"
   ]
  },
  {
   "cell_type": "code",
   "execution_count": 24,
   "metadata": {},
   "outputs": [],
   "source": [
    "4. #Seperate out first sentence mark as duplicate or not if >2\n",
    "def first_sentence (x):\n",
    "    \"\"\"Removes first Sentence\"\"\"\n",
    "    z = str(x).split('.')\n",
    "    if len(z) == 1:\n",
    "        return None\n",
    "    else:\n",
    "        return z[0] \n",
    "\n",
    "df['first_sentence'] = df['comment_text'].apply(first_sentence)    \n",
    "#count first sentences for multiples    \n",
    "df['first_sentence_freq'] = df.groupby('first_sentence')['first_sentence'].transform('count')   "
   ]
  },
  {
   "cell_type": "code",
   "execution_count": 32,
   "metadata": {
    "collapsed": true
   },
   "outputs": [
    {
     "data": {
      "text/plain": [
       "The FCC's Open Internet Rules (net neutrality rules) are extremely important to me                                                                                                               410727\n",
       "I strongly oppose Chairman Pai&apos;s proposal to reverse net neutrality protections because a free and open internet is vital for our democracy, for our businesses, and for our daily lives    296941\n",
       "The unprecedented regulatory power the Obama Administration imposed on the internet is smothering innovation, damaging the American economy and obstructing job creation                         176258\n",
       "Cable and phone companies provide access to the internet                                                                                                                                          13862\n",
       "I support Chairman Ajit Pai?s rollback of Obama?s internet takeover                                                                                                                                5555\n",
       "Name: first_sentence, dtype: int64"
      ]
     },
     "execution_count": 32,
     "metadata": {},
     "output_type": "execute_result"
    }
   ],
   "source": [
    "df.first_sentence.value_counts().head(5)"
   ]
  },
  {
   "cell_type": "code",
   "execution_count": 26,
   "metadata": {},
   "outputs": [],
   "source": [
    "# filer name frequency.. what counts as too high?\n",
    "df['filers_freq'] = df.groupby('filers')['filers'].transform('count') "
   ]
  },
  {
   "cell_type": "code",
   "execution_count": 31,
   "metadata": {
    "collapsed": true
   },
   "outputs": [
    {
     "data": {
      "text/plain": [
       "[{\"name\":\"Net Neutrality\"}]    1834\n",
       "[{\"name\":\"Margie Garman\"}]     1293\n",
       "[{\"name\":\"Pat M\"}]              898\n",
       "[{\"name\":\"net neutrality\"}]     807\n",
       "[{\"name\":\"Michael\"}]            502\n",
       "Name: filers, dtype: int64"
      ]
     },
     "execution_count": 31,
     "metadata": {},
     "output_type": "execute_result"
    }
   ],
   "source": [
    "df.filers.value_counts().head(5)"
   ]
  },
  {
   "cell_type": "code",
   "execution_count": 33,
   "metadata": {
    "collapsed": true
   },
   "outputs": [
    {
     "data": {
      "text/plain": [
       "fcctest@mailinator.com      174\n",
       "zoeprice.moon@gmail.com      63\n",
       "airagorncharda@yahoo.com     61\n",
       "angelsggrandma@yahoo.com     46\n",
       "starstrider@q.com            43\n",
       "Name: contact_email, dtype: int64"
      ]
     },
     "execution_count": 33,
     "metadata": {},
     "output_type": "execute_result"
    }
   ],
   "source": [
    "df.contact_email.value_counts().head(5)"
   ]
  },
  {
   "cell_type": "markdown",
   "metadata": {},
   "source": [
    "#Wrangle Dataset for Logistic Regression"
   ]
  },
  {
   "cell_type": "code",
   "execution_count": 2,
   "metadata": {},
   "outputs": [],
   "source": [
    "#imports\n",
    "import pandas as pd"
   ]
  },
  {
   "cell_type": "code",
   "execution_count": 3,
   "metadata": {},
   "outputs": [
    {
     "name": "stderr",
     "output_type": "stream",
     "text": [
      "C:\\ProgramData\\Anaconda3\\lib\\site-packages\\IPython\\core\\interactiveshell.py:2698: DtypeWarning: Columns (5,11,12) have mixed types. Specify dtype option on import or set low_memory=False.\n",
      "  interactivity=interactivity, compiler=compiler, result=result)\n"
     ]
    }
   ],
   "source": [
    "#Read in Data\n",
    "df = pd.read_csv('FCC_US_commentstext_datefreq.csv',encoding = 'latin-1')"
   ]
  },
  {
   "cell_type": "markdown",
   "metadata": {},
   "source": [
    "#Already have 400 test and train data marked with Fake/True Flag\n",
    "#merge 4 datasets into 1"
   ]
  },
  {
   "cell_type": "code",
   "execution_count": 36,
   "metadata": {},
   "outputs": [],
   "source": [
    "#read in test and training data - graded data\n",
    "df1 = pd.read_csv('FCC_df_zip5_end.csv')\n",
    "df2 = pd.read_csv('FCC_df_zip5.csv')\n",
    "df3 = pd.read_csv('FCC_df_zip5_mid.csv')\n",
    "df4 = pd.read_csv('FCC_df_badzip.csv')\n",
    "\n",
    "data = pd.concat([df1,df2,df3,df4])"
   ]
  },
  {
   "cell_type": "code",
   "execution_count": 39,
   "metadata": {
    "collapsed": true
   },
   "outputs": [
    {
     "name": "stdout",
     "output_type": "stream",
     "text": [
      "<class 'pandas.core.frame.DataFrame'>\n",
      "Int64Index: 400 entries, 0 to 99\n",
      "Data columns (total 15 columns):\n",
      "id                            400 non-null object\n",
      "date_submission               400 non-null object\n",
      "contact_email                 389 non-null object\n",
      "confirmation_number           400 non-null float64\n",
      "text_data                     397 non-null object\n",
      "index                         400 non-null object\n",
      "filers                        400 non-null object\n",
      "addressentity                 400 non-null object\n",
      "internationaladdressentity    400 non-null object\n",
      "address_line_1                400 non-null object\n",
      "city                          400 non-null object\n",
      "state                         400 non-null object\n",
      "zip_code                      400 non-null object\n",
      "international_address_text    0 non-null float64\n",
      "fake                          400 non-null int64\n",
      "dtypes: float64(2), int64(1), object(12)\n",
      "memory usage: 50.0+ KB\n"
     ]
    }
   ],
   "source": [
    "data.info()"
   ]
  },
  {
   "cell_type": "code",
   "execution_count": 106,
   "metadata": {},
   "outputs": [
    {
     "data": {
      "text/html": [
       "<div>\n",
       "<style>\n",
       "    .dataframe thead tr:only-child th {\n",
       "        text-align: right;\n",
       "    }\n",
       "\n",
       "    .dataframe thead th {\n",
       "        text-align: left;\n",
       "    }\n",
       "\n",
       "    .dataframe tbody tr th {\n",
       "        vertical-align: top;\n",
       "    }\n",
       "</style>\n",
       "<table border=\"1\" class=\"dataframe\">\n",
       "  <thead>\n",
       "    <tr style=\"text-align: right;\">\n",
       "      <th></th>\n",
       "      <th>id</th>\n",
       "      <th>date_submission</th>\n",
       "      <th>contact_email</th>\n",
       "      <th>confirmation_number</th>\n",
       "      <th>comment_text</th>\n",
       "      <th>index</th>\n",
       "      <th>filers</th>\n",
       "      <th>addressentity</th>\n",
       "      <th>internationaladdressentity</th>\n",
       "      <th>address_line_1</th>\n",
       "      <th>city</th>\n",
       "      <th>state</th>\n",
       "      <th>zip_code</th>\n",
       "      <th>international_address_text</th>\n",
       "      <th>fake</th>\n",
       "      <th>date_test</th>\n",
       "      <th>intl_fake_zip</th>\n",
       "    </tr>\n",
       "  </thead>\n",
       "  <tbody>\n",
       "    <tr>\n",
       "      <th>0</th>\n",
       "      <td>59f88aa650b733300fe2da17</td>\n",
       "      <td>2017-05-25T16:25:26.831Z</td>\n",
       "      <td>bobbywego@gmail.com</td>\n",
       "      <td>2.017050e+15</td>\n",
       "      <td>I am deeply concerned over the Notice of Propo...</td>\n",
       "      <td>filings.2017.5</td>\n",
       "      <td>[{\"name\":\"Robert Wengronowitz\"}]</td>\n",
       "      <td>{'city': 'Davenport', 'address_line_1': '2514 ...</td>\n",
       "      <td>{'addresstext': ''}</td>\n",
       "      <td>2514 E. 18th St.</td>\n",
       "      <td>Davenport</td>\n",
       "      <td>IA</td>\n",
       "      <td>52803</td>\n",
       "      <td>NaN</td>\n",
       "      <td>0</td>\n",
       "      <td>2017-05-25 16:25:26</td>\n",
       "      <td>0</td>\n",
       "    </tr>\n",
       "    <tr>\n",
       "      <th>1</th>\n",
       "      <td>59f88aa650b733300fe2da18</td>\n",
       "      <td>2017-05-25T16:25:42.688Z</td>\n",
       "      <td>ganriel.thomason@gmail.com</td>\n",
       "      <td>2.017050e+16</td>\n",
       "      <td>The FCC should safeguard Internet freedom by k...</td>\n",
       "      <td>filings.2017.5</td>\n",
       "      <td>[{\"name\":\"Gabriel Thomason\"}]</td>\n",
       "      <td>{'city': 'Warner Robins', 'address_line_1': '1...</td>\n",
       "      <td>{'addresstext': ''}</td>\n",
       "      <td>123 SRingwood Dr.</td>\n",
       "      <td>Warner Robins</td>\n",
       "      <td>GA</td>\n",
       "      <td>31088</td>\n",
       "      <td>NaN</td>\n",
       "      <td>0</td>\n",
       "      <td>2017-05-25 16:25:42</td>\n",
       "      <td>0</td>\n",
       "    </tr>\n",
       "  </tbody>\n",
       "</table>\n",
       "</div>"
      ],
      "text/plain": [
       "                         id           date_submission  \\\n",
       "0  59f88aa650b733300fe2da17  2017-05-25T16:25:26.831Z   \n",
       "1  59f88aa650b733300fe2da18  2017-05-25T16:25:42.688Z   \n",
       "\n",
       "                contact_email  confirmation_number  \\\n",
       "0         bobbywego@gmail.com         2.017050e+15   \n",
       "1  ganriel.thomason@gmail.com         2.017050e+16   \n",
       "\n",
       "                                        comment_text           index  \\\n",
       "0  I am deeply concerned over the Notice of Propo...  filings.2017.5   \n",
       "1  The FCC should safeguard Internet freedom by k...  filings.2017.5   \n",
       "\n",
       "                             filers  \\\n",
       "0  [{\"name\":\"Robert Wengronowitz\"}]   \n",
       "1     [{\"name\":\"Gabriel Thomason\"}]   \n",
       "\n",
       "                                       addressentity  \\\n",
       "0  {'city': 'Davenport', 'address_line_1': '2514 ...   \n",
       "1  {'city': 'Warner Robins', 'address_line_1': '1...   \n",
       "\n",
       "  internationaladdressentity     address_line_1           city state zip_code  \\\n",
       "0        {'addresstext': ''}   2514 E. 18th St.      Davenport    IA    52803   \n",
       "1        {'addresstext': ''}  123 SRingwood Dr.  Warner Robins    GA    31088   \n",
       "\n",
       "   international_address_text  fake           date_test  intl_fake_zip  \n",
       "0                         NaN     0 2017-05-25 16:25:26              0  \n",
       "1                         NaN     0 2017-05-25 16:25:42              0  "
      ]
     },
     "execution_count": 106,
     "metadata": {},
     "output_type": "execute_result"
    }
   ],
   "source": [
    "#explore concatonated graded data\n",
    "data.head(2)"
   ]
  },
  {
   "cell_type": "code",
   "execution_count": 96,
   "metadata": {},
   "outputs": [],
   "source": [
    "data=data.rename(columns = {'text_data':'comment_text'})"
   ]
  },
  {
   "cell_type": "code",
   "execution_count": 105,
   "metadata": {},
   "outputs": [],
   "source": [
    "#add intl fake zip column to match full dataset (where zip code was extracted from suspicious address)\n",
    "data['intl_fake_zip']=0"
   ]
  },
  {
   "cell_type": "code",
   "execution_count": 107,
   "metadata": {},
   "outputs": [],
   "source": [
    "#add model column \n",
    "data['model']=1"
   ]
  },
  {
   "cell_type": "code",
   "execution_count": 119,
   "metadata": {},
   "outputs": [
    {
     "data": {
      "text/plain": [
       "Index(['id', 'date_submission', 'contact_email', 'confirmation_number',\n",
       "       'comment_text', 'index', 'filers', 'addressentity',\n",
       "       'internationaladdressentity', 'address_line_1', 'city', 'state',\n",
       "       'zip_code', 'international_address_text', 'fake', 'date_test',\n",
       "       'intl_fake_zip', 'model'],\n",
       "      dtype='object')"
      ]
     },
     "execution_count": 119,
     "metadata": {},
     "output_type": "execute_result"
    }
   ],
   "source": [
    "data.columns"
   ]
  },
  {
   "cell_type": "code",
   "execution_count": 139,
   "metadata": {},
   "outputs": [],
   "source": [
    "model_df = data[['id', 'date_submission', 'contact_email',  \\\n",
    "       'comment_text', 'index', 'filers', \\\n",
    "       'internationaladdressentity', 'fake', 'date_test',\\\n",
    "       'intl_fake_zip', 'model']]"
   ]
  },
  {
   "cell_type": "code",
   "execution_count": 140,
   "metadata": {},
   "outputs": [
    {
     "data": {
      "text/html": [
       "<div>\n",
       "<style>\n",
       "    .dataframe thead tr:only-child th {\n",
       "        text-align: right;\n",
       "    }\n",
       "\n",
       "    .dataframe thead th {\n",
       "        text-align: left;\n",
       "    }\n",
       "\n",
       "    .dataframe tbody tr th {\n",
       "        vertical-align: top;\n",
       "    }\n",
       "</style>\n",
       "<table border=\"1\" class=\"dataframe\">\n",
       "  <thead>\n",
       "    <tr style=\"text-align: right;\">\n",
       "      <th></th>\n",
       "      <th>id</th>\n",
       "      <th>date_submission</th>\n",
       "      <th>contact_email</th>\n",
       "      <th>comment_text</th>\n",
       "      <th>index</th>\n",
       "      <th>filers</th>\n",
       "      <th>internationaladdressentity</th>\n",
       "      <th>fake</th>\n",
       "      <th>date_test</th>\n",
       "      <th>intl_fake_zip</th>\n",
       "      <th>model</th>\n",
       "    </tr>\n",
       "  </thead>\n",
       "  <tbody>\n",
       "    <tr>\n",
       "      <th>0</th>\n",
       "      <td>59f88aa650b733300fe2da17</td>\n",
       "      <td>2017-05-25T16:25:26.831Z</td>\n",
       "      <td>bobbywego@gmail.com</td>\n",
       "      <td>I am deeply concerned over the Notice of Propo...</td>\n",
       "      <td>filings.2017.5</td>\n",
       "      <td>[{\"name\":\"Robert Wengronowitz\"}]</td>\n",
       "      <td>{'addresstext': ''}</td>\n",
       "      <td>0</td>\n",
       "      <td>2017-05-25 16:25:26</td>\n",
       "      <td>0</td>\n",
       "      <td>1</td>\n",
       "    </tr>\n",
       "    <tr>\n",
       "      <th>1</th>\n",
       "      <td>59f88aa650b733300fe2da18</td>\n",
       "      <td>2017-05-25T16:25:42.688Z</td>\n",
       "      <td>ganriel.thomason@gmail.com</td>\n",
       "      <td>The FCC should safeguard Internet freedom by k...</td>\n",
       "      <td>filings.2017.5</td>\n",
       "      <td>[{\"name\":\"Gabriel Thomason\"}]</td>\n",
       "      <td>{'addresstext': ''}</td>\n",
       "      <td>0</td>\n",
       "      <td>2017-05-25 16:25:42</td>\n",
       "      <td>0</td>\n",
       "      <td>1</td>\n",
       "    </tr>\n",
       "  </tbody>\n",
       "</table>\n",
       "</div>"
      ],
      "text/plain": [
       "                         id           date_submission  \\\n",
       "0  59f88aa650b733300fe2da17  2017-05-25T16:25:26.831Z   \n",
       "1  59f88aa650b733300fe2da18  2017-05-25T16:25:42.688Z   \n",
       "\n",
       "                contact_email  \\\n",
       "0         bobbywego@gmail.com   \n",
       "1  ganriel.thomason@gmail.com   \n",
       "\n",
       "                                        comment_text           index  \\\n",
       "0  I am deeply concerned over the Notice of Propo...  filings.2017.5   \n",
       "1  The FCC should safeguard Internet freedom by k...  filings.2017.5   \n",
       "\n",
       "                             filers internationaladdressentity  fake  \\\n",
       "0  [{\"name\":\"Robert Wengronowitz\"}]        {'addresstext': ''}     0   \n",
       "1     [{\"name\":\"Gabriel Thomason\"}]        {'addresstext': ''}     0   \n",
       "\n",
       "            date_test  intl_fake_zip  model  \n",
       "0 2017-05-25 16:25:26              0      1  \n",
       "1 2017-05-25 16:25:42              0      1  "
      ]
     },
     "execution_count": 140,
     "metadata": {},
     "output_type": "execute_result"
    }
   ],
   "source": [
    "model_df.head(2)"
   ]
  },
  {
   "cell_type": "markdown",
   "metadata": {},
   "source": [
    "--\n",
    "make some edits to full dataset"
   ]
  },
  {
   "cell_type": "code",
   "execution_count": 117,
   "metadata": {},
   "outputs": [],
   "source": [
    "df['model']=0"
   ]
  },
  {
   "cell_type": "code",
   "execution_count": 94,
   "metadata": {},
   "outputs": [],
   "source": [
    "# to merge both data sets- remove 'State_Abbreviation Column from full data\n",
    "df_full.drop('State_Abbreviation',axis=1,inplace=True)"
   ]
  },
  {
   "cell_type": "code",
   "execution_count": 111,
   "metadata": {},
   "outputs": [],
   "source": [
    "df.drop('renamed_text_data',axis=1,inplace=True)"
   ]
  },
  {
   "cell_type": "code",
   "execution_count": 112,
   "metadata": {},
   "outputs": [],
   "source": [
    "df.drop('text_data',axis=1,inplace=True)"
   ]
  },
  {
   "cell_type": "code",
   "execution_count": null,
   "metadata": {},
   "outputs": [],
   "source": []
  },
  {
   "cell_type": "code",
   "execution_count": 91,
   "metadata": {},
   "outputs": [],
   "source": [
    "data['date_test']= pd.to_datetime(data['date_submission'])\n",
    "data['date_test']= data['date_test'].values.astype('datetime64[s]')"
   ]
  },
  {
   "cell_type": "code",
   "execution_count": 83,
   "metadata": {},
   "outputs": [],
   "source": [
    "#select a cell's contents\n",
    "#df[df.id=='59f88aa650b733300fe2da18'].text_data.item()"
   ]
  },
  {
   "cell_type": "code",
   "execution_count": 108,
   "metadata": {},
   "outputs": [],
   "source": [
    "#select a random sample from the dataset\n",
    "#df.sample(n=400)"
   ]
  },
  {
   "cell_type": "code",
   "execution_count": 115,
   "metadata": {},
   "outputs": [
    {
     "data": {
      "text/html": [
       "<div>\n",
       "<style>\n",
       "    .dataframe thead tr:only-child th {\n",
       "        text-align: right;\n",
       "    }\n",
       "\n",
       "    .dataframe thead th {\n",
       "        text-align: left;\n",
       "    }\n",
       "\n",
       "    .dataframe tbody tr th {\n",
       "        vertical-align: top;\n",
       "    }\n",
       "</style>\n",
       "<table border=\"1\" class=\"dataframe\">\n",
       "  <thead>\n",
       "    <tr style=\"text-align: right;\">\n",
       "      <th></th>\n",
       "      <th>State_Abbreviation</th>\n",
       "      <th>id</th>\n",
       "      <th>date_submission</th>\n",
       "      <th>contact_email</th>\n",
       "      <th>index</th>\n",
       "      <th>internationaladdressentity</th>\n",
       "      <th>filers</th>\n",
       "      <th>intl_fake_zip</th>\n",
       "      <th>date_test</th>\n",
       "      <th>freq_time</th>\n",
       "      <th>comment_text</th>\n",
       "      <th>email_freq</th>\n",
       "      <th>repeated_email</th>\n",
       "      <th>email_upper</th>\n",
       "      <th>repeated_time</th>\n",
       "      <th>first_sentence</th>\n",
       "      <th>first_sentence_freq</th>\n",
       "      <th>filers_freq</th>\n",
       "      <th>filers_name_freq</th>\n",
       "      <th>flag_intl_fake_zip</th>\n",
       "    </tr>\n",
       "  </thead>\n",
       "  <tbody>\n",
       "    <tr>\n",
       "      <th>0</th>\n",
       "      <td>IA</td>\n",
       "      <td>59f8b2bb50b733300f069dce</td>\n",
       "      <td>2017-07-11T15:53:55.588Z</td>\n",
       "      <td>LINDAKUNZE88@GMAIL.COM</td>\n",
       "      <td>filings.2017.7</td>\n",
       "      <td>NaN</td>\n",
       "      <td>[{\"name\":\"Linda Kunze\"}]</td>\n",
       "      <td>NaN</td>\n",
       "      <td>2017-07-11 15:53:55</td>\n",
       "      <td>12</td>\n",
       "      <td>The unprecedented regulatory power the Obama A...</td>\n",
       "      <td>1.0</td>\n",
       "      <td>0</td>\n",
       "      <td>1</td>\n",
       "      <td>1</td>\n",
       "      <td>The unprecedented regulatory power the Obama A...</td>\n",
       "      <td>176258.0</td>\n",
       "      <td>1</td>\n",
       "      <td>1</td>\n",
       "      <td>0</td>\n",
       "    </tr>\n",
       "    <tr>\n",
       "      <th>1</th>\n",
       "      <td>RI</td>\n",
       "      <td>59f8b2bb50b733300f069dd1</td>\n",
       "      <td>2017-07-11T15:53:55.750Z</td>\n",
       "      <td>TD3ONE@GMAIL.COM</td>\n",
       "      <td>filings.2017.7</td>\n",
       "      <td>NaN</td>\n",
       "      <td>[{\"name\":\"Thomas Daniels\"}]</td>\n",
       "      <td>NaN</td>\n",
       "      <td>2017-07-11 15:53:55</td>\n",
       "      <td>12</td>\n",
       "      <td>The unprecedented regulatory power the Obama A...</td>\n",
       "      <td>1.0</td>\n",
       "      <td>0</td>\n",
       "      <td>1</td>\n",
       "      <td>1</td>\n",
       "      <td>The unprecedented regulatory power the Obama A...</td>\n",
       "      <td>176258.0</td>\n",
       "      <td>2</td>\n",
       "      <td>2</td>\n",
       "      <td>0</td>\n",
       "    </tr>\n",
       "  </tbody>\n",
       "</table>\n",
       "</div>"
      ],
      "text/plain": [
       "  State_Abbreviation                        id           date_submission  \\\n",
       "0                 IA  59f8b2bb50b733300f069dce  2017-07-11T15:53:55.588Z   \n",
       "1                 RI  59f8b2bb50b733300f069dd1  2017-07-11T15:53:55.750Z   \n",
       "\n",
       "            contact_email           index internationaladdressentity  \\\n",
       "0  LINDAKUNZE88@GMAIL.COM  filings.2017.7                        NaN   \n",
       "1        TD3ONE@GMAIL.COM  filings.2017.7                        NaN   \n",
       "\n",
       "                        filers  intl_fake_zip            date_test  freq_time  \\\n",
       "0     [{\"name\":\"Linda Kunze\"}]            NaN  2017-07-11 15:53:55         12   \n",
       "1  [{\"name\":\"Thomas Daniels\"}]            NaN  2017-07-11 15:53:55         12   \n",
       "\n",
       "                                        comment_text  email_freq  \\\n",
       "0  The unprecedented regulatory power the Obama A...         1.0   \n",
       "1  The unprecedented regulatory power the Obama A...         1.0   \n",
       "\n",
       "   repeated_email  email_upper  repeated_time  \\\n",
       "0               0            1              1   \n",
       "1               0            1              1   \n",
       "\n",
       "                                      first_sentence  first_sentence_freq  \\\n",
       "0  The unprecedented regulatory power the Obama A...             176258.0   \n",
       "1  The unprecedented regulatory power the Obama A...             176258.0   \n",
       "\n",
       "   filers_freq  filers_name_freq  flag_intl_fake_zip  \n",
       "0            1                 1                   0  \n",
       "1            2                 2                   0  "
      ]
     },
     "execution_count": 115,
     "metadata": {},
     "output_type": "execute_result"
    }
   ],
   "source": [
    "df.head(2)"
   ]
  },
  {
   "cell_type": "code",
   "execution_count": 133,
   "metadata": {},
   "outputs": [],
   "source": [
    "df_intl_fake = df[df['intl_fake_zip']==1]"
   ]
  },
  {
   "cell_type": "code",
   "execution_count": 134,
   "metadata": {},
   "outputs": [],
   "source": [
    "df_intl_fake = df_intl_fake[:100]"
   ]
  },
  {
   "cell_type": "code",
   "execution_count": 136,
   "metadata": {},
   "outputs": [],
   "source": [
    "df_intl_fake['fake'] = 1"
   ]
  },
  {
   "cell_type": "code",
   "execution_count": 138,
   "metadata": {},
   "outputs": [],
   "source": [
    "model_df2 = df_intl_fake[['id', 'date_submission', 'contact_email',  \\\n",
    "       'comment_text', 'index', 'filers', \\\n",
    "       'internationaladdressentity', 'fake', 'date_test',\\\n",
    "       'intl_fake_zip', 'model']]"
   ]
  },
  {
   "cell_type": "code",
   "execution_count": 143,
   "metadata": {},
   "outputs": [
    {
     "data": {
      "text/html": [
       "<div>\n",
       "<style>\n",
       "    .dataframe thead tr:only-child th {\n",
       "        text-align: right;\n",
       "    }\n",
       "\n",
       "    .dataframe thead th {\n",
       "        text-align: left;\n",
       "    }\n",
       "\n",
       "    .dataframe tbody tr th {\n",
       "        vertical-align: top;\n",
       "    }\n",
       "</style>\n",
       "<table border=\"1\" class=\"dataframe\">\n",
       "  <thead>\n",
       "    <tr style=\"text-align: right;\">\n",
       "      <th></th>\n",
       "      <th>id</th>\n",
       "      <th>date_submission</th>\n",
       "      <th>contact_email</th>\n",
       "      <th>comment_text</th>\n",
       "      <th>index</th>\n",
       "      <th>filers</th>\n",
       "      <th>internationaladdressentity</th>\n",
       "      <th>fake</th>\n",
       "      <th>date_test</th>\n",
       "      <th>intl_fake_zip</th>\n",
       "      <th>model</th>\n",
       "    </tr>\n",
       "  </thead>\n",
       "  <tbody>\n",
       "    <tr>\n",
       "      <th>2306602</th>\n",
       "      <td>59f8b2bb50b733300f069dc9</td>\n",
       "      <td>2017-07-11T15:53:55.361Z</td>\n",
       "      <td>YaroslavKalinina@pornhub.com</td>\n",
       "      <td>NaN</td>\n",
       "      <td>filings.2017.7</td>\n",
       "      <td>[{\"name\":\"Yaroslav Kalinina\"}]</td>\n",
       "      <td>{\"addresstext\":\"3575 Eagle Lane\\n55792,Virgini...</td>\n",
       "      <td>1</td>\n",
       "      <td>2017-07-11 15:53:55</td>\n",
       "      <td>1.0</td>\n",
       "      <td>1</td>\n",
       "    </tr>\n",
       "    <tr>\n",
       "      <th>2306603</th>\n",
       "      <td>59f8b2bb50b733300f069dca</td>\n",
       "      <td>2017-07-11T15:53:55.390Z</td>\n",
       "      <td>GalinaMedvedeva@pornhub.com</td>\n",
       "      <td>NaN</td>\n",
       "      <td>filings.2017.7</td>\n",
       "      <td>[{\"name\":\"Galina Medvedeva\"}]</td>\n",
       "      <td>{\"addresstext\":\"2245 Lodgeville Road\\n55415,Mi...</td>\n",
       "      <td>1</td>\n",
       "      <td>2017-07-11 15:53:55</td>\n",
       "      <td>1.0</td>\n",
       "      <td>1</td>\n",
       "    </tr>\n",
       "    <tr>\n",
       "      <th>2306604</th>\n",
       "      <td>59f8b2bb50b733300f069dcb</td>\n",
       "      <td>2017-07-11T15:53:55.449Z</td>\n",
       "      <td>PhilemonButusov@pornhub.com</td>\n",
       "      <td>NaN</td>\n",
       "      <td>filings.2017.7</td>\n",
       "      <td>[{\"name\":\"Philemon Butusov\"}]</td>\n",
       "      <td>{\"addresstext\":\"4702 Ashmor Drive\\n55802,Dulut...</td>\n",
       "      <td>1</td>\n",
       "      <td>2017-07-11 15:53:55</td>\n",
       "      <td>1.0</td>\n",
       "      <td>1</td>\n",
       "    </tr>\n",
       "    <tr>\n",
       "      <th>2306605</th>\n",
       "      <td>59f8b2bb50b733300f069dcc</td>\n",
       "      <td>2017-07-11T15:53:55.473Z</td>\n",
       "      <td>BarbaraUlyanova@pornhub.com</td>\n",
       "      <td>NaN</td>\n",
       "      <td>filings.2017.7</td>\n",
       "      <td>[{\"name\":\"Barbara Ulyanova\"}]</td>\n",
       "      <td>{\"addresstext\":\"2323 Lodgeville Road\\n55406,Mi...</td>\n",
       "      <td>1</td>\n",
       "      <td>2017-07-11 15:53:55</td>\n",
       "      <td>1.0</td>\n",
       "      <td>1</td>\n",
       "    </tr>\n",
       "    <tr>\n",
       "      <th>2306606</th>\n",
       "      <td>59f8b2bb50b733300f069dcd</td>\n",
       "      <td>2017-07-11T15:53:55.512Z</td>\n",
       "      <td>MatildaZhdanova@pornhub.com</td>\n",
       "      <td>NaN</td>\n",
       "      <td>filings.2017.7</td>\n",
       "      <td>[{\"name\":\"Matilda Zhdanova\"}]</td>\n",
       "      <td>{\"addresstext\":\"2135 Lena Lane\\n39401,Hattiesb...</td>\n",
       "      <td>1</td>\n",
       "      <td>2017-07-11 15:53:55</td>\n",
       "      <td>1.0</td>\n",
       "      <td>1</td>\n",
       "    </tr>\n",
       "  </tbody>\n",
       "</table>\n",
       "</div>"
      ],
      "text/plain": [
       "                               id           date_submission  \\\n",
       "2306602  59f8b2bb50b733300f069dc9  2017-07-11T15:53:55.361Z   \n",
       "2306603  59f8b2bb50b733300f069dca  2017-07-11T15:53:55.390Z   \n",
       "2306604  59f8b2bb50b733300f069dcb  2017-07-11T15:53:55.449Z   \n",
       "2306605  59f8b2bb50b733300f069dcc  2017-07-11T15:53:55.473Z   \n",
       "2306606  59f8b2bb50b733300f069dcd  2017-07-11T15:53:55.512Z   \n",
       "\n",
       "                        contact_email comment_text           index  \\\n",
       "2306602  YaroslavKalinina@pornhub.com          NaN  filings.2017.7   \n",
       "2306603   GalinaMedvedeva@pornhub.com          NaN  filings.2017.7   \n",
       "2306604   PhilemonButusov@pornhub.com          NaN  filings.2017.7   \n",
       "2306605   BarbaraUlyanova@pornhub.com          NaN  filings.2017.7   \n",
       "2306606   MatildaZhdanova@pornhub.com          NaN  filings.2017.7   \n",
       "\n",
       "                                 filers  \\\n",
       "2306602  [{\"name\":\"Yaroslav Kalinina\"}]   \n",
       "2306603   [{\"name\":\"Galina Medvedeva\"}]   \n",
       "2306604   [{\"name\":\"Philemon Butusov\"}]   \n",
       "2306605   [{\"name\":\"Barbara Ulyanova\"}]   \n",
       "2306606   [{\"name\":\"Matilda Zhdanova\"}]   \n",
       "\n",
       "                                internationaladdressentity  fake  \\\n",
       "2306602  {\"addresstext\":\"3575 Eagle Lane\\n55792,Virgini...     1   \n",
       "2306603  {\"addresstext\":\"2245 Lodgeville Road\\n55415,Mi...     1   \n",
       "2306604  {\"addresstext\":\"4702 Ashmor Drive\\n55802,Dulut...     1   \n",
       "2306605  {\"addresstext\":\"2323 Lodgeville Road\\n55406,Mi...     1   \n",
       "2306606  {\"addresstext\":\"2135 Lena Lane\\n39401,Hattiesb...     1   \n",
       "\n",
       "                   date_test  intl_fake_zip  model  \n",
       "2306602  2017-07-11 15:53:55            1.0      1  \n",
       "2306603  2017-07-11 15:53:55            1.0      1  \n",
       "2306604  2017-07-11 15:53:55            1.0      1  \n",
       "2306605  2017-07-11 15:53:55            1.0      1  \n",
       "2306606  2017-07-11 15:53:55            1.0      1  "
      ]
     },
     "execution_count": 143,
     "metadata": {},
     "output_type": "execute_result"
    }
   ],
   "source": [
    "model_df2.head()"
   ]
  },
  {
   "cell_type": "code",
   "execution_count": 142,
   "metadata": {},
   "outputs": [
    {
     "name": "stderr",
     "output_type": "stream",
     "text": [
      "C:\\ProgramData\\Anaconda3\\lib\\site-packages\\ipykernel_launcher.py:1: SettingWithCopyWarning: \n",
      "A value is trying to be set on a copy of a slice from a DataFrame.\n",
      "Try using .loc[row_indexer,col_indexer] = value instead\n",
      "\n",
      "See the caveats in the documentation: http://pandas.pydata.org/pandas-docs/stable/indexing.html#indexing-view-versus-copy\n",
      "  \"\"\"Entry point for launching an IPython kernel.\n"
     ]
    }
   ],
   "source": [
    "model_df2['model'] = 1"
   ]
  },
  {
   "cell_type": "code",
   "execution_count": 144,
   "metadata": {},
   "outputs": [],
   "source": [
    "model_df1 = pd.concat([model_df,model_df2])"
   ]
  },
  {
   "cell_type": "code",
   "execution_count": 145,
   "metadata": {},
   "outputs": [
    {
     "data": {
      "text/html": [
       "<div>\n",
       "<style>\n",
       "    .dataframe thead tr:only-child th {\n",
       "        text-align: right;\n",
       "    }\n",
       "\n",
       "    .dataframe thead th {\n",
       "        text-align: left;\n",
       "    }\n",
       "\n",
       "    .dataframe tbody tr th {\n",
       "        vertical-align: top;\n",
       "    }\n",
       "</style>\n",
       "<table border=\"1\" class=\"dataframe\">\n",
       "  <thead>\n",
       "    <tr style=\"text-align: right;\">\n",
       "      <th></th>\n",
       "      <th>id</th>\n",
       "      <th>date_submission</th>\n",
       "      <th>contact_email</th>\n",
       "      <th>comment_text</th>\n",
       "      <th>index</th>\n",
       "      <th>filers</th>\n",
       "      <th>internationaladdressentity</th>\n",
       "      <th>fake</th>\n",
       "      <th>date_test</th>\n",
       "      <th>intl_fake_zip</th>\n",
       "      <th>model</th>\n",
       "    </tr>\n",
       "  </thead>\n",
       "  <tbody>\n",
       "    <tr>\n",
       "      <th>0</th>\n",
       "      <td>59f88aa650b733300fe2da17</td>\n",
       "      <td>2017-05-25T16:25:26.831Z</td>\n",
       "      <td>bobbywego@gmail.com</td>\n",
       "      <td>I am deeply concerned over the Notice of Propo...</td>\n",
       "      <td>filings.2017.5</td>\n",
       "      <td>[{\"name\":\"Robert Wengronowitz\"}]</td>\n",
       "      <td>{'addresstext': ''}</td>\n",
       "      <td>0</td>\n",
       "      <td>2017-05-25 16:25:26</td>\n",
       "      <td>0.0</td>\n",
       "      <td>1</td>\n",
       "    </tr>\n",
       "    <tr>\n",
       "      <th>1</th>\n",
       "      <td>59f88aa650b733300fe2da18</td>\n",
       "      <td>2017-05-25T16:25:42.688Z</td>\n",
       "      <td>ganriel.thomason@gmail.com</td>\n",
       "      <td>The FCC should safeguard Internet freedom by k...</td>\n",
       "      <td>filings.2017.5</td>\n",
       "      <td>[{\"name\":\"Gabriel Thomason\"}]</td>\n",
       "      <td>{'addresstext': ''}</td>\n",
       "      <td>0</td>\n",
       "      <td>2017-05-25 16:25:42</td>\n",
       "      <td>0.0</td>\n",
       "      <td>1</td>\n",
       "    </tr>\n",
       "    <tr>\n",
       "      <th>2</th>\n",
       "      <td>59f88aa650b733300fe2da19</td>\n",
       "      <td>2017-05-25T16:26:32.472Z</td>\n",
       "      <td>kyliepborges@gmail.com</td>\n",
       "      <td>I support strong net neutrality, backed by Tit...</td>\n",
       "      <td>filings.2017.5</td>\n",
       "      <td>[{\"name\":\"Kylie Borges\"}]</td>\n",
       "      <td>{'addresstext': ''}</td>\n",
       "      <td>0</td>\n",
       "      <td>2017-05-25 16:26:32</td>\n",
       "      <td>0.0</td>\n",
       "      <td>1</td>\n",
       "    </tr>\n",
       "    <tr>\n",
       "      <th>3</th>\n",
       "      <td>59f88aa650b733300fe2da1b</td>\n",
       "      <td>2017-05-25T16:28:36.684Z</td>\n",
       "      <td>NaN</td>\n",
       "      <td>Preserve net neutrality and title II. Don't le...</td>\n",
       "      <td>filings.2017.5</td>\n",
       "      <td>[{\"name\":\"Joe D.\"}]</td>\n",
       "      <td>{'addresstext': ''}</td>\n",
       "      <td>0</td>\n",
       "      <td>2017-05-25 16:28:36</td>\n",
       "      <td>0.0</td>\n",
       "      <td>1</td>\n",
       "    </tr>\n",
       "    <tr>\n",
       "      <th>4</th>\n",
       "      <td>59f88aa650b733300fe2da1c</td>\n",
       "      <td>2017-05-25T16:30:32.053Z</td>\n",
       "      <td>sarahaarnold@outlook.com</td>\n",
       "      <td>I specifically support strong net neutrality t...</td>\n",
       "      <td>filings.2017.5</td>\n",
       "      <td>[{\"name\":\"Sarah Arnold\"}]</td>\n",
       "      <td>{'addresstext': ''}</td>\n",
       "      <td>0</td>\n",
       "      <td>2017-05-25 16:30:32</td>\n",
       "      <td>0.0</td>\n",
       "      <td>1</td>\n",
       "    </tr>\n",
       "  </tbody>\n",
       "</table>\n",
       "</div>"
      ],
      "text/plain": [
       "                         id           date_submission  \\\n",
       "0  59f88aa650b733300fe2da17  2017-05-25T16:25:26.831Z   \n",
       "1  59f88aa650b733300fe2da18  2017-05-25T16:25:42.688Z   \n",
       "2  59f88aa650b733300fe2da19  2017-05-25T16:26:32.472Z   \n",
       "3  59f88aa650b733300fe2da1b  2017-05-25T16:28:36.684Z   \n",
       "4  59f88aa650b733300fe2da1c  2017-05-25T16:30:32.053Z   \n",
       "\n",
       "                contact_email  \\\n",
       "0         bobbywego@gmail.com   \n",
       "1  ganriel.thomason@gmail.com   \n",
       "2      kyliepborges@gmail.com   \n",
       "3                         NaN   \n",
       "4    sarahaarnold@outlook.com   \n",
       "\n",
       "                                        comment_text           index  \\\n",
       "0  I am deeply concerned over the Notice of Propo...  filings.2017.5   \n",
       "1  The FCC should safeguard Internet freedom by k...  filings.2017.5   \n",
       "2  I support strong net neutrality, backed by Tit...  filings.2017.5   \n",
       "3  Preserve net neutrality and title II. Don't le...  filings.2017.5   \n",
       "4  I specifically support strong net neutrality t...  filings.2017.5   \n",
       "\n",
       "                             filers internationaladdressentity  fake  \\\n",
       "0  [{\"name\":\"Robert Wengronowitz\"}]        {'addresstext': ''}     0   \n",
       "1     [{\"name\":\"Gabriel Thomason\"}]        {'addresstext': ''}     0   \n",
       "2         [{\"name\":\"Kylie Borges\"}]        {'addresstext': ''}     0   \n",
       "3               [{\"name\":\"Joe D.\"}]        {'addresstext': ''}     0   \n",
       "4         [{\"name\":\"Sarah Arnold\"}]        {'addresstext': ''}     0   \n",
       "\n",
       "             date_test  intl_fake_zip  model  \n",
       "0  2017-05-25 16:25:26            0.0      1  \n",
       "1  2017-05-25 16:25:42            0.0      1  \n",
       "2  2017-05-25 16:26:32            0.0      1  \n",
       "3  2017-05-25 16:28:36            0.0      1  \n",
       "4  2017-05-25 16:30:32            0.0      1  "
      ]
     },
     "execution_count": 145,
     "metadata": {},
     "output_type": "execute_result"
    }
   ],
   "source": [
    "model_df1.head()"
   ]
  },
  {
   "cell_type": "code",
   "execution_count": 147,
   "metadata": {},
   "outputs": [],
   "source": [
    "df_full = df[['id', 'date_submission', 'contact_email',  \\\n",
    "       'comment_text', 'index', 'filers', \\\n",
    "       'internationaladdressentity',  'date_test',\\\n",
    "       'intl_fake_zip', 'model']]"
   ]
  },
  {
   "cell_type": "code",
   "execution_count": 148,
   "metadata": {},
   "outputs": [],
   "source": [
    "df_combined = pd.concat([df_full,model_df1])"
   ]
  },
  {
   "cell_type": "code",
   "execution_count": 149,
   "metadata": {},
   "outputs": [
    {
     "data": {
      "text/html": [
       "<div>\n",
       "<style>\n",
       "    .dataframe thead tr:only-child th {\n",
       "        text-align: right;\n",
       "    }\n",
       "\n",
       "    .dataframe thead th {\n",
       "        text-align: left;\n",
       "    }\n",
       "\n",
       "    .dataframe tbody tr th {\n",
       "        vertical-align: top;\n",
       "    }\n",
       "</style>\n",
       "<table border=\"1\" class=\"dataframe\">\n",
       "  <thead>\n",
       "    <tr style=\"text-align: right;\">\n",
       "      <th></th>\n",
       "      <th>comment_text</th>\n",
       "      <th>contact_email</th>\n",
       "      <th>date_submission</th>\n",
       "      <th>date_test</th>\n",
       "      <th>fake</th>\n",
       "      <th>filers</th>\n",
       "      <th>id</th>\n",
       "      <th>index</th>\n",
       "      <th>internationaladdressentity</th>\n",
       "      <th>intl_fake_zip</th>\n",
       "      <th>model</th>\n",
       "    </tr>\n",
       "  </thead>\n",
       "  <tbody>\n",
       "    <tr>\n",
       "      <th>0</th>\n",
       "      <td>The unprecedented regulatory power the Obama A...</td>\n",
       "      <td>LINDAKUNZE88@GMAIL.COM</td>\n",
       "      <td>2017-07-11T15:53:55.588Z</td>\n",
       "      <td>2017-07-11 15:53:55</td>\n",
       "      <td>NaN</td>\n",
       "      <td>[{\"name\":\"Linda Kunze\"}]</td>\n",
       "      <td>59f8b2bb50b733300f069dce</td>\n",
       "      <td>filings.2017.7</td>\n",
       "      <td>NaN</td>\n",
       "      <td>NaN</td>\n",
       "      <td>0</td>\n",
       "    </tr>\n",
       "    <tr>\n",
       "      <th>1</th>\n",
       "      <td>The unprecedented regulatory power the Obama A...</td>\n",
       "      <td>TD3ONE@GMAIL.COM</td>\n",
       "      <td>2017-07-11T15:53:55.750Z</td>\n",
       "      <td>2017-07-11 15:53:55</td>\n",
       "      <td>NaN</td>\n",
       "      <td>[{\"name\":\"Thomas Daniels\"}]</td>\n",
       "      <td>59f8b2bb50b733300f069dd1</td>\n",
       "      <td>filings.2017.7</td>\n",
       "      <td>NaN</td>\n",
       "      <td>NaN</td>\n",
       "      <td>0</td>\n",
       "    </tr>\n",
       "    <tr>\n",
       "      <th>2</th>\n",
       "      <td>The unprecedented regulatory power the Obama A...</td>\n",
       "      <td>TJ-VANTASSEL@HOTMAIL.COM</td>\n",
       "      <td>2017-07-11T15:54:43.314Z</td>\n",
       "      <td>2017-07-11 15:54:43</td>\n",
       "      <td>NaN</td>\n",
       "      <td>[{\"name\":\"Jean Vantassel\"}]</td>\n",
       "      <td>59f8b2bb50b733300f06a0cf</td>\n",
       "      <td>filings.2017.7</td>\n",
       "      <td>NaN</td>\n",
       "      <td>NaN</td>\n",
       "      <td>0</td>\n",
       "    </tr>\n",
       "    <tr>\n",
       "      <th>3</th>\n",
       "      <td>The unprecedented regulatory power the Obama A...</td>\n",
       "      <td>NIKKISHERLEY@GMAIL.COM</td>\n",
       "      <td>2017-07-11T15:54:44.053Z</td>\n",
       "      <td>2017-07-11 15:54:44</td>\n",
       "      <td>NaN</td>\n",
       "      <td>[{\"name\":\"Nicole Sherley\"}]</td>\n",
       "      <td>59f8b2bb50b733300f06a0df</td>\n",
       "      <td>filings.2017.7</td>\n",
       "      <td>NaN</td>\n",
       "      <td>NaN</td>\n",
       "      <td>0</td>\n",
       "    </tr>\n",
       "    <tr>\n",
       "      <th>4</th>\n",
       "      <td>The unprecedented regulatory power the Obama A...</td>\n",
       "      <td>PAULAMUTTER61@GMAIL.COM</td>\n",
       "      <td>2017-07-11T15:54:44.444Z</td>\n",
       "      <td>2017-07-11 15:54:44</td>\n",
       "      <td>NaN</td>\n",
       "      <td>[{\"name\":\"Paula Mutter\"}]</td>\n",
       "      <td>59f8b2bb50b733300f06a0e7</td>\n",
       "      <td>filings.2017.7</td>\n",
       "      <td>NaN</td>\n",
       "      <td>NaN</td>\n",
       "      <td>0</td>\n",
       "    </tr>\n",
       "  </tbody>\n",
       "</table>\n",
       "</div>"
      ],
      "text/plain": [
       "                                        comment_text  \\\n",
       "0  The unprecedented regulatory power the Obama A...   \n",
       "1  The unprecedented regulatory power the Obama A...   \n",
       "2  The unprecedented regulatory power the Obama A...   \n",
       "3  The unprecedented regulatory power the Obama A...   \n",
       "4  The unprecedented regulatory power the Obama A...   \n",
       "\n",
       "              contact_email           date_submission            date_test  \\\n",
       "0    LINDAKUNZE88@GMAIL.COM  2017-07-11T15:53:55.588Z  2017-07-11 15:53:55   \n",
       "1          TD3ONE@GMAIL.COM  2017-07-11T15:53:55.750Z  2017-07-11 15:53:55   \n",
       "2  TJ-VANTASSEL@HOTMAIL.COM  2017-07-11T15:54:43.314Z  2017-07-11 15:54:43   \n",
       "3    NIKKISHERLEY@GMAIL.COM  2017-07-11T15:54:44.053Z  2017-07-11 15:54:44   \n",
       "4   PAULAMUTTER61@GMAIL.COM  2017-07-11T15:54:44.444Z  2017-07-11 15:54:44   \n",
       "\n",
       "   fake                       filers                        id  \\\n",
       "0   NaN     [{\"name\":\"Linda Kunze\"}]  59f8b2bb50b733300f069dce   \n",
       "1   NaN  [{\"name\":\"Thomas Daniels\"}]  59f8b2bb50b733300f069dd1   \n",
       "2   NaN  [{\"name\":\"Jean Vantassel\"}]  59f8b2bb50b733300f06a0cf   \n",
       "3   NaN  [{\"name\":\"Nicole Sherley\"}]  59f8b2bb50b733300f06a0df   \n",
       "4   NaN    [{\"name\":\"Paula Mutter\"}]  59f8b2bb50b733300f06a0e7   \n",
       "\n",
       "            index internationaladdressentity  intl_fake_zip  model  \n",
       "0  filings.2017.7                        NaN            NaN      0  \n",
       "1  filings.2017.7                        NaN            NaN      0  \n",
       "2  filings.2017.7                        NaN            NaN      0  \n",
       "3  filings.2017.7                        NaN            NaN      0  \n",
       "4  filings.2017.7                        NaN            NaN      0  "
      ]
     },
     "execution_count": 149,
     "metadata": {},
     "output_type": "execute_result"
    }
   ],
   "source": [
    "df_combined.head()"
   ]
  },
  {
   "cell_type": "code",
   "execution_count": 150,
   "metadata": {},
   "outputs": [],
   "source": [
    "#remove microsecond date submission:\n",
    "df_combined.drop('date_submission',axis=1,inplace=True)"
   ]
  },
  {
   "cell_type": "code",
   "execution_count": 151,
   "metadata": {},
   "outputs": [],
   "source": [
    "#remove index(filing) date submission:\n",
    "df_combined.drop(['index','internationaladdressentity'],axis=1,inplace=True)"
   ]
  },
  {
   "cell_type": "code",
   "execution_count": 160,
   "metadata": {},
   "outputs": [],
   "source": [
    "1. #Mark email as all capitalized or not\n",
    "def email_upper (x):\n",
    "    if x is None:\n",
    "        return 0\n",
    "    elif str(x).isupper():\n",
    "        return 1\n",
    "    else:\n",
    "        return 0\n",
    "    \n",
    "#mark emails as being all uppercase or not    \n",
    "df_combined['flag_email_upper'] = df_combined['contact_email'].apply(email_upper)   "
   ]
  },
  {
   "cell_type": "code",
   "execution_count": 161,
   "metadata": {},
   "outputs": [],
   "source": [
    "2. #Mark email as repeated or not if >2\n",
    "def multiples_2 (x):\n",
    "    if x > 2:\n",
    "        return 1\n",
    "    else:\n",
    "        return 0\n",
    "    \n",
    "#count emails for multiple submissions    \n",
    "df_combined['email_freq'] = df_combined.groupby('contact_email')['contact_email'].transform('count')   "
   ]
  },
  {
   "cell_type": "code",
   "execution_count": 162,
   "metadata": {},
   "outputs": [],
   "source": [
    "df_combined['flag_repeated_email'] = df_combined['email_freq'].apply(multiples_2)"
   ]
  },
  {
   "cell_type": "code",
   "execution_count": null,
   "metadata": {},
   "outputs": [],
   "source": [
    "#do time calculation on data"
   ]
  },
  {
   "cell_type": "code",
   "execution_count": 163,
   "metadata": {},
   "outputs": [],
   "source": [
    "#Convert data of test set to seconds and count freq\n",
    "#df['date_test']= pd.to_datetime(df['date_submission'])\n",
    "#df['date_test']= df['date_test'].values.astype('datetime64[s]')\n",
    "df_combined['freq_time'] = df_combined.groupby('date_test')['date_test'].transform('count')\n",
    "df_combined['freq_time'] = pd.to_numeric(df_combined['freq_time'])"
   ]
  },
  {
   "cell_type": "code",
   "execution_count": 164,
   "metadata": {},
   "outputs": [],
   "source": [
    "3. #Mark time as repeated or not if >2\n",
    "df_combined['flag_repeated_time'] = df_combined['freq_time'].apply(multiples_2)"
   ]
  },
  {
   "cell_type": "code",
   "execution_count": 165,
   "metadata": {},
   "outputs": [],
   "source": [
    "def convert_0_1(x):\n",
    "    if x is None:\n",
    "        return 0\n",
    "    elif x == 1:\n",
    "        return 1\n",
    "    else:\n",
    "        return 0\n",
    "\n",
    "\n",
    "df_combined['flag_intl_fake_zip'] = df_combined['intl_fake_zip'].apply(convert_0_1)\n"
   ]
  },
  {
   "cell_type": "code",
   "execution_count": 166,
   "metadata": {},
   "outputs": [
    {
     "data": {
      "text/html": [
       "<div>\n",
       "<style>\n",
       "    .dataframe thead tr:only-child th {\n",
       "        text-align: right;\n",
       "    }\n",
       "\n",
       "    .dataframe thead th {\n",
       "        text-align: left;\n",
       "    }\n",
       "\n",
       "    .dataframe tbody tr th {\n",
       "        vertical-align: top;\n",
       "    }\n",
       "</style>\n",
       "<table border=\"1\" class=\"dataframe\">\n",
       "  <thead>\n",
       "    <tr style=\"text-align: right;\">\n",
       "      <th></th>\n",
       "      <th>comment_text</th>\n",
       "      <th>contact_email</th>\n",
       "      <th>date_test</th>\n",
       "      <th>fake</th>\n",
       "      <th>filers</th>\n",
       "      <th>id</th>\n",
       "      <th>intl_fake_zip</th>\n",
       "      <th>model</th>\n",
       "      <th>flag_email_upper</th>\n",
       "      <th>email_freq</th>\n",
       "      <th>flag_repeated_email</th>\n",
       "      <th>freq_time</th>\n",
       "      <th>flag_repeated_time</th>\n",
       "      <th>flag_intl_fake_zip</th>\n",
       "    </tr>\n",
       "  </thead>\n",
       "  <tbody>\n",
       "    <tr>\n",
       "      <th>0</th>\n",
       "      <td>The unprecedented regulatory power the Obama A...</td>\n",
       "      <td>LINDAKUNZE88@GMAIL.COM</td>\n",
       "      <td>2017-07-11 15:53:55</td>\n",
       "      <td>NaN</td>\n",
       "      <td>[{\"name\":\"Linda Kunze\"}]</td>\n",
       "      <td>59f8b2bb50b733300f069dce</td>\n",
       "      <td>NaN</td>\n",
       "      <td>0</td>\n",
       "      <td>1</td>\n",
       "      <td>1.0</td>\n",
       "      <td>0</td>\n",
       "      <td>22</td>\n",
       "      <td>1</td>\n",
       "      <td>0</td>\n",
       "    </tr>\n",
       "    <tr>\n",
       "      <th>1</th>\n",
       "      <td>The unprecedented regulatory power the Obama A...</td>\n",
       "      <td>TD3ONE@GMAIL.COM</td>\n",
       "      <td>2017-07-11 15:53:55</td>\n",
       "      <td>NaN</td>\n",
       "      <td>[{\"name\":\"Thomas Daniels\"}]</td>\n",
       "      <td>59f8b2bb50b733300f069dd1</td>\n",
       "      <td>NaN</td>\n",
       "      <td>0</td>\n",
       "      <td>1</td>\n",
       "      <td>1.0</td>\n",
       "      <td>0</td>\n",
       "      <td>22</td>\n",
       "      <td>1</td>\n",
       "      <td>0</td>\n",
       "    </tr>\n",
       "  </tbody>\n",
       "</table>\n",
       "</div>"
      ],
      "text/plain": [
       "                                        comment_text           contact_email  \\\n",
       "0  The unprecedented regulatory power the Obama A...  LINDAKUNZE88@GMAIL.COM   \n",
       "1  The unprecedented regulatory power the Obama A...        TD3ONE@GMAIL.COM   \n",
       "\n",
       "             date_test  fake                       filers  \\\n",
       "0  2017-07-11 15:53:55   NaN     [{\"name\":\"Linda Kunze\"}]   \n",
       "1  2017-07-11 15:53:55   NaN  [{\"name\":\"Thomas Daniels\"}]   \n",
       "\n",
       "                         id  intl_fake_zip  model  flag_email_upper  \\\n",
       "0  59f8b2bb50b733300f069dce            NaN      0                 1   \n",
       "1  59f8b2bb50b733300f069dd1            NaN      0                 1   \n",
       "\n",
       "   email_freq  flag_repeated_email  freq_time  flag_repeated_time  \\\n",
       "0         1.0                    0         22                   1   \n",
       "1         1.0                    0         22                   1   \n",
       "\n",
       "   flag_intl_fake_zip  \n",
       "0                   0  \n",
       "1                   0  "
      ]
     },
     "execution_count": 166,
     "metadata": {},
     "output_type": "execute_result"
    }
   ],
   "source": [
    "df_combined.head(2)"
   ]
  },
  {
   "cell_type": "code",
   "execution_count": 167,
   "metadata": {},
   "outputs": [
    {
     "data": {
      "text/plain": [
       "Index(['comment_text', 'contact_email', 'date_test', 'fake', 'filers', 'id',\n",
       "       'intl_fake_zip', 'model', 'flag_email_upper', 'email_freq',\n",
       "       'flag_repeated_email', 'freq_time', 'flag_repeated_time',\n",
       "       'flag_intl_fake_zip'],\n",
       "      dtype='object')"
      ]
     },
     "execution_count": 167,
     "metadata": {},
     "output_type": "execute_result"
    }
   ],
   "source": [
    "df_combined.columns"
   ]
  },
  {
   "cell_type": "code",
   "execution_count": 170,
   "metadata": {},
   "outputs": [],
   "source": [
    "df_sample= df_combined[['id','flag_email_upper','flag_repeated_email','flag_repeated_time','flag_intl_fake_zip','model','fake']]"
   ]
  },
  {
   "cell_type": "code",
   "execution_count": 171,
   "metadata": {},
   "outputs": [
    {
     "data": {
      "text/html": [
       "<div>\n",
       "<style>\n",
       "    .dataframe thead tr:only-child th {\n",
       "        text-align: right;\n",
       "    }\n",
       "\n",
       "    .dataframe thead th {\n",
       "        text-align: left;\n",
       "    }\n",
       "\n",
       "    .dataframe tbody tr th {\n",
       "        vertical-align: top;\n",
       "    }\n",
       "</style>\n",
       "<table border=\"1\" class=\"dataframe\">\n",
       "  <thead>\n",
       "    <tr style=\"text-align: right;\">\n",
       "      <th></th>\n",
       "      <th>id</th>\n",
       "      <th>flag_email_upper</th>\n",
       "      <th>flag_repeated_email</th>\n",
       "      <th>flag_repeated_time</th>\n",
       "      <th>flag_intl_fake_zip</th>\n",
       "      <th>model</th>\n",
       "      <th>fake</th>\n",
       "    </tr>\n",
       "  </thead>\n",
       "  <tbody>\n",
       "    <tr>\n",
       "      <th>0</th>\n",
       "      <td>59f8b2bb50b733300f069dce</td>\n",
       "      <td>1</td>\n",
       "      <td>0</td>\n",
       "      <td>1</td>\n",
       "      <td>0</td>\n",
       "      <td>0</td>\n",
       "      <td>NaN</td>\n",
       "    </tr>\n",
       "    <tr>\n",
       "      <th>1</th>\n",
       "      <td>59f8b2bb50b733300f069dd1</td>\n",
       "      <td>1</td>\n",
       "      <td>0</td>\n",
       "      <td>1</td>\n",
       "      <td>0</td>\n",
       "      <td>0</td>\n",
       "      <td>NaN</td>\n",
       "    </tr>\n",
       "    <tr>\n",
       "      <th>2</th>\n",
       "      <td>59f8b2bb50b733300f06a0cf</td>\n",
       "      <td>1</td>\n",
       "      <td>0</td>\n",
       "      <td>1</td>\n",
       "      <td>0</td>\n",
       "      <td>0</td>\n",
       "      <td>NaN</td>\n",
       "    </tr>\n",
       "    <tr>\n",
       "      <th>3</th>\n",
       "      <td>59f8b2bb50b733300f06a0df</td>\n",
       "      <td>1</td>\n",
       "      <td>0</td>\n",
       "      <td>1</td>\n",
       "      <td>0</td>\n",
       "      <td>0</td>\n",
       "      <td>NaN</td>\n",
       "    </tr>\n",
       "    <tr>\n",
       "      <th>4</th>\n",
       "      <td>59f8b2bb50b733300f06a0e7</td>\n",
       "      <td>1</td>\n",
       "      <td>0</td>\n",
       "      <td>1</td>\n",
       "      <td>0</td>\n",
       "      <td>0</td>\n",
       "      <td>NaN</td>\n",
       "    </tr>\n",
       "  </tbody>\n",
       "</table>\n",
       "</div>"
      ],
      "text/plain": [
       "                         id  flag_email_upper  flag_repeated_email  \\\n",
       "0  59f8b2bb50b733300f069dce                 1                    0   \n",
       "1  59f8b2bb50b733300f069dd1                 1                    0   \n",
       "2  59f8b2bb50b733300f06a0cf                 1                    0   \n",
       "3  59f8b2bb50b733300f06a0df                 1                    0   \n",
       "4  59f8b2bb50b733300f06a0e7                 1                    0   \n",
       "\n",
       "   flag_repeated_time  flag_intl_fake_zip  model  fake  \n",
       "0                   1                   0      0   NaN  \n",
       "1                   1                   0      0   NaN  \n",
       "2                   1                   0      0   NaN  \n",
       "3                   1                   0      0   NaN  \n",
       "4                   1                   0      0   NaN  "
      ]
     },
     "execution_count": 171,
     "metadata": {},
     "output_type": "execute_result"
    }
   ],
   "source": [
    "df_sample.head()"
   ]
  },
  {
   "cell_type": "code",
   "execution_count": 172,
   "metadata": {},
   "outputs": [],
   "source": [
    "df_train_test = df_sample[df_sample['model']==1]"
   ]
  },
  {
   "cell_type": "code",
   "execution_count": 173,
   "metadata": {},
   "outputs": [],
   "source": [
    "df_data = df_sample[df_sample['model']==0]"
   ]
  },
  {
   "cell_type": "code",
   "execution_count": 181,
   "metadata": {},
   "outputs": [
    {
     "data": {
      "text/html": [
       "<div>\n",
       "<style>\n",
       "    .dataframe thead tr:only-child th {\n",
       "        text-align: right;\n",
       "    }\n",
       "\n",
       "    .dataframe thead th {\n",
       "        text-align: left;\n",
       "    }\n",
       "\n",
       "    .dataframe tbody tr th {\n",
       "        vertical-align: top;\n",
       "    }\n",
       "</style>\n",
       "<table border=\"1\" class=\"dataframe\">\n",
       "  <thead>\n",
       "    <tr style=\"text-align: right;\">\n",
       "      <th></th>\n",
       "      <th>flag_email_upper</th>\n",
       "      <th>flag_repeated_email</th>\n",
       "      <th>flag_repeated_time</th>\n",
       "      <th>flag_intl_fake_zip</th>\n",
       "      <th>fake</th>\n",
       "    </tr>\n",
       "  </thead>\n",
       "  <tbody>\n",
       "    <tr>\n",
       "      <th>0</th>\n",
       "      <td>0</td>\n",
       "      <td>0</td>\n",
       "      <td>0</td>\n",
       "      <td>0</td>\n",
       "      <td>0</td>\n",
       "    </tr>\n",
       "    <tr>\n",
       "      <th>1</th>\n",
       "      <td>0</td>\n",
       "      <td>0</td>\n",
       "      <td>0</td>\n",
       "      <td>0</td>\n",
       "      <td>0</td>\n",
       "    </tr>\n",
       "    <tr>\n",
       "      <th>2</th>\n",
       "      <td>0</td>\n",
       "      <td>0</td>\n",
       "      <td>0</td>\n",
       "      <td>0</td>\n",
       "      <td>0</td>\n",
       "    </tr>\n",
       "    <tr>\n",
       "      <th>3</th>\n",
       "      <td>0</td>\n",
       "      <td>0</td>\n",
       "      <td>0</td>\n",
       "      <td>0</td>\n",
       "      <td>0</td>\n",
       "    </tr>\n",
       "    <tr>\n",
       "      <th>4</th>\n",
       "      <td>0</td>\n",
       "      <td>0</td>\n",
       "      <td>0</td>\n",
       "      <td>0</td>\n",
       "      <td>0</td>\n",
       "    </tr>\n",
       "  </tbody>\n",
       "</table>\n",
       "</div>"
      ],
      "text/plain": [
       "   flag_email_upper  flag_repeated_email  flag_repeated_time  \\\n",
       "0                 0                    0                   0   \n",
       "1                 0                    0                   0   \n",
       "2                 0                    0                   0   \n",
       "3                 0                    0                   0   \n",
       "4                 0                    0                   0   \n",
       "\n",
       "   flag_intl_fake_zip  fake  \n",
       "0                   0     0  \n",
       "1                   0     0  \n",
       "2                   0     0  \n",
       "3                   0     0  \n",
       "4                   0     0  "
      ]
     },
     "execution_count": 181,
     "metadata": {},
     "output_type": "execute_result"
    }
   ],
   "source": [
    "#500 records will be train/test\n",
    "df_train_test.head()\n"
   ]
  },
  {
   "cell_type": "code",
   "execution_count": 175,
   "metadata": {},
   "outputs": [],
   "source": [
    "from sklearn.model_selection import train_test_split\n",
    "from sklearn.linear_model import LogisticRegression"
   ]
  },
  {
   "cell_type": "code",
   "execution_count": 179,
   "metadata": {},
   "outputs": [
    {
     "name": "stderr",
     "output_type": "stream",
     "text": [
      "C:\\ProgramData\\Anaconda3\\lib\\site-packages\\ipykernel_launcher.py:1: SettingWithCopyWarning: \n",
      "A value is trying to be set on a copy of a slice from a DataFrame\n",
      "\n",
      "See the caveats in the documentation: http://pandas.pydata.org/pandas-docs/stable/indexing.html#indexing-view-versus-copy\n",
      "  \"\"\"Entry point for launching an IPython kernel.\n"
     ]
    }
   ],
   "source": [
    "df_train_test.drop(['model','id'],axis=1,inplace=True)"
   ]
  },
  {
   "cell_type": "code",
   "execution_count": 180,
   "metadata": {},
   "outputs": [
    {
     "name": "stderr",
     "output_type": "stream",
     "text": [
      "C:\\ProgramData\\Anaconda3\\lib\\site-packages\\pandas\\core\\generic.py:3110: SettingWithCopyWarning: \n",
      "A value is trying to be set on a copy of a slice from a DataFrame.\n",
      "Try using .loc[row_indexer,col_indexer] = value instead\n",
      "\n",
      "See the caveats in the documentation: http://pandas.pydata.org/pandas-docs/stable/indexing.html#indexing-view-versus-copy\n",
      "  self[name] = value\n"
     ]
    }
   ],
   "source": [
    "df_train_test.fake = df_train_test.fake.astype(int)"
   ]
  },
  {
   "cell_type": "code",
   "execution_count": 182,
   "metadata": {},
   "outputs": [],
   "source": [
    "X = df_train_test.drop('fake', axis=1) #remove survive from data\n",
    "y = df_train_test['fake']#predict"
   ]
  },
  {
   "cell_type": "code",
   "execution_count": 183,
   "metadata": {},
   "outputs": [],
   "source": [
    "X_train, X_test, y_train, y_test = train_test_split(X, y, test_size=0.5, random_state=101)"
   ]
  },
  {
   "cell_type": "code",
   "execution_count": 184,
   "metadata": {},
   "outputs": [],
   "source": [
    "logmodel = LogisticRegression()"
   ]
  },
  {
   "cell_type": "code",
   "execution_count": 185,
   "metadata": {},
   "outputs": [
    {
     "data": {
      "text/plain": [
       "LogisticRegression(C=1.0, class_weight=None, dual=False, fit_intercept=True,\n",
       "          intercept_scaling=1, max_iter=100, multi_class='ovr', n_jobs=1,\n",
       "          penalty='l2', random_state=None, solver='liblinear', tol=0.0001,\n",
       "          verbose=0, warm_start=False)"
      ]
     },
     "execution_count": 185,
     "metadata": {},
     "output_type": "execute_result"
    }
   ],
   "source": [
    "logmodel.fit(X_train,y_train) #shows default parameters"
   ]
  },
  {
   "cell_type": "code",
   "execution_count": 186,
   "metadata": {},
   "outputs": [],
   "source": [
    "predictions = logmodel.predict(X_test)"
   ]
  },
  {
   "cell_type": "code",
   "execution_count": 187,
   "metadata": {},
   "outputs": [],
   "source": [
    "from sklearn.metrics import classification_report"
   ]
  },
  {
   "cell_type": "code",
   "execution_count": 188,
   "metadata": {},
   "outputs": [
    {
     "name": "stdout",
     "output_type": "stream",
     "text": [
      "             precision    recall  f1-score   support\n",
      "\n",
      "          0       1.00      0.98      0.99        49\n",
      "          1       1.00      1.00      1.00       201\n",
      "\n",
      "avg / total       1.00      1.00      1.00       250\n",
      "\n"
     ]
    }
   ],
   "source": [
    "print(classification_report(y_test,predictions))"
   ]
  },
  {
   "cell_type": "code",
   "execution_count": 189,
   "metadata": {},
   "outputs": [],
   "source": [
    "from sklearn.metrics import confusion_matrix"
   ]
  },
  {
   "cell_type": "code",
   "execution_count": 190,
   "metadata": {},
   "outputs": [
    {
     "name": "stdout",
     "output_type": "stream",
     "text": [
      "[[ 48   1]\n",
      " [  0 201]]\n"
     ]
    }
   ],
   "source": [
    "print(confusion_matrix(y_test,predictions))"
   ]
  },
  {
   "cell_type": "code",
   "execution_count": 196,
   "metadata": {
    "collapsed": true
   },
   "outputs": [
    {
     "data": {
      "text/plain": [
       "array([0, 1, 1, 0, 1, 1, 0, 1, 1, 1, 1, 1, 0, 1, 0, 0, 1, 1, 1, 1, 0, 1, 1,\n",
       "       1, 1, 1, 1, 1, 0, 1, 0, 1, 1, 1, 1, 1, 0, 1, 1, 1, 1, 1, 1, 0, 1, 1,\n",
       "       1, 1, 1, 1, 1, 1, 1, 0, 1, 1, 0, 1, 1, 1, 1, 1, 1, 1, 1, 1, 1, 1, 1,\n",
       "       1, 1, 1, 1, 1, 1, 1, 0, 1, 1, 0, 1, 1, 1, 0, 1, 1, 1, 0, 1, 1, 1, 1,\n",
       "       1, 1, 1, 1, 1, 0, 1, 1, 1, 0, 1, 1, 1, 0, 1, 0, 1, 1, 0, 0, 1, 0, 1,\n",
       "       1, 1, 1, 1, 1, 1, 1, 0, 1, 1, 1, 1, 1, 0, 1, 1, 0, 1, 1, 1, 1, 1, 1,\n",
       "       1, 1, 1, 1, 1, 0, 0, 1, 1, 1, 0, 1, 1, 1, 1, 0, 1, 1, 1, 1, 1, 0, 1,\n",
       "       1, 1, 1, 0, 1, 1, 1, 1, 1, 1, 0, 1, 1, 0, 1, 1, 1, 1, 1, 1, 1, 1, 1,\n",
       "       1, 1, 0, 1, 0, 1, 1, 1, 1, 0, 1, 1, 0, 1, 1, 1, 1, 1, 1, 1, 0, 1, 1,\n",
       "       1, 1, 1, 0, 1, 1, 1, 0, 1, 1, 1, 1, 0, 1, 1, 1, 1, 1, 1, 1, 0, 1, 0,\n",
       "       1, 1, 1, 1, 1, 1, 1, 1, 0, 1, 0, 1, 1, 1, 1, 1, 1, 1, 1, 0])"
      ]
     },
     "execution_count": 196,
     "metadata": {},
     "output_type": "execute_result"
    }
   ],
   "source": [
    "predictions"
   ]
  },
  {
   "cell_type": "code",
   "execution_count": 197,
   "metadata": {},
   "outputs": [
    {
     "data": {
      "text/plain": [
       "250"
      ]
     },
     "execution_count": 197,
     "metadata": {},
     "output_type": "execute_result"
    }
   ],
   "source": [
    "len(predictions)"
   ]
  },
  {
   "cell_type": "code",
   "execution_count": 205,
   "metadata": {},
   "outputs": [
    {
     "data": {
      "text/plain": [
       "0.99888313534368967"
      ]
     },
     "execution_count": 205,
     "metadata": {},
     "output_type": "execute_result"
    }
   ],
   "source": [
    "# AUC score\n",
    "from sklearn.metrics import roc_auc_score\n",
    "# logmodel = LogisticRegression() # already done above\n",
    "# X_train, X_test, y_train, y_test = train_test_split(X, y,test_size=0.4, random_state=42)\n",
    "# logmodel.fit(X_train, y_train)\n",
    "y_pred_prob = logmodel.predict_proba(X_test)[:,1]\n",
    "roc_auc_score(y_test, y_pred_prob)"
   ]
  },
  {
   "cell_type": "code",
   "execution_count": 206,
   "metadata": {},
   "outputs": [
    {
     "name": "stdout",
     "output_type": "stream",
     "text": [
      "AUC: 0.9988831353436897\n"
     ]
    }
   ],
   "source": [
    "print(\"AUC: {}\".format(roc_auc_score(y_test,y_pred_prob)))"
   ]
  },
  {
   "cell_type": "code",
   "execution_count": 207,
   "metadata": {},
   "outputs": [
    {
     "name": "stdout",
     "output_type": "stream",
     "text": [
      "[ 1.          0.97727273  0.94605184  0.99114774  1.        ]\n"
     ]
    }
   ],
   "source": [
    "# Cross validation scores\n",
    "from sklearn.model_selection import cross_val_score\n",
    "cv_scores = cross_val_score(logmodel, X, y, cv=5,scoring='roc_auc')\n",
    "print(cv_scores) "
   ]
  },
  {
   "cell_type": "code",
   "execution_count": null,
   "metadata": {},
   "outputs": [],
   "source": []
  }
 ],
 "metadata": {
  "kernelspec": {
   "display_name": "Python 3",
   "language": "python",
   "name": "python3"
  },
  "language_info": {
   "codemirror_mode": {
    "name": "ipython",
    "version": 3
   },
   "file_extension": ".py",
   "mimetype": "text/x-python",
   "name": "python",
   "nbconvert_exporter": "python",
   "pygments_lexer": "ipython3",
   "version": "3.6.3"
  }
 },
 "nbformat": 4,
 "nbformat_minor": 2
}
