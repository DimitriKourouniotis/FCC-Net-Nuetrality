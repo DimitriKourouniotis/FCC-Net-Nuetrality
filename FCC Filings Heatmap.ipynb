{
 "cells": [
  {
   "cell_type": "code",
   "execution_count": 1,
   "metadata": {},
   "outputs": [],
   "source": [
    "## \n",
    "import plotly.plotly as py\n",
    "import pandas as pd"
   ]
  },
  {
   "cell_type": "code",
   "execution_count": 4,
   "metadata": {},
   "outputs": [],
   "source": [
    "#read in csv and convert columns to strings\n",
    "#df = pd.read_csv('https://raw.githubusercontent.com/plotly/datasets/master/2011_us_ag_exports.csv')\n",
    "#for col in df.columns:\n",
    "#    df[col] = df[col].astype(str)"
   ]
  },
  {
   "cell_type": "code",
   "execution_count": 2,
   "metadata": {},
   "outputs": [],
   "source": [
    "#read in csv and convert \n",
    "df = pd.read_csv(\"FCC_state_filer_workbook2.csv\")\n"
   ]
  },
  {
   "cell_type": "code",
   "execution_count": 3,
   "metadata": {},
   "outputs": [],
   "source": [
    "for col in df.columns:\n",
    "    df[col] = df[col].astype(str)"
   ]
  },
  {
   "cell_type": "code",
   "execution_count": 4,
   "metadata": {},
   "outputs": [
    {
     "data": {
      "text/html": [
       "<div>\n",
       "<style>\n",
       "    .dataframe thead tr:only-child th {\n",
       "        text-align: right;\n",
       "    }\n",
       "\n",
       "    .dataframe thead th {\n",
       "        text-align: left;\n",
       "    }\n",
       "\n",
       "    .dataframe tbody tr th {\n",
       "        vertical-align: top;\n",
       "    }\n",
       "</style>\n",
       "<table border=\"1\" class=\"dataframe\">\n",
       "  <thead>\n",
       "    <tr style=\"text-align: right;\">\n",
       "      <th></th>\n",
       "      <th>State_Abbreviation</th>\n",
       "      <th>filers</th>\n",
       "      <th>state</th>\n",
       "      <th>First</th>\n",
       "      <th>Second</th>\n",
       "      <th>Third</th>\n",
       "      <th>Fourth</th>\n",
       "      <th>Fifth</th>\n",
       "      <th>POPESTIMATE2016</th>\n",
       "      <th>perc_pop_of_nation</th>\n",
       "      <th>name</th>\n",
       "      <th>abbreviation</th>\n",
       "      <th>perc_comments_of_total</th>\n",
       "      <th>perc_comments_to_state</th>\n",
       "      <th>diff_perc_pop_comments</th>\n",
       "    </tr>\n",
       "  </thead>\n",
       "  <tbody>\n",
       "    <tr>\n",
       "      <th>0</th>\n",
       "      <td>AK</td>\n",
       "      <td>5305</td>\n",
       "      <td>AK</td>\n",
       "      <td>gmail.com : 1467</td>\n",
       "      <td>yahoo.com : 657</td>\n",
       "      <td>hotmail.com : 332</td>\n",
       "      <td>hurra.de : 134</td>\n",
       "      <td>gci.net : 80</td>\n",
       "      <td>741894</td>\n",
       "      <td>0.23</td>\n",
       "      <td>Alaska</td>\n",
       "      <td>AK</td>\n",
       "      <td>0.23</td>\n",
       "      <td>0.72</td>\n",
       "      <td>0.0</td>\n",
       "    </tr>\n",
       "    <tr>\n",
       "      <th>1</th>\n",
       "      <td>AL</td>\n",
       "      <td>34193</td>\n",
       "      <td>AL</td>\n",
       "      <td>gmail.com : 13721</td>\n",
       "      <td>yahoo.com : 5520</td>\n",
       "      <td>aol.com : 1241</td>\n",
       "      <td>hotmail.com : 1055</td>\n",
       "      <td>bellsouth.net : 597</td>\n",
       "      <td>4863300</td>\n",
       "      <td>1.51</td>\n",
       "      <td>Alabama</td>\n",
       "      <td>AL</td>\n",
       "      <td>1.47</td>\n",
       "      <td>0.7</td>\n",
       "      <td>0.04</td>\n",
       "    </tr>\n",
       "    <tr>\n",
       "      <th>2</th>\n",
       "      <td>AR</td>\n",
       "      <td>18193</td>\n",
       "      <td>AR</td>\n",
       "      <td>gmail.com : 6925</td>\n",
       "      <td>yahoo.com : 3597</td>\n",
       "      <td>hotmail.com : 715</td>\n",
       "      <td>aol.com : 353</td>\n",
       "      <td>hurra.de : 303</td>\n",
       "      <td>2988248</td>\n",
       "      <td>0.92</td>\n",
       "      <td>Arkansas</td>\n",
       "      <td>AR</td>\n",
       "      <td>0.78</td>\n",
       "      <td>0.61</td>\n",
       "      <td>0.14</td>\n",
       "    </tr>\n",
       "    <tr>\n",
       "      <th>3</th>\n",
       "      <td>AZ</td>\n",
       "      <td>44482</td>\n",
       "      <td>AZ</td>\n",
       "      <td>gmail.com : 13902</td>\n",
       "      <td>yahoo.com : 5517</td>\n",
       "      <td>hotmail.com : 1933</td>\n",
       "      <td>cox.net : 1844</td>\n",
       "      <td>aol.com : 1381</td>\n",
       "      <td>6931071</td>\n",
       "      <td>2.14</td>\n",
       "      <td>Arizona</td>\n",
       "      <td>AZ</td>\n",
       "      <td>1.91</td>\n",
       "      <td>0.64</td>\n",
       "      <td>0.23</td>\n",
       "    </tr>\n",
       "    <tr>\n",
       "      <th>4</th>\n",
       "      <td>CA</td>\n",
       "      <td>272223</td>\n",
       "      <td>CA</td>\n",
       "      <td>gmail.com : 80325</td>\n",
       "      <td>yahoo.com : 34318</td>\n",
       "      <td>hotmail.com : 9089</td>\n",
       "      <td>aol.com : 7996</td>\n",
       "      <td>sbcglobal.net : 4670</td>\n",
       "      <td>39250017</td>\n",
       "      <td>12.15</td>\n",
       "      <td>California</td>\n",
       "      <td>CA</td>\n",
       "      <td>11.71</td>\n",
       "      <td>0.69</td>\n",
       "      <td>0.44</td>\n",
       "    </tr>\n",
       "  </tbody>\n",
       "</table>\n",
       "</div>"
      ],
      "text/plain": [
       "  State_Abbreviation  filers state              First             Second  \\\n",
       "0                 AK    5305    AK   gmail.com : 1467    yahoo.com : 657   \n",
       "1                 AL   34193    AL  gmail.com : 13721   yahoo.com : 5520   \n",
       "2                 AR   18193    AR   gmail.com : 6925   yahoo.com : 3597   \n",
       "3                 AZ   44482    AZ  gmail.com : 13902   yahoo.com : 5517   \n",
       "4                 CA  272223    CA  gmail.com : 80325  yahoo.com : 34318   \n",
       "\n",
       "                Third              Fourth                 Fifth  \\\n",
       "0   hotmail.com : 332      hurra.de : 134          gci.net : 80   \n",
       "1      aol.com : 1241  hotmail.com : 1055   bellsouth.net : 597   \n",
       "2   hotmail.com : 715       aol.com : 353        hurra.de : 303   \n",
       "3  hotmail.com : 1933      cox.net : 1844        aol.com : 1381   \n",
       "4  hotmail.com : 9089      aol.com : 7996  sbcglobal.net : 4670   \n",
       "\n",
       "  POPESTIMATE2016 perc_pop_of_nation        name abbreviation  \\\n",
       "0          741894               0.23      Alaska           AK   \n",
       "1         4863300               1.51     Alabama           AL   \n",
       "2         2988248               0.92    Arkansas           AR   \n",
       "3         6931071               2.14     Arizona           AZ   \n",
       "4        39250017              12.15  California           CA   \n",
       "\n",
       "  perc_comments_of_total perc_comments_to_state diff_perc_pop_comments  \n",
       "0                   0.23                   0.72                    0.0  \n",
       "1                   1.47                    0.7                   0.04  \n",
       "2                   0.78                   0.61                   0.14  \n",
       "3                   1.91                   0.64                   0.23  \n",
       "4                  11.71                   0.69                   0.44  "
      ]
     },
     "execution_count": 4,
     "metadata": {},
     "output_type": "execute_result"
    }
   ],
   "source": [
    "df.head()"
   ]
  },
  {
   "cell_type": "code",
   "execution_count": 6,
   "metadata": {},
   "outputs": [],
   "source": [
    "#concatonated string of state, product and qty\n",
    "df['text'] = df['name'] + '<br>' + 'Comments: '+ df['filers']\\\n",
    "+'<br>' + 'Population: '+ df['POPESTIMATE2016']\\\n",
    "+'<br>' + '% of US: '+ df['perc_pop_of_nation'] + '%'\\\n",
    "+'<br>' + '% of comments: '+ df['perc_comments_of_total'] + '%'\\\n",
    "+'<br>' + '% of difference: '+ df['diff_perc_pop_comments'] + '%'\\\n",
    "+'<br>' + '1st domain: '+ df['First']\\\n",
    "+'<br>' + '2nd domain: '+ df['Second']\\\n",
    "+'<br>' + '3rd domain: '+ df['Third']\\\n",
    "+'<br>' + '4th domain: '+ df['Fourth']\\\n",
    "+'<br>' + '5th domain: '+ df['Fifth']\n",
    "  \n",
    "# add state NAME!!    \n",
    "# add % of total\n",
    "# State population\n",
    "# Percentage of population\n",
    "# variation from population"
   ]
  },
  {
   "cell_type": "code",
   "execution_count": 8,
   "metadata": {},
   "outputs": [],
   "source": [
    "#Color scale\n",
    "scl = [[0.0, 'rgb(242,240,247)'],[0.2, 'rgb(218,218,235)'],[0.4, 'rgb(188,189,220)'],\\\n",
    "            [0.6, 'rgb(158,154,200)'],[0.8, 'rgb(117,107,177)'],[1.0, 'rgb(84,39,143)']]\n"
   ]
  },
  {
   "cell_type": "markdown",
   "metadata": {},
   "source": [
    "## Number of Comments in each state"
   ]
  },
  {
   "cell_type": "code",
   "execution_count": 23,
   "metadata": {},
   "outputs": [],
   "source": [
    "data = [ dict(\n",
    "        type='choropleth',\n",
    "        colorscale = 'YIOrRD',\n",
    "        #autocolorscale = False,\n",
    "        locations = df['State_Abbreviation'],\n",
    "        z = df['filers'].astype(float),\n",
    "        locationmode = 'USA-states',\n",
    "        text = df['text'],\n",
    "        marker = dict(\n",
    "            line = dict (\n",
    "                color = 'rgb(255,255,255)',\n",
    "                width = 2\n",
    "            ) ),\n",
    "        colorbar = dict(\n",
    "            title = \"Number of Comments\")\n",
    "        ) ]"
   ]
  },
  {
   "cell_type": "code",
   "execution_count": 25,
   "metadata": {},
   "outputs": [
    {
     "name": "stdout",
     "output_type": "stream",
     "text": [
      "High five! You successfully sent some data to your account on plotly. View your plot in your browser at https://plot.ly/~dimitrifineart/0 or inside your plot.ly account where it is named 'd3-cloropleth-map'\n"
     ]
    },
    {
     "data": {
      "text/html": [
       "<iframe id=\"igraph\" scrolling=\"no\" style=\"border:none;\" seamless=\"seamless\" src=\"https://plot.ly/~dimitrifineart/0.embed\" height=\"525px\" width=\"100%\"></iframe>"
      ],
      "text/plain": [
       "<plotly.tools.PlotlyDisplay object>"
      ]
     },
     "execution_count": 25,
     "metadata": {},
     "output_type": "execute_result"
    }
   ],
   "source": [
    "layout = dict(\n",
    "        title = '2017 Comments to FCC on Net Neutrality',\n",
    "        geo = dict(\n",
    "            scope='usa',\n",
    "            projection=dict( type='albers usa' ),\n",
    "            showlakes = True,\n",
    "            lakecolor = 'rgb(255, 255, 255)'),\n",
    "             )\n",
    "    \n",
    "fig = dict( data=data, layout=layout )\n",
    "py.iplot( fig, filename='d3-cloropleth-map' )"
   ]
  },
  {
   "cell_type": "markdown",
   "metadata": {},
   "source": [
    "## Number of comments as difference from % population in state"
   ]
  },
  {
   "cell_type": "code",
   "execution_count": 27,
   "metadata": {},
   "outputs": [],
   "source": [
    "data = [ dict(\n",
    "        type='choropleth',\n",
    "        colorscale = scl,\n",
    "        autocolorscale = False,\n",
    "        locations = df['State_Abbreviation'],\n",
    "        z = df['diff_perc_pop_comments'].astype(float),\n",
    "        locationmode = 'USA-states',\n",
    "        text = df['text'],\n",
    "        marker = dict(\n",
    "            line = dict (\n",
    "                color = 'rgb(255,255,255)',\n",
    "                width = 2\n",
    "            ) ),\n",
    "        colorbar = dict(\n",
    "            title = \"Difference from Population %\")\n",
    "        ) ]"
   ]
  },
  {
   "cell_type": "code",
   "execution_count": 28,
   "metadata": {},
   "outputs": [
    {
     "name": "stdout",
     "output_type": "stream",
     "text": [
      "High five! You successfully sent some data to your account on plotly. View your plot in your browser at https://plot.ly/~dimitrifineart/0 or inside your plot.ly account where it is named 'd3-cloropleth-map'\n"
     ]
    },
    {
     "data": {
      "text/html": [
       "<iframe id=\"igraph\" scrolling=\"no\" style=\"border:none;\" seamless=\"seamless\" src=\"https://plot.ly/~dimitrifineart/0.embed\" height=\"525px\" width=\"100%\"></iframe>"
      ],
      "text/plain": [
       "<plotly.tools.PlotlyDisplay object>"
      ]
     },
     "execution_count": 28,
     "metadata": {},
     "output_type": "execute_result"
    }
   ],
   "source": [
    "layout = dict(\n",
    "        title = '2017 Comments to FCC on Net Neutrality Difference from Population %',\n",
    "        geo = dict(\n",
    "            scope='usa',\n",
    "            projection=dict( type='albers usa' ),\n",
    "            showlakes = True,\n",
    "            lakecolor = 'rgb(255, 255, 255)'),\n",
    "             )\n",
    "    \n",
    "fig = dict( data=data, layout=layout )\n",
    "py.iplot( fig, filename='d3-cloropleth-map' )"
   ]
  },
  {
   "cell_type": "code",
   "execution_count": null,
   "metadata": {},
   "outputs": [],
   "source": []
  }
 ],
 "metadata": {
  "kernelspec": {
   "display_name": "Python 3",
   "language": "python",
   "name": "python3"
  },
  "language_info": {
   "codemirror_mode": {
    "name": "ipython",
    "version": 3
   },
   "file_extension": ".py",
   "mimetype": "text/x-python",
   "name": "python",
   "nbconvert_exporter": "python",
   "pygments_lexer": "ipython3",
   "version": "3.6.3"
  }
 },
 "nbformat": 4,
 "nbformat_minor": 2
}
