{
 "cells": [
  {
   "cell_type": "markdown",
   "metadata": {},
   "source": [
    "# Time of Submission is identical for many of these FCC public comment filings. These are possiby fake"
   ]
  },
  {
   "cell_type": "code",
   "execution_count": 76,
   "metadata": {},
   "outputs": [
    {
     "name": "stdout",
     "output_type": "stream",
     "text": [
      "2017-05-24T23:18:04+00:00    86237\n",
      "2017-05-24T23:09:20+00:00    81837\n",
      "2017-05-24T23:14:50+00:00    61642\n",
      "2017-05-24T23:11:57+00:00    38261\n",
      "2017-05-24T23:19:47+00:00    30394\n",
      "2017-05-25T10:01:58+00:00    13403\n",
      "2017-05-24T22:58:31+00:00    12958\n",
      "2017-05-25T10:01:36+00:00    12858\n",
      "2017-05-24T23:21:10+00:00    12319\n",
      "2017-05-25T10:01:15+00:00    12245\n",
      "2017-05-25T10:03:36+00:00     9432\n",
      "2017-05-25T10:02:58+00:00     9029\n",
      "2017-05-25T10:00:52+00:00     8257\n",
      "2017-05-25T10:02:15+00:00     7767\n",
      "2017-05-25T10:04:06+00:00     7473\n",
      "2017-05-25T10:02:36+00:00     7151\n",
      "2017-05-25T10:00:32+00:00     6213\n",
      "2017-05-25T09:59:45+00:00     5249\n",
      "2017-05-25T10:00:10+00:00     5246\n",
      "2017-05-25T10:03:50+00:00     4099\n",
      "2017-05-25T10:03:18+00:00     3776\n",
      "2017-05-25T21:15:41.088Z         3\n",
      "2017-05-25T20:06:31.317Z         3\n",
      "2017-05-25T20:36:58.727Z         3\n",
      "2017-05-25T20:30:19.853Z         3\n",
      "2017-05-25T14:23:11.888Z         2\n",
      "2017-05-25T20:42:26.816Z         2\n",
      "2017-05-25T20:36:04.326Z         2\n",
      "2017-05-25T14:40:51.923Z         2\n",
      "2017-05-25T21:16:03.038Z         2\n",
      "                             ...  \n",
      "2017-05-25T15:01:50.000Z         1\n",
      "2017-05-25T20:34:37.743Z         1\n",
      "2017-05-25T21:23:33.016Z         1\n",
      "2017-05-25T20:42:06.492Z         1\n",
      "2017-05-25T20:03:02.830Z         1\n",
      "2017-05-25T20:09:27.032Z         1\n",
      "2017-05-25T21:21:18.229Z         1\n",
      "2017-05-25T20:34:43.663Z         1\n",
      "2017-05-25T14:41:46.660Z         1\n",
      "2017-05-25T20:14:19.227Z         1\n",
      "2017-05-25T21:21:22.707Z         1\n",
      "2017-05-25T14:37:58.646Z         1\n",
      "2017-05-25T20:27:53.241Z         1\n",
      "2017-05-25T15:03:09.591Z         1\n",
      "2017-05-25T20:05:33.356Z         1\n",
      "2017-05-25T20:33:14.963Z         1\n",
      "2017-05-25T21:19:27.343Z         1\n",
      "2017-05-25T14:44:12.597Z         1\n",
      "2017-05-25T14:37:03.838Z         1\n",
      "2017-05-25T04:26:04.475Z         1\n",
      "2017-05-25T21:30:51.016Z         1\n",
      "2017-05-25T21:19:03.045Z         1\n",
      "2017-05-25T21:23:40.082Z         1\n",
      "2017-05-25T20:14:05.913Z         1\n",
      "2017-05-25T21:29:21.681Z         1\n",
      "2017-05-25T21:34:17.458Z         1\n",
      "2017-05-25T14:42:02.326Z         1\n",
      "2017-05-25T21:34:18.126Z         1\n",
      "2017-05-25T21:34:18.395Z         1\n",
      "2017-05-25T20:06:55.472Z         1\n",
      "Name: date_submission, Length: 63731, dtype: int64\n"
     ]
    }
   ],
   "source": [
    "# Multiple sumbissions at the exact same instant.. possibly automatically generated\n",
    "print(df_500k_zip.date_submission.value_counts())"
   ]
  },
  {
   "cell_type": "code",
   "execution_count": 1,
   "metadata": {
    "collapsed": true
   },
   "outputs": [],
   "source": [
    "# imports:\n",
    "import pandas as pd\n",
    "import seaborn as sns\n",
    "import matplotlib.pyplot as plt\n",
    "from wordcloud.wordcloud import WordCloud"
   ]
  },
  {
   "cell_type": "code",
   "execution_count": 2,
   "metadata": {},
   "outputs": [
    {
     "name": "stderr",
     "output_type": "stream",
     "text": [
      "E:\\Anaconda\\lib\\site-packages\\IPython\\core\\interactiveshell.py:2698: DtypeWarning: Columns (10,13) have mixed types. Specify dtype option on import or set low_memory=False.\n",
      "  interactivity=interactivity, compiler=compiler, result=result)\n"
     ]
    },
    {
     "data": {
      "text/html": [
       "<div>\n",
       "<style scoped>\n",
       "    .dataframe tbody tr th:only-of-type {\n",
       "        vertical-align: middle;\n",
       "    }\n",
       "\n",
       "    .dataframe tbody tr th {\n",
       "        vertical-align: top;\n",
       "    }\n",
       "\n",
       "    .dataframe thead th {\n",
       "        text-align: right;\n",
       "    }\n",
       "</style>\n",
       "<table border=\"1\" class=\"dataframe\">\n",
       "  <thead>\n",
       "    <tr style=\"text-align: right;\">\n",
       "      <th></th>\n",
       "      <th>id</th>\n",
       "      <th>date_submission</th>\n",
       "      <th>contact_email</th>\n",
       "      <th>confirmation_number</th>\n",
       "      <th>text_data</th>\n",
       "      <th>index</th>\n",
       "      <th>filers</th>\n",
       "      <th>addressentity</th>\n",
       "      <th>internationaladdressentity</th>\n",
       "      <th>address_line_1</th>\n",
       "      <th>address_line_2</th>\n",
       "      <th>city</th>\n",
       "      <th>state</th>\n",
       "      <th>zip4</th>\n",
       "      <th>zip_code</th>\n",
       "    </tr>\n",
       "  </thead>\n",
       "  <tbody>\n",
       "    <tr>\n",
       "      <th>0</th>\n",
       "      <td>59f883d850b733300fdbec7a</td>\n",
       "      <td>2017-05-24T22:58:31+00:00</td>\n",
       "      <td>amos31wj@yahoo.com</td>\n",
       "      <td>201706031279605654</td>\n",
       "      <td>Dear Chairman Pai,  I'm contacting you about r...</td>\n",
       "      <td>filings.2017.5</td>\n",
       "      <td>[{\"name\":\"Amos Thompson\"}]</td>\n",
       "      <td>{'city': 'W Jefferson', 'address_line_1': '133...</td>\n",
       "      <td>{\"addresstext\":\"\"}</td>\n",
       "      <td>133 Blendon Rd</td>\n",
       "      <td>NaN</td>\n",
       "      <td>W Jefferson</td>\n",
       "      <td>OH</td>\n",
       "      <td>NaN</td>\n",
       "      <td>43162</td>\n",
       "    </tr>\n",
       "    <tr>\n",
       "      <th>1</th>\n",
       "      <td>59f883d850b733300fdbec7b</td>\n",
       "      <td>2017-05-24T22:58:31+00:00</td>\n",
       "      <td>dseanger@msn.com</td>\n",
       "      <td>201706030519826565</td>\n",
       "      <td>Chairman Pai:  My comments re: net neutrality ...</td>\n",
       "      <td>filings.2017.5</td>\n",
       "      <td>[{\"name\":\"Douglas Seanger\"}]</td>\n",
       "      <td>{'city': 'Tucson', 'address_line_1': '1650 E R...</td>\n",
       "      <td>{\"addresstext\":\"\"}</td>\n",
       "      <td>1650 E River Rd Ste 104</td>\n",
       "      <td>NaN</td>\n",
       "      <td>Tucson</td>\n",
       "      <td>AZ</td>\n",
       "      <td>NaN</td>\n",
       "      <td>56303</td>\n",
       "    </tr>\n",
       "    <tr>\n",
       "      <th>2</th>\n",
       "      <td>59f883d850b733300fdbec7c</td>\n",
       "      <td>2017-05-24T22:58:31+00:00</td>\n",
       "      <td>loverlego7787@gmail.com</td>\n",
       "      <td>2017060327172116</td>\n",
       "      <td>Mr Pai:  Hi, I'd like to comment on Internet f...</td>\n",
       "      <td>filings.2017.5</td>\n",
       "      <td>[{\"name\":\"Joe Cohn\"}]</td>\n",
       "      <td>{'city': 'Carol Stream', 'address_line_1': '25...</td>\n",
       "      <td>{\"addresstext\":\"\"}</td>\n",
       "      <td>258 E Saint Charles Rd</td>\n",
       "      <td>NaN</td>\n",
       "      <td>Carol Stream</td>\n",
       "      <td>IL</td>\n",
       "      <td>NaN</td>\n",
       "      <td>60188</td>\n",
       "    </tr>\n",
       "    <tr>\n",
       "      <th>3</th>\n",
       "      <td>59f883d850b733300fdbec7d</td>\n",
       "      <td>2017-05-24T22:58:31+00:00</td>\n",
       "      <td>crankd84@gmail.com</td>\n",
       "      <td>201706030155900088</td>\n",
       "      <td>Dear Chairman Pai,  I'm very worried about the...</td>\n",
       "      <td>filings.2017.5</td>\n",
       "      <td>[{\"name\":\"Danelle Crank\"}]</td>\n",
       "      <td>{'city': 'Canon City', 'address_line_1': '2002...</td>\n",
       "      <td>{\"addresstext\":\"\"}</td>\n",
       "      <td>2002 E Main St</td>\n",
       "      <td>NaN</td>\n",
       "      <td>Canon City</td>\n",
       "      <td>CO</td>\n",
       "      <td>NaN</td>\n",
       "      <td>81212</td>\n",
       "    </tr>\n",
       "    <tr>\n",
       "      <th>4</th>\n",
       "      <td>59f883d850b733300fdbec7e</td>\n",
       "      <td>2017-05-24T22:58:31+00:00</td>\n",
       "      <td>lisadh728@yahoo.com</td>\n",
       "      <td>20170603026210221</td>\n",
       "      <td>To the Federal Communications Commission:  Reg...</td>\n",
       "      <td>filings.2017.5</td>\n",
       "      <td>[{\"name\":\"Lisa Hockaday\"}]</td>\n",
       "      <td>{'city': 'Raleigh', 'address_line_1': '1818 Wa...</td>\n",
       "      <td>{\"addresstext\":\"\"}</td>\n",
       "      <td>1818 Watkins St</td>\n",
       "      <td>NaN</td>\n",
       "      <td>Raleigh</td>\n",
       "      <td>NC</td>\n",
       "      <td>NaN</td>\n",
       "      <td>27604</td>\n",
       "    </tr>\n",
       "  </tbody>\n",
       "</table>\n",
       "</div>"
      ],
      "text/plain": [
       "                         id            date_submission  \\\n",
       "0  59f883d850b733300fdbec7a  2017-05-24T22:58:31+00:00   \n",
       "1  59f883d850b733300fdbec7b  2017-05-24T22:58:31+00:00   \n",
       "2  59f883d850b733300fdbec7c  2017-05-24T22:58:31+00:00   \n",
       "3  59f883d850b733300fdbec7d  2017-05-24T22:58:31+00:00   \n",
       "4  59f883d850b733300fdbec7e  2017-05-24T22:58:31+00:00   \n",
       "\n",
       "             contact_email  confirmation_number  \\\n",
       "0       amos31wj@yahoo.com   201706031279605654   \n",
       "1         dseanger@msn.com   201706030519826565   \n",
       "2  loverlego7787@gmail.com     2017060327172116   \n",
       "3       crankd84@gmail.com   201706030155900088   \n",
       "4      lisadh728@yahoo.com    20170603026210221   \n",
       "\n",
       "                                           text_data           index  \\\n",
       "0  Dear Chairman Pai,  I'm contacting you about r...  filings.2017.5   \n",
       "1  Chairman Pai:  My comments re: net neutrality ...  filings.2017.5   \n",
       "2  Mr Pai:  Hi, I'd like to comment on Internet f...  filings.2017.5   \n",
       "3  Dear Chairman Pai,  I'm very worried about the...  filings.2017.5   \n",
       "4  To the Federal Communications Commission:  Reg...  filings.2017.5   \n",
       "\n",
       "                         filers  \\\n",
       "0    [{\"name\":\"Amos Thompson\"}]   \n",
       "1  [{\"name\":\"Douglas Seanger\"}]   \n",
       "2         [{\"name\":\"Joe Cohn\"}]   \n",
       "3    [{\"name\":\"Danelle Crank\"}]   \n",
       "4    [{\"name\":\"Lisa Hockaday\"}]   \n",
       "\n",
       "                                       addressentity  \\\n",
       "0  {'city': 'W Jefferson', 'address_line_1': '133...   \n",
       "1  {'city': 'Tucson', 'address_line_1': '1650 E R...   \n",
       "2  {'city': 'Carol Stream', 'address_line_1': '25...   \n",
       "3  {'city': 'Canon City', 'address_line_1': '2002...   \n",
       "4  {'city': 'Raleigh', 'address_line_1': '1818 Wa...   \n",
       "\n",
       "  internationaladdressentity           address_line_1 address_line_2  \\\n",
       "0         {\"addresstext\":\"\"}           133 Blendon Rd            NaN   \n",
       "1         {\"addresstext\":\"\"}  1650 E River Rd Ste 104            NaN   \n",
       "2         {\"addresstext\":\"\"}   258 E Saint Charles Rd            NaN   \n",
       "3         {\"addresstext\":\"\"}           2002 E Main St            NaN   \n",
       "4         {\"addresstext\":\"\"}          1818 Watkins St            NaN   \n",
       "\n",
       "           city state zip4 zip_code  \n",
       "0   W Jefferson    OH  NaN    43162  \n",
       "1        Tucson    AZ  NaN    56303  \n",
       "2  Carol Stream    IL  NaN    60188  \n",
       "3    Canon City    CO  NaN    81212  \n",
       "4       Raleigh    NC  NaN    27604  "
      ]
     },
     "execution_count": 2,
     "metadata": {},
     "output_type": "execute_result"
    }
   ],
   "source": [
    "df_500k_zip = pd.read_csv('FCC_comments_500K.csv', encoding='utf8')\n",
    "df_500k_zip.head()"
   ]
  },
  {
   "cell_type": "code",
   "execution_count": 7,
   "metadata": {
    "collapsed": true
   },
   "outputs": [],
   "source": [
    "# remove unwanted columns \"address line 2\" & \"zip4\"\n",
    "df_500k_zip = df_500k_zip.drop(['address_line_2', 'zip4'], axis=1)"
   ]
  },
  {
   "cell_type": "code",
   "execution_count": 8,
   "metadata": {
    "collapsed": true
   },
   "outputs": [],
   "source": [
    "#save data\n",
    "df_500k_zip.to_csv('FCC_comments_500K.csv', index=False)"
   ]
  },
  {
   "cell_type": "code",
   "execution_count": 28,
   "metadata": {},
   "outputs": [
    {
     "ename": "KeyError",
     "evalue": "'internatioaladdressentity'",
     "output_type": "error",
     "traceback": [
      "\u001b[1;31m---------------------------------------------------------------------------\u001b[0m",
      "\u001b[1;31mKeyError\u001b[0m                                  Traceback (most recent call last)",
      "\u001b[1;32mE:\\Anaconda\\lib\\site-packages\\pandas\\core\\indexes\\base.py\u001b[0m in \u001b[0;36mget_loc\u001b[1;34m(self, key, method, tolerance)\u001b[0m\n\u001b[0;32m   2524\u001b[0m             \u001b[1;32mtry\u001b[0m\u001b[1;33m:\u001b[0m\u001b[1;33m\u001b[0m\u001b[0m\n\u001b[1;32m-> 2525\u001b[1;33m                 \u001b[1;32mreturn\u001b[0m \u001b[0mself\u001b[0m\u001b[1;33m.\u001b[0m\u001b[0m_engine\u001b[0m\u001b[1;33m.\u001b[0m\u001b[0mget_loc\u001b[0m\u001b[1;33m(\u001b[0m\u001b[0mkey\u001b[0m\u001b[1;33m)\u001b[0m\u001b[1;33m\u001b[0m\u001b[0m\n\u001b[0m\u001b[0;32m   2526\u001b[0m             \u001b[1;32mexcept\u001b[0m \u001b[0mKeyError\u001b[0m\u001b[1;33m:\u001b[0m\u001b[1;33m\u001b[0m\u001b[0m\n",
      "\u001b[1;32mpandas/_libs/index.pyx\u001b[0m in \u001b[0;36mpandas._libs.index.IndexEngine.get_loc\u001b[1;34m()\u001b[0m\n",
      "\u001b[1;32mpandas/_libs/index.pyx\u001b[0m in \u001b[0;36mpandas._libs.index.IndexEngine.get_loc\u001b[1;34m()\u001b[0m\n",
      "\u001b[1;32mpandas/_libs/hashtable_class_helper.pxi\u001b[0m in \u001b[0;36mpandas._libs.hashtable.PyObjectHashTable.get_item\u001b[1;34m()\u001b[0m\n",
      "\u001b[1;32mpandas/_libs/hashtable_class_helper.pxi\u001b[0m in \u001b[0;36mpandas._libs.hashtable.PyObjectHashTable.get_item\u001b[1;34m()\u001b[0m\n",
      "\u001b[1;31mKeyError\u001b[0m: 'internatioaladdressentity'",
      "\nDuring handling of the above exception, another exception occurred:\n",
      "\u001b[1;31mKeyError\u001b[0m                                  Traceback (most recent call last)",
      "\u001b[1;32m<ipython-input-28-8ffbd3f36603>\u001b[0m in \u001b[0;36m<module>\u001b[1;34m()\u001b[0m\n\u001b[0;32m      2\u001b[0m \u001b[1;33m\u001b[0m\u001b[0m\n\u001b[0;32m      3\u001b[0m \u001b[0mdf_500K_zip\u001b[0m\u001b[1;33m[\u001b[0m\u001b[1;34m\"internationaladdressentity\"\u001b[0m\u001b[1;33m]\u001b[0m \u001b[1;33m=\u001b[0m \u001b[0mdf_500K_zip\u001b[0m\u001b[1;33m[\u001b[0m\u001b[1;34m\"internationaladdressentity\"\u001b[0m\u001b[1;33m]\u001b[0m\u001b[1;33m.\u001b[0m\u001b[0mapply\u001b[0m\u001b[1;33m(\u001b[0m\u001b[1;32mlambda\u001b[0m \u001b[0mx\u001b[0m \u001b[1;33m:\u001b[0m \u001b[0mdict\u001b[0m\u001b[1;33m(\u001b[0m\u001b[0meval\u001b[0m\u001b[1;33m(\u001b[0m\u001b[0mx\u001b[0m\u001b[1;33m)\u001b[0m\u001b[1;33m)\u001b[0m\u001b[1;33m)\u001b[0m\u001b[1;33m\u001b[0m\u001b[0m\n\u001b[1;32m----> 4\u001b[1;33m \u001b[0mdf2\u001b[0m \u001b[1;33m=\u001b[0m \u001b[0mdf_500K_zip\u001b[0m\u001b[1;33m[\u001b[0m\u001b[1;34m\"internatioaladdressentity\"\u001b[0m\u001b[1;33m]\u001b[0m\u001b[1;33m.\u001b[0m\u001b[0mapply\u001b[0m\u001b[1;33m(\u001b[0m\u001b[0mpd\u001b[0m\u001b[1;33m.\u001b[0m\u001b[0mSeries\u001b[0m\u001b[1;33m)\u001b[0m\u001b[1;33m\u001b[0m\u001b[0m\n\u001b[0m",
      "\u001b[1;32mE:\\Anaconda\\lib\\site-packages\\pandas\\core\\frame.py\u001b[0m in \u001b[0;36m__getitem__\u001b[1;34m(self, key)\u001b[0m\n\u001b[0;32m   2137\u001b[0m             \u001b[1;32mreturn\u001b[0m \u001b[0mself\u001b[0m\u001b[1;33m.\u001b[0m\u001b[0m_getitem_multilevel\u001b[0m\u001b[1;33m(\u001b[0m\u001b[0mkey\u001b[0m\u001b[1;33m)\u001b[0m\u001b[1;33m\u001b[0m\u001b[0m\n\u001b[0;32m   2138\u001b[0m         \u001b[1;32melse\u001b[0m\u001b[1;33m:\u001b[0m\u001b[1;33m\u001b[0m\u001b[0m\n\u001b[1;32m-> 2139\u001b[1;33m             \u001b[1;32mreturn\u001b[0m \u001b[0mself\u001b[0m\u001b[1;33m.\u001b[0m\u001b[0m_getitem_column\u001b[0m\u001b[1;33m(\u001b[0m\u001b[0mkey\u001b[0m\u001b[1;33m)\u001b[0m\u001b[1;33m\u001b[0m\u001b[0m\n\u001b[0m\u001b[0;32m   2140\u001b[0m \u001b[1;33m\u001b[0m\u001b[0m\n\u001b[0;32m   2141\u001b[0m     \u001b[1;32mdef\u001b[0m \u001b[0m_getitem_column\u001b[0m\u001b[1;33m(\u001b[0m\u001b[0mself\u001b[0m\u001b[1;33m,\u001b[0m \u001b[0mkey\u001b[0m\u001b[1;33m)\u001b[0m\u001b[1;33m:\u001b[0m\u001b[1;33m\u001b[0m\u001b[0m\n",
      "\u001b[1;32mE:\\Anaconda\\lib\\site-packages\\pandas\\core\\frame.py\u001b[0m in \u001b[0;36m_getitem_column\u001b[1;34m(self, key)\u001b[0m\n\u001b[0;32m   2144\u001b[0m         \u001b[1;31m# get column\u001b[0m\u001b[1;33m\u001b[0m\u001b[1;33m\u001b[0m\u001b[0m\n\u001b[0;32m   2145\u001b[0m         \u001b[1;32mif\u001b[0m \u001b[0mself\u001b[0m\u001b[1;33m.\u001b[0m\u001b[0mcolumns\u001b[0m\u001b[1;33m.\u001b[0m\u001b[0mis_unique\u001b[0m\u001b[1;33m:\u001b[0m\u001b[1;33m\u001b[0m\u001b[0m\n\u001b[1;32m-> 2146\u001b[1;33m             \u001b[1;32mreturn\u001b[0m \u001b[0mself\u001b[0m\u001b[1;33m.\u001b[0m\u001b[0m_get_item_cache\u001b[0m\u001b[1;33m(\u001b[0m\u001b[0mkey\u001b[0m\u001b[1;33m)\u001b[0m\u001b[1;33m\u001b[0m\u001b[0m\n\u001b[0m\u001b[0;32m   2147\u001b[0m \u001b[1;33m\u001b[0m\u001b[0m\n\u001b[0;32m   2148\u001b[0m         \u001b[1;31m# duplicate columns & possible reduce dimensionality\u001b[0m\u001b[1;33m\u001b[0m\u001b[1;33m\u001b[0m\u001b[0m\n",
      "\u001b[1;32mE:\\Anaconda\\lib\\site-packages\\pandas\\core\\generic.py\u001b[0m in \u001b[0;36m_get_item_cache\u001b[1;34m(self, item)\u001b[0m\n\u001b[0;32m   1840\u001b[0m         \u001b[0mres\u001b[0m \u001b[1;33m=\u001b[0m \u001b[0mcache\u001b[0m\u001b[1;33m.\u001b[0m\u001b[0mget\u001b[0m\u001b[1;33m(\u001b[0m\u001b[0mitem\u001b[0m\u001b[1;33m)\u001b[0m\u001b[1;33m\u001b[0m\u001b[0m\n\u001b[0;32m   1841\u001b[0m         \u001b[1;32mif\u001b[0m \u001b[0mres\u001b[0m \u001b[1;32mis\u001b[0m \u001b[1;32mNone\u001b[0m\u001b[1;33m:\u001b[0m\u001b[1;33m\u001b[0m\u001b[0m\n\u001b[1;32m-> 1842\u001b[1;33m             \u001b[0mvalues\u001b[0m \u001b[1;33m=\u001b[0m \u001b[0mself\u001b[0m\u001b[1;33m.\u001b[0m\u001b[0m_data\u001b[0m\u001b[1;33m.\u001b[0m\u001b[0mget\u001b[0m\u001b[1;33m(\u001b[0m\u001b[0mitem\u001b[0m\u001b[1;33m)\u001b[0m\u001b[1;33m\u001b[0m\u001b[0m\n\u001b[0m\u001b[0;32m   1843\u001b[0m             \u001b[0mres\u001b[0m \u001b[1;33m=\u001b[0m \u001b[0mself\u001b[0m\u001b[1;33m.\u001b[0m\u001b[0m_box_item_values\u001b[0m\u001b[1;33m(\u001b[0m\u001b[0mitem\u001b[0m\u001b[1;33m,\u001b[0m \u001b[0mvalues\u001b[0m\u001b[1;33m)\u001b[0m\u001b[1;33m\u001b[0m\u001b[0m\n\u001b[0;32m   1844\u001b[0m             \u001b[0mcache\u001b[0m\u001b[1;33m[\u001b[0m\u001b[0mitem\u001b[0m\u001b[1;33m]\u001b[0m \u001b[1;33m=\u001b[0m \u001b[0mres\u001b[0m\u001b[1;33m\u001b[0m\u001b[0m\n",
      "\u001b[1;32mE:\\Anaconda\\lib\\site-packages\\pandas\\core\\internals.py\u001b[0m in \u001b[0;36mget\u001b[1;34m(self, item, fastpath)\u001b[0m\n\u001b[0;32m   3841\u001b[0m \u001b[1;33m\u001b[0m\u001b[0m\n\u001b[0;32m   3842\u001b[0m             \u001b[1;32mif\u001b[0m \u001b[1;32mnot\u001b[0m \u001b[0misna\u001b[0m\u001b[1;33m(\u001b[0m\u001b[0mitem\u001b[0m\u001b[1;33m)\u001b[0m\u001b[1;33m:\u001b[0m\u001b[1;33m\u001b[0m\u001b[0m\n\u001b[1;32m-> 3843\u001b[1;33m                 \u001b[0mloc\u001b[0m \u001b[1;33m=\u001b[0m \u001b[0mself\u001b[0m\u001b[1;33m.\u001b[0m\u001b[0mitems\u001b[0m\u001b[1;33m.\u001b[0m\u001b[0mget_loc\u001b[0m\u001b[1;33m(\u001b[0m\u001b[0mitem\u001b[0m\u001b[1;33m)\u001b[0m\u001b[1;33m\u001b[0m\u001b[0m\n\u001b[0m\u001b[0;32m   3844\u001b[0m             \u001b[1;32melse\u001b[0m\u001b[1;33m:\u001b[0m\u001b[1;33m\u001b[0m\u001b[0m\n\u001b[0;32m   3845\u001b[0m                 \u001b[0mindexer\u001b[0m \u001b[1;33m=\u001b[0m \u001b[0mnp\u001b[0m\u001b[1;33m.\u001b[0m\u001b[0marange\u001b[0m\u001b[1;33m(\u001b[0m\u001b[0mlen\u001b[0m\u001b[1;33m(\u001b[0m\u001b[0mself\u001b[0m\u001b[1;33m.\u001b[0m\u001b[0mitems\u001b[0m\u001b[1;33m)\u001b[0m\u001b[1;33m)\u001b[0m\u001b[1;33m[\u001b[0m\u001b[0misna\u001b[0m\u001b[1;33m(\u001b[0m\u001b[0mself\u001b[0m\u001b[1;33m.\u001b[0m\u001b[0mitems\u001b[0m\u001b[1;33m)\u001b[0m\u001b[1;33m]\u001b[0m\u001b[1;33m\u001b[0m\u001b[0m\n",
      "\u001b[1;32mE:\\Anaconda\\lib\\site-packages\\pandas\\core\\indexes\\base.py\u001b[0m in \u001b[0;36mget_loc\u001b[1;34m(self, key, method, tolerance)\u001b[0m\n\u001b[0;32m   2525\u001b[0m                 \u001b[1;32mreturn\u001b[0m \u001b[0mself\u001b[0m\u001b[1;33m.\u001b[0m\u001b[0m_engine\u001b[0m\u001b[1;33m.\u001b[0m\u001b[0mget_loc\u001b[0m\u001b[1;33m(\u001b[0m\u001b[0mkey\u001b[0m\u001b[1;33m)\u001b[0m\u001b[1;33m\u001b[0m\u001b[0m\n\u001b[0;32m   2526\u001b[0m             \u001b[1;32mexcept\u001b[0m \u001b[0mKeyError\u001b[0m\u001b[1;33m:\u001b[0m\u001b[1;33m\u001b[0m\u001b[0m\n\u001b[1;32m-> 2527\u001b[1;33m                 \u001b[1;32mreturn\u001b[0m \u001b[0mself\u001b[0m\u001b[1;33m.\u001b[0m\u001b[0m_engine\u001b[0m\u001b[1;33m.\u001b[0m\u001b[0mget_loc\u001b[0m\u001b[1;33m(\u001b[0m\u001b[0mself\u001b[0m\u001b[1;33m.\u001b[0m\u001b[0m_maybe_cast_indexer\u001b[0m\u001b[1;33m(\u001b[0m\u001b[0mkey\u001b[0m\u001b[1;33m)\u001b[0m\u001b[1;33m)\u001b[0m\u001b[1;33m\u001b[0m\u001b[0m\n\u001b[0m\u001b[0;32m   2528\u001b[0m \u001b[1;33m\u001b[0m\u001b[0m\n\u001b[0;32m   2529\u001b[0m         \u001b[0mindexer\u001b[0m \u001b[1;33m=\u001b[0m \u001b[0mself\u001b[0m\u001b[1;33m.\u001b[0m\u001b[0mget_indexer\u001b[0m\u001b[1;33m(\u001b[0m\u001b[1;33m[\u001b[0m\u001b[0mkey\u001b[0m\u001b[1;33m]\u001b[0m\u001b[1;33m,\u001b[0m \u001b[0mmethod\u001b[0m\u001b[1;33m=\u001b[0m\u001b[0mmethod\u001b[0m\u001b[1;33m,\u001b[0m \u001b[0mtolerance\u001b[0m\u001b[1;33m=\u001b[0m\u001b[0mtolerance\u001b[0m\u001b[1;33m)\u001b[0m\u001b[1;33m\u001b[0m\u001b[0m\n",
      "\u001b[1;32mpandas/_libs/index.pyx\u001b[0m in \u001b[0;36mpandas._libs.index.IndexEngine.get_loc\u001b[1;34m()\u001b[0m\n",
      "\u001b[1;32mpandas/_libs/index.pyx\u001b[0m in \u001b[0;36mpandas._libs.index.IndexEngine.get_loc\u001b[1;34m()\u001b[0m\n",
      "\u001b[1;32mpandas/_libs/hashtable_class_helper.pxi\u001b[0m in \u001b[0;36mpandas._libs.hashtable.PyObjectHashTable.get_item\u001b[1;34m()\u001b[0m\n",
      "\u001b[1;32mpandas/_libs/hashtable_class_helper.pxi\u001b[0m in \u001b[0;36mpandas._libs.hashtable.PyObjectHashTable.get_item\u001b[1;34m()\u001b[0m\n",
      "\u001b[1;31mKeyError\u001b[0m: 'internatioaladdressentity'"
     ]
    }
   ],
   "source": [
    "# expand international address entity\n",
    "\n",
    "df_500K_zip[\"internationaladdressentity\"] = df_500K_zip[\"internationaladdressentity\"].apply(lambda x : dict(eval(x)))\n",
    "df2 = df_500K_zip[\"internationaladdressentity\"].apply(pd.Series)"
   ]
  },
  {
   "cell_type": "code",
   "execution_count": 29,
   "metadata": {
    "collapsed": true
   },
   "outputs": [],
   "source": []
  },
  {
   "cell_type": "code",
   "execution_count": 33,
   "metadata": {
    "collapsed": true
   },
   "outputs": [],
   "source": [
    "#concatonate dataframes\n",
    "df_500k_zip = pd.concat([df_500K_zip, df2], axis=1)"
   ]
  },
  {
   "cell_type": "code",
   "execution_count": 39,
   "metadata": {},
   "outputs": [
    {
     "data": {
      "text/html": [
       "<div>\n",
       "<style scoped>\n",
       "    .dataframe tbody tr th:only-of-type {\n",
       "        vertical-align: middle;\n",
       "    }\n",
       "\n",
       "    .dataframe tbody tr th {\n",
       "        vertical-align: top;\n",
       "    }\n",
       "\n",
       "    .dataframe thead th {\n",
       "        text-align: right;\n",
       "    }\n",
       "</style>\n",
       "<table border=\"1\" class=\"dataframe\">\n",
       "  <thead>\n",
       "    <tr style=\"text-align: right;\">\n",
       "      <th></th>\n",
       "      <th>id</th>\n",
       "      <th>date_submission</th>\n",
       "      <th>contact_email</th>\n",
       "      <th>confirmation_number</th>\n",
       "      <th>text_data</th>\n",
       "      <th>index</th>\n",
       "      <th>filers</th>\n",
       "      <th>addressentity</th>\n",
       "      <th>internationaladdressentity</th>\n",
       "      <th>address_line_1</th>\n",
       "      <th>city</th>\n",
       "      <th>state</th>\n",
       "      <th>zip_code</th>\n",
       "      <th>international_address_text</th>\n",
       "    </tr>\n",
       "  </thead>\n",
       "  <tbody>\n",
       "    <tr>\n",
       "      <th>499995</th>\n",
       "      <td>59f88b9f50b733300fe38ed1</td>\n",
       "      <td>2017-05-25T21:34:18.557Z</td>\n",
       "      <td>BogdanTikhonov@mail.ru</td>\n",
       "      <td>201705251986403858</td>\n",
       "      <td>We need net neutralityto continue. A free and ...</td>\n",
       "      <td>filings.2017.5</td>\n",
       "      <td>[{\"name\":\"Bogdan Tikhonov\"}]</td>\n",
       "      <td>{'city': '', 'address_line_1': '', 'state': ''...</td>\n",
       "      <td>{'addresstext': '3131 Haul Road\n",
       "94015,Daly Cit...</td>\n",
       "      <td>NaN</td>\n",
       "      <td>NaN</td>\n",
       "      <td>NaN</td>\n",
       "      <td>NaN</td>\n",
       "      <td>3131 Haul Road\\n94015,Daly City, California, U...</td>\n",
       "    </tr>\n",
       "    <tr>\n",
       "      <th>499996</th>\n",
       "      <td>59f88b9f50b733300fe38ed2</td>\n",
       "      <td>2017-05-25T21:34:18.558Z</td>\n",
       "      <td>EmmaAlekseyeva@mail.ru</td>\n",
       "      <td>20170525154035820</td>\n",
       "      <td>Save net neutrality! I am worried that the pro...</td>\n",
       "      <td>filings.2017.5</td>\n",
       "      <td>[{\"name\":\"Emma Alekseyeva\"}]</td>\n",
       "      <td>{'city': '', 'address_line_1': '', 'state': ''...</td>\n",
       "      <td>{'addresstext': '3225 Joy Lane\n",
       "91601,North Hol...</td>\n",
       "      <td>NaN</td>\n",
       "      <td>NaN</td>\n",
       "      <td>NaN</td>\n",
       "      <td>NaN</td>\n",
       "      <td>3225 Joy Lane\\n91601,North Hollywood, Californ...</td>\n",
       "    </tr>\n",
       "    <tr>\n",
       "      <th>499997</th>\n",
       "      <td>59f88b9f50b733300fe38ed3</td>\n",
       "      <td>2017-05-25T21:34:18.714Z</td>\n",
       "      <td>MethodiusYevseyev@mail.ru</td>\n",
       "      <td>20170525032256819</td>\n",
       "      <td>Leave the net neutrality alone. Internet speed...</td>\n",
       "      <td>filings.2017.5</td>\n",
       "      <td>[{\"name\":\"Methodius Yevseyev\"}]</td>\n",
       "      <td>{'city': '', 'address_line_1': '', 'state': ''...</td>\n",
       "      <td>{'addresstext': '72 Mount Olive Road\n",
       "30030,Dec...</td>\n",
       "      <td>NaN</td>\n",
       "      <td>NaN</td>\n",
       "      <td>NaN</td>\n",
       "      <td>NaN</td>\n",
       "      <td>72 Mount Olive Road\\n30030,Decatur, Georgia, U...</td>\n",
       "    </tr>\n",
       "    <tr>\n",
       "      <th>499998</th>\n",
       "      <td>59f88b9f50b733300fe38ed4</td>\n",
       "      <td>2017-05-25T21:34:18.725Z</td>\n",
       "      <td>EricBobrova@mail.ru</td>\n",
       "      <td>2017052570584704</td>\n",
       "      <td>Please Save Net Neutrality and Title ll rules....</td>\n",
       "      <td>filings.2017.5</td>\n",
       "      <td>[{\"name\":\"Eric Bobrova\"}]</td>\n",
       "      <td>{'city': '', 'address_line_1': '', 'state': ''...</td>\n",
       "      <td>{'addresstext': '888 Sherwood Circle\n",
       "70501,Laf...</td>\n",
       "      <td>NaN</td>\n",
       "      <td>NaN</td>\n",
       "      <td>NaN</td>\n",
       "      <td>NaN</td>\n",
       "      <td>888 Sherwood Circle\\n70501,Lafayette, Louisian...</td>\n",
       "    </tr>\n",
       "    <tr>\n",
       "      <th>499999</th>\n",
       "      <td>59f88b9f50b733300fe38ed5</td>\n",
       "      <td>2017-05-25T21:34:18.746Z</td>\n",
       "      <td>StepanDegtyarev@mail.ru</td>\n",
       "      <td>2017052593883370</td>\n",
       "      <td>Please save the internet from the corporations...</td>\n",
       "      <td>filings.2017.5</td>\n",
       "      <td>[{\"name\":\"Stepan Degtyarev\"}]</td>\n",
       "      <td>{'city': '', 'address_line_1': '', 'state': ''...</td>\n",
       "      <td>{'addresstext': '1379 Westfall Avenue\n",
       "87102,Al...</td>\n",
       "      <td>NaN</td>\n",
       "      <td>NaN</td>\n",
       "      <td>NaN</td>\n",
       "      <td>NaN</td>\n",
       "      <td>1379 Westfall Avenue\\n87102,Albuquerque, New M...</td>\n",
       "    </tr>\n",
       "  </tbody>\n",
       "</table>\n",
       "</div>"
      ],
      "text/plain": [
       "                              id           date_submission  \\\n",
       "499995  59f88b9f50b733300fe38ed1  2017-05-25T21:34:18.557Z   \n",
       "499996  59f88b9f50b733300fe38ed2  2017-05-25T21:34:18.558Z   \n",
       "499997  59f88b9f50b733300fe38ed3  2017-05-25T21:34:18.714Z   \n",
       "499998  59f88b9f50b733300fe38ed4  2017-05-25T21:34:18.725Z   \n",
       "499999  59f88b9f50b733300fe38ed5  2017-05-25T21:34:18.746Z   \n",
       "\n",
       "                    contact_email  confirmation_number  \\\n",
       "499995     BogdanTikhonov@mail.ru   201705251986403858   \n",
       "499996     EmmaAlekseyeva@mail.ru    20170525154035820   \n",
       "499997  MethodiusYevseyev@mail.ru    20170525032256819   \n",
       "499998        EricBobrova@mail.ru     2017052570584704   \n",
       "499999    StepanDegtyarev@mail.ru     2017052593883370   \n",
       "\n",
       "                                                text_data           index  \\\n",
       "499995  We need net neutralityto continue. A free and ...  filings.2017.5   \n",
       "499996  Save net neutrality! I am worried that the pro...  filings.2017.5   \n",
       "499997  Leave the net neutrality alone. Internet speed...  filings.2017.5   \n",
       "499998  Please Save Net Neutrality and Title ll rules....  filings.2017.5   \n",
       "499999  Please save the internet from the corporations...  filings.2017.5   \n",
       "\n",
       "                                 filers  \\\n",
       "499995     [{\"name\":\"Bogdan Tikhonov\"}]   \n",
       "499996     [{\"name\":\"Emma Alekseyeva\"}]   \n",
       "499997  [{\"name\":\"Methodius Yevseyev\"}]   \n",
       "499998        [{\"name\":\"Eric Bobrova\"}]   \n",
       "499999    [{\"name\":\"Stepan Degtyarev\"}]   \n",
       "\n",
       "                                            addressentity  \\\n",
       "499995  {'city': '', 'address_line_1': '', 'state': ''...   \n",
       "499996  {'city': '', 'address_line_1': '', 'state': ''...   \n",
       "499997  {'city': '', 'address_line_1': '', 'state': ''...   \n",
       "499998  {'city': '', 'address_line_1': '', 'state': ''...   \n",
       "499999  {'city': '', 'address_line_1': '', 'state': ''...   \n",
       "\n",
       "                               internationaladdressentity address_line_1 city  \\\n",
       "499995  {'addresstext': '3131 Haul Road\n",
       "94015,Daly Cit...            NaN  NaN   \n",
       "499996  {'addresstext': '3225 Joy Lane\n",
       "91601,North Hol...            NaN  NaN   \n",
       "499997  {'addresstext': '72 Mount Olive Road\n",
       "30030,Dec...            NaN  NaN   \n",
       "499998  {'addresstext': '888 Sherwood Circle\n",
       "70501,Laf...            NaN  NaN   \n",
       "499999  {'addresstext': '1379 Westfall Avenue\n",
       "87102,Al...            NaN  NaN   \n",
       "\n",
       "       state zip_code                         international_address_text  \n",
       "499995   NaN      NaN  3131 Haul Road\\n94015,Daly City, California, U...  \n",
       "499996   NaN      NaN  3225 Joy Lane\\n91601,North Hollywood, Californ...  \n",
       "499997   NaN      NaN  72 Mount Olive Road\\n30030,Decatur, Georgia, U...  \n",
       "499998   NaN      NaN  888 Sherwood Circle\\n70501,Lafayette, Louisian...  \n",
       "499999   NaN      NaN  1379 Westfall Avenue\\n87102,Albuquerque, New M...  "
      ]
     },
     "execution_count": 39,
     "metadata": {},
     "output_type": "execute_result"
    }
   ],
   "source": [
    "df_500k_zip.tail()"
   ]
  },
  {
   "cell_type": "code",
   "execution_count": 38,
   "metadata": {
    "collapsed": true
   },
   "outputs": [],
   "source": [
    "#rename newly column from addresstext\n",
    "df_500k_zip.rename(columns = {'addresstext':'international_address_text'}, inplace = True)"
   ]
  },
  {
   "cell_type": "code",
   "execution_count": 40,
   "metadata": {
    "collapsed": true
   },
   "outputs": [],
   "source": [
    "#save data\n",
    "df_500k_zip.to_csv('FCC_comments_500K.csv', index=False)"
   ]
  },
  {
   "cell_type": "code",
   "execution_count": 3,
   "metadata": {},
   "outputs": [
    {
     "ename": "NameError",
     "evalue": "name 'df_500k_zip' is not defined",
     "output_type": "error",
     "traceback": [
      "\u001b[1;31m---------------------------------------------------------------------------\u001b[0m",
      "\u001b[1;31mNameError\u001b[0m                                 Traceback (most recent call last)",
      "\u001b[1;32m<ipython-input-3-20bed2ddf727>\u001b[0m in \u001b[0;36m<module>\u001b[1;34m()\u001b[0m\n\u001b[0;32m      1\u001b[0m \u001b[1;31m#inspect data point\u001b[0m\u001b[1;33m\u001b[0m\u001b[1;33m\u001b[0m\u001b[0m\n\u001b[1;32m----> 2\u001b[1;33m \u001b[0mdf_500k_zip\u001b[0m\u001b[1;33m.\u001b[0m\u001b[0mloc\u001b[0m\u001b[1;33m[\u001b[0m\u001b[1;36m499995\u001b[0m\u001b[1;33m]\u001b[0m\u001b[1;33m[\u001b[0m\u001b[1;34m'international_address_text'\u001b[0m\u001b[1;33m]\u001b[0m\u001b[1;33m\u001b[0m\u001b[0m\n\u001b[0m",
      "\u001b[1;31mNameError\u001b[0m: name 'df_500k_zip' is not defined"
     ]
    }
   ],
   "source": [
    "#inspect data point\n",
    "df_500k_zip.loc[499995]['international_address_text']"
   ]
  },
  {
   "cell_type": "markdown",
   "metadata": {},
   "source": [
    "No surprise that\n",
    "3131 Haul Road\\n94015,Daly City, California\n",
    "does not exist"
   ]
  },
  {
   "cell_type": "code",
   "execution_count": 2,
   "metadata": {},
   "outputs": [
    {
     "ename": "NameError",
     "evalue": "name 'df_500k_zip' is not defined",
     "output_type": "error",
     "traceback": [
      "\u001b[1;31m---------------------------------------------------------------------------\u001b[0m",
      "\u001b[1;31mNameError\u001b[0m                                 Traceback (most recent call last)",
      "\u001b[1;32m<ipython-input-2-e6296ba20b78>\u001b[0m in \u001b[0;36m<module>\u001b[1;34m()\u001b[0m\n\u001b[1;32m----> 1\u001b[1;33m \u001b[0mdf_500k_zip\u001b[0m\u001b[1;33m.\u001b[0m\u001b[0mloc\u001b[0m\u001b[1;33m[\u001b[0m\u001b[1;36m499496\u001b[0m\u001b[1;33m]\u001b[0m\u001b[1;33m[\u001b[0m\u001b[1;34m'text_data'\u001b[0m\u001b[1;33m]\u001b[0m\u001b[1;33m\u001b[0m\u001b[0m\n\u001b[0m",
      "\u001b[1;31mNameError\u001b[0m: name 'df_500k_zip' is not defined"
     ]
    }
   ],
   "source": [
    "df_500k_zip.loc[499496]['text_data']"
   ]
  },
  {
   "cell_type": "code",
   "execution_count": 76,
   "metadata": {},
   "outputs": [
    {
     "name": "stdout",
     "output_type": "stream",
     "text": [
      "2017-05-24T23:18:04+00:00    86237\n",
      "2017-05-24T23:09:20+00:00    81837\n",
      "2017-05-24T23:14:50+00:00    61642\n",
      "2017-05-24T23:11:57+00:00    38261\n",
      "2017-05-24T23:19:47+00:00    30394\n",
      "2017-05-25T10:01:58+00:00    13403\n",
      "2017-05-24T22:58:31+00:00    12958\n",
      "2017-05-25T10:01:36+00:00    12858\n",
      "2017-05-24T23:21:10+00:00    12319\n",
      "2017-05-25T10:01:15+00:00    12245\n",
      "2017-05-25T10:03:36+00:00     9432\n",
      "2017-05-25T10:02:58+00:00     9029\n",
      "2017-05-25T10:00:52+00:00     8257\n",
      "2017-05-25T10:02:15+00:00     7767\n",
      "2017-05-25T10:04:06+00:00     7473\n",
      "2017-05-25T10:02:36+00:00     7151\n",
      "2017-05-25T10:00:32+00:00     6213\n",
      "2017-05-25T09:59:45+00:00     5249\n",
      "2017-05-25T10:00:10+00:00     5246\n",
      "2017-05-25T10:03:50+00:00     4099\n",
      "2017-05-25T10:03:18+00:00     3776\n",
      "2017-05-25T21:15:41.088Z         3\n",
      "2017-05-25T20:06:31.317Z         3\n",
      "2017-05-25T20:36:58.727Z         3\n",
      "2017-05-25T20:30:19.853Z         3\n",
      "2017-05-25T14:23:11.888Z         2\n",
      "2017-05-25T20:42:26.816Z         2\n",
      "2017-05-25T20:36:04.326Z         2\n",
      "2017-05-25T14:40:51.923Z         2\n",
      "2017-05-25T21:16:03.038Z         2\n",
      "                             ...  \n",
      "2017-05-25T15:01:50.000Z         1\n",
      "2017-05-25T20:34:37.743Z         1\n",
      "2017-05-25T21:23:33.016Z         1\n",
      "2017-05-25T20:42:06.492Z         1\n",
      "2017-05-25T20:03:02.830Z         1\n",
      "2017-05-25T20:09:27.032Z         1\n",
      "2017-05-25T21:21:18.229Z         1\n",
      "2017-05-25T20:34:43.663Z         1\n",
      "2017-05-25T14:41:46.660Z         1\n",
      "2017-05-25T20:14:19.227Z         1\n",
      "2017-05-25T21:21:22.707Z         1\n",
      "2017-05-25T14:37:58.646Z         1\n",
      "2017-05-25T20:27:53.241Z         1\n",
      "2017-05-25T15:03:09.591Z         1\n",
      "2017-05-25T20:05:33.356Z         1\n",
      "2017-05-25T20:33:14.963Z         1\n",
      "2017-05-25T21:19:27.343Z         1\n",
      "2017-05-25T14:44:12.597Z         1\n",
      "2017-05-25T14:37:03.838Z         1\n",
      "2017-05-25T04:26:04.475Z         1\n",
      "2017-05-25T21:30:51.016Z         1\n",
      "2017-05-25T21:19:03.045Z         1\n",
      "2017-05-25T21:23:40.082Z         1\n",
      "2017-05-25T20:14:05.913Z         1\n",
      "2017-05-25T21:29:21.681Z         1\n",
      "2017-05-25T21:34:17.458Z         1\n",
      "2017-05-25T14:42:02.326Z         1\n",
      "2017-05-25T21:34:18.126Z         1\n",
      "2017-05-25T21:34:18.395Z         1\n",
      "2017-05-25T20:06:55.472Z         1\n",
      "Name: date_submission, Length: 63731, dtype: int64\n"
     ]
    }
   ],
   "source": [
    "# Multiple sumbissions at the exact same instant.. possibly automatically generated\n",
    "print(df_500k_zip.date_submission.value_counts())"
   ]
  },
  {
   "cell_type": "markdown",
   "metadata": {},
   "source": [
    "Create small dataset to experiment with:"
   ]
  },
  {
   "cell_type": "code",
   "execution_count": 9,
   "metadata": {
    "collapsed": true
   },
   "outputs": [],
   "source": [
    "#create small df to experimen & train with\n",
    "small_df = df_500K_zip[:501]"
   ]
  },
  {
   "cell_type": "code",
   "execution_count": 56,
   "metadata": {},
   "outputs": [
    {
     "data": {
      "text/html": [
       "<div>\n",
       "<style scoped>\n",
       "    .dataframe tbody tr th:only-of-type {\n",
       "        vertical-align: middle;\n",
       "    }\n",
       "\n",
       "    .dataframe tbody tr th {\n",
       "        vertical-align: top;\n",
       "    }\n",
       "\n",
       "    .dataframe thead th {\n",
       "        text-align: right;\n",
       "    }\n",
       "</style>\n",
       "<table border=\"1\" class=\"dataframe\">\n",
       "  <thead>\n",
       "    <tr style=\"text-align: right;\">\n",
       "      <th></th>\n",
       "      <th>id</th>\n",
       "      <th>date_submission</th>\n",
       "      <th>contact_email</th>\n",
       "      <th>confirmation_number</th>\n",
       "      <th>text_data</th>\n",
       "      <th>index</th>\n",
       "      <th>filers</th>\n",
       "      <th>addressentity</th>\n",
       "      <th>internationaladdressentity</th>\n",
       "      <th>address_line_1</th>\n",
       "      <th>city</th>\n",
       "      <th>state</th>\n",
       "      <th>zip_code</th>\n",
       "    </tr>\n",
       "  </thead>\n",
       "  <tbody>\n",
       "    <tr>\n",
       "      <th>0</th>\n",
       "      <td>59f883d850b733300fdbec7a</td>\n",
       "      <td>2017-05-24 22:58:31</td>\n",
       "      <td>amos31wj@yahoo.com</td>\n",
       "      <td>201706031279605654</td>\n",
       "      <td>Dear Chairman Pai,  I'm contacting you about r...</td>\n",
       "      <td>filings.2017.5</td>\n",
       "      <td>[{\"name\":\"Amos Thompson\"}]</td>\n",
       "      <td>{'city': 'W Jefferson', 'address_line_1': '133...</td>\n",
       "      <td>{'addresstext': ''}</td>\n",
       "      <td>133 Blendon Rd</td>\n",
       "      <td>W Jefferson</td>\n",
       "      <td>OH</td>\n",
       "      <td>43162</td>\n",
       "    </tr>\n",
       "  </tbody>\n",
       "</table>\n",
       "</div>"
      ],
      "text/plain": [
       "                         id     date_submission       contact_email  \\\n",
       "0  59f883d850b733300fdbec7a 2017-05-24 22:58:31  amos31wj@yahoo.com   \n",
       "\n",
       "   confirmation_number                                          text_data  \\\n",
       "0   201706031279605654  Dear Chairman Pai,  I'm contacting you about r...   \n",
       "\n",
       "            index                      filers  \\\n",
       "0  filings.2017.5  [{\"name\":\"Amos Thompson\"}]   \n",
       "\n",
       "                                       addressentity  \\\n",
       "0  {'city': 'W Jefferson', 'address_line_1': '133...   \n",
       "\n",
       "  internationaladdressentity  address_line_1         city state zip_code  \n",
       "0        {'addresstext': ''}  133 Blendon Rd  W Jefferson    OH    43162  "
      ]
     },
     "execution_count": 56,
     "metadata": {},
     "output_type": "execute_result"
    }
   ],
   "source": [
    "#inspect small_df\n",
    "small_df.head(1)"
   ]
  },
  {
   "cell_type": "code",
   "execution_count": 55,
   "metadata": {},
   "outputs": [
    {
     "name": "stdout",
     "output_type": "stream",
     "text": [
      "<class 'pandas.core.frame.DataFrame'>\n",
      "RangeIndex: 501 entries, 0 to 500\n",
      "Data columns (total 13 columns):\n",
      "id                            501 non-null object\n",
      "date_submission               501 non-null datetime64[ns]\n",
      "contact_email                 501 non-null object\n",
      "confirmation_number           501 non-null int64\n",
      "text_data                     501 non-null object\n",
      "index                         501 non-null object\n",
      "filers                        501 non-null object\n",
      "addressentity                 501 non-null object\n",
      "internationaladdressentity    501 non-null object\n",
      "address_line_1                501 non-null object\n",
      "city                          501 non-null object\n",
      "state                         501 non-null object\n",
      "zip_code                      501 non-null object\n",
      "dtypes: datetime64[ns](1), int64(1), object(11)\n",
      "memory usage: 51.0+ KB\n"
     ]
    }
   ],
   "source": [
    "small_df.info()"
   ]
  },
  {
   "cell_type": "code",
   "execution_count": 54,
   "metadata": {},
   "outputs": [
    {
     "name": "stderr",
     "output_type": "stream",
     "text": [
      "E:\\Anaconda\\lib\\site-packages\\ipykernel_launcher.py:1: SettingWithCopyWarning: \n",
      "A value is trying to be set on a copy of a slice from a DataFrame.\n",
      "Try using .loc[row_indexer,col_indexer] = value instead\n",
      "\n",
      "See the caveats in the documentation: http://pandas.pydata.org/pandas-docs/stable/indexing.html#indexing-view-versus-copy\n",
      "  \"\"\"Entry point for launching an IPython kernel.\n"
     ]
    }
   ],
   "source": [
    "small_df['date_submission'] =  pd.to_datetime(small_df['date_submission'])"
   ]
  },
  {
   "cell_type": "code",
   "execution_count": null,
   "metadata": {
    "collapsed": true
   },
   "outputs": [],
   "source": [
    "import plotly.plotly as py\n",
    "import pandas as pd\n",
    "\n",
    "df = pd.read_csv('https://raw.githubusercontent.com/plotly/datasets/master/2011_us_ag_exports.csv')\n",
    "\n",
    "for col in df.columns:\n",
    "    df[col] = df[col].astype(str)\n",
    "\n",
    "scl = [[0.0, 'rgb(242,240,247)'],[0.2, 'rgb(218,218,235)'],[0.4, 'rgb(188,189,220)'],\\\n",
    "            [0.6, 'rgb(158,154,200)'],[0.8, 'rgb(117,107,177)'],[1.0, 'rgb(84,39,143)']]\n",
    "\n",
    "df['text'] = df['state'] + '<br>' +\\\n",
    "    'Beef '+df['beef']+' Dairy '+df['dairy']+'<br>'+\\\n",
    "    'Fruits '+df['total fruits']+' Veggies ' + df['total veggies']+'<br>'+\\\n",
    "    'Wheat '+df['wheat']+' Corn '+df['corn']\n",
    "\n",
    "data = [ dict(\n",
    "        type='choropleth',\n",
    "        colorscale = scl,\n",
    "        autocolorscale = False,\n",
    "        locations = df['code'],\n",
    "        z = df['total exports'].astype(float),\n",
    "        locationmode = 'USA-states',\n",
    "        text = df['text'],\n",
    "        marker = dict(\n",
    "            line = dict (\n",
    "                color = 'rgb(255,255,255)',\n",
    "                width = 2\n",
    "            )\n",
    "        ),\n",
    "        colorbar = dict(\n",
    "            title = \"Millions USD\"\n",
    "        )\n",
    "    ) ]\n",
    "\n",
    "layout = dict(\n",
    "        title = '2011 US Agriculture Exports by State<br>(Hover for breakdown)',\n",
    "        geo = dict(\n",
    "            scope='usa',\n",
    "            projection=dict( type='albers usa' ),\n",
    "            showlakes = True,\n",
    "            lakecolor = 'rgb(255, 255, 255)',\n",
    "        ),\n",
    "    )\n",
    "\n",
    "fig = dict( data=data, layout=layout )\n",
    "\n",
    "url = py.plot( fig, filename='d3-cloropleth-map' )"
   ]
  },
  {
   "cell_type": "code",
   "execution_count": null,
   "metadata": {
    "collapsed": true
   },
   "outputs": [],
   "source": [
    "## plot time series"
   ]
  },
  {
   "cell_type": "code",
   "execution_count": 3,
   "metadata": {
    "collapsed": true
   },
   "outputs": [],
   "source": [
    "df_3M = pd.read_csv('FCC_comments_3M.csv', encoding='utf8')"
   ]
  },
  {
   "cell_type": "code",
   "execution_count": 4,
   "metadata": {},
   "outputs": [
    {
     "name": "stderr",
     "output_type": "stream",
     "text": [
      "ERROR:root:Internal Python error in the inspect module.\n",
      "Below is the traceback from this internal error.\n",
      "\n"
     ]
    },
    {
     "name": "stdout",
     "output_type": "stream",
     "text": [
      "Traceback (most recent call last):\n",
      "  File \"E:\\Anaconda\\lib\\site-packages\\IPython\\core\\interactiveshell.py\", line 2862, in run_code\n",
      "    exec(code_obj, self.user_global_ns, self.user_ns)\n",
      "  File \"<ipython-input-4-93372b89c080>\", line 1, in <module>\n",
      "    plt.hist(df_3M.date_submission)\n",
      "  File \"E:\\Anaconda\\lib\\site-packages\\matplotlib\\pyplot.py\", line 3004, in hist\n",
      "    stacked=stacked, normed=normed, data=data, **kwargs)\n",
      "  File \"E:\\Anaconda\\lib\\site-packages\\matplotlib\\__init__.py\", line 1710, in inner\n",
      "    return func(ax, *args, **kwargs)\n",
      "  File \"E:\\Anaconda\\lib\\site-packages\\matplotlib\\axes\\_axes.py\", line 6147, in hist\n",
      "    x = self.convert_xunits(x)\n",
      "  File \"E:\\Anaconda\\lib\\site-packages\\matplotlib\\artist.py\", line 191, in convert_xunits\n",
      "    return ax.xaxis.convert_units(x)\n",
      "  File \"E:\\Anaconda\\lib\\site-packages\\matplotlib\\axis.py\", line 1491, in convert_units\n",
      "    ret = self.converter.convert(x, self.units, self)\n",
      "  File \"E:\\Anaconda\\lib\\site-packages\\matplotlib\\category.py\", line 51, in convert\n",
      "    vals[vals == lab] = loc\n",
      "KeyboardInterrupt\n",
      "\n",
      "During handling of the above exception, another exception occurred:\n",
      "\n",
      "Traceback (most recent call last):\n",
      "  File \"E:\\Anaconda\\lib\\site-packages\\IPython\\core\\interactiveshell.py\", line 1806, in showtraceback\n",
      "    stb = value._render_traceback_()\n",
      "AttributeError: 'KeyboardInterrupt' object has no attribute '_render_traceback_'\n",
      "\n",
      "During handling of the above exception, another exception occurred:\n",
      "\n",
      "Traceback (most recent call last):\n",
      "  File \"E:\\Anaconda\\lib\\site-packages\\IPython\\core\\ultratb.py\", line 1090, in get_records\n",
      "    return _fixed_getinnerframes(etb, number_of_lines_of_context, tb_offset)\n",
      "  File \"E:\\Anaconda\\lib\\site-packages\\IPython\\core\\ultratb.py\", line 311, in wrapped\n",
      "    return f(*args, **kwargs)\n",
      "  File \"E:\\Anaconda\\lib\\site-packages\\IPython\\core\\ultratb.py\", line 345, in _fixed_getinnerframes\n",
      "    records = fix_frame_records_filenames(inspect.getinnerframes(etb, context))\n",
      "  File \"E:\\Anaconda\\lib\\inspect.py\", line 1483, in getinnerframes\n",
      "    frameinfo = (tb.tb_frame,) + getframeinfo(tb, context)\n",
      "  File \"E:\\Anaconda\\lib\\inspect.py\", line 1441, in getframeinfo\n",
      "    filename = getsourcefile(frame) or getfile(frame)\n",
      "  File \"E:\\Anaconda\\lib\\inspect.py\", line 684, in getsourcefile\n",
      "    filename = getfile(object)\n",
      "  File \"E:\\Anaconda\\lib\\inspect.py\", line 657, in getfile\n",
      "    if isfunction(object):\n",
      "  File \"E:\\Anaconda\\lib\\inspect.py\", line 170, in isfunction\n",
      "    return isinstance(object, types.FunctionType)\n",
      "KeyboardInterrupt\n"
     ]
    },
    {
     "ename": "KeyboardInterrupt",
     "evalue": "",
     "output_type": "error",
     "traceback": [
      "\u001b[1;31m---------------------------------------------------------------------------\u001b[0m"
     ]
    }
   ],
   "source": [
    "plt.hist(df_3M.date_submission)\n",
    "plt.show()"
   ]
  },
  {
   "cell_type": "code",
   "execution_count": null,
   "metadata": {
    "collapsed": true
   },
   "outputs": [],
   "source": []
  }
 ],
 "metadata": {
  "kernelspec": {
   "display_name": "Python 3",
   "language": "python",
   "name": "python3"
  },
  "language_info": {
   "codemirror_mode": {
    "name": "ipython",
    "version": 3
   },
   "file_extension": ".py",
   "mimetype": "text/x-python",
   "name": "python",
   "nbconvert_exporter": "python",
   "pygments_lexer": "ipython3",
   "version": "3.6.3"
  }
 },
 "nbformat": 4,
 "nbformat_minor": 2
}
