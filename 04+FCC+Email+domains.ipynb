{
 "cells": [
  {
   "cell_type": "markdown",
   "metadata": {},
   "source": [
    "# Domain Name Distribution of ~500K filers (whose zipcodes have been matched with a state abbreviation)"
   ]
  },
  {
   "cell_type": "code",
   "execution_count": 56,
   "metadata": {},
   "outputs": [
    {
     "data": {
      "text/plain": [
       "gmail.com      188613\n",
       "yahoo.com      121284\n",
       "aol.com         40813\n",
       "hotmail.com     28505\n",
       "comcast.net     11499\n",
       "Name: domain, dtype: int64"
      ]
     },
     "execution_count": 56,
     "metadata": {},
     "output_type": "execute_result"
    }
   ],
   "source": [
    "#inspect and sort our data domain distribution\n",
    "df_merged_zip['domain'].value_counts().head()"
   ]
  },
  {
   "cell_type": "markdown",
   "metadata": {},
   "source": [
    "# Domain Name Distribution of ~3Million filers "
   ]
  },
  {
   "cell_type": "code",
   "execution_count": 60,
   "metadata": {},
   "outputs": [
    {
     "data": {
      "text/plain": [
       "gmail.com         693541\n",
       "hurra.de          359826\n",
       "pornhub.com       303002\n",
       "yahoo.com         287767\n",
       "hotmail.com        84894\n",
       "aol.com            73660\n",
       "comcast.net        31709\n",
       "msn.com            15650\n",
       "att.net            14118\n",
       "icloud.com         13902\n",
       "sbcglobal.net      13788\n",
       "outlook.com        10998\n",
       "live.com           10443\n",
       "jourrapide.com      9438\n",
       "einrot.com          9435\n",
       "fleckens.hu         9392\n",
       "verizon.net         9368\n",
       "cuvox.de            9277\n",
       "superrito.com       9186\n",
       "rhyta.com           9182\n",
       "Name: domain, dtype: int64"
      ]
     },
     "execution_count": 60,
     "metadata": {},
     "output_type": "execute_result"
    }
   ],
   "source": [
    "# Quite a few pornhub.com and hurra.de accounts, these are probably fake.\n",
    "df_3mil['domain'].value_counts().head(20)"
   ]
  },
  {
   "cell_type": "code",
   "execution_count": 3,
   "metadata": {
    "collapsed": true
   },
   "outputs": [],
   "source": [
    "# Import Packages\n",
    "import pandas as pd\n",
    "import matplotlib.pyplot as plt"
   ]
  },
  {
   "cell_type": "code",
   "execution_count": 4,
   "metadata": {
    "collapsed": true
   },
   "outputs": [],
   "source": [
    "#Import Data 500K records with state abbreviation data\n",
    "df_merged_zip = pd.read_csv('FCC_df_merged_zip.csv', parse_dates=['date_submission'], index_col='date_submission', encoding='utf8')"
   ]
  },
  {
   "cell_type": "code",
   "execution_count": 5,
   "metadata": {
    "collapsed": true
   },
   "outputs": [],
   "source": [
    "df_3mil = pd.read_csv('FCC_comments_3M.csv', parse_dates=['date_submission'], index_col='date_submission', encoding='utf8')"
   ]
  },
  {
   "cell_type": "code",
   "execution_count": 61,
   "metadata": {},
   "outputs": [
    {
     "data": {
      "text/html": [
       "<div>\n",
       "<style>\n",
       "    .dataframe thead tr:only-child th {\n",
       "        text-align: right;\n",
       "    }\n",
       "\n",
       "    .dataframe thead th {\n",
       "        text-align: left;\n",
       "    }\n",
       "\n",
       "    .dataframe tbody tr th {\n",
       "        vertical-align: top;\n",
       "    }\n",
       "</style>\n",
       "<table border=\"1\" class=\"dataframe\">\n",
       "  <thead>\n",
       "    <tr style=\"text-align: right;\">\n",
       "      <th></th>\n",
       "      <th>id</th>\n",
       "      <th>contact_email</th>\n",
       "      <th>confirmation_number</th>\n",
       "      <th>text_data</th>\n",
       "      <th>index</th>\n",
       "      <th>filers</th>\n",
       "      <th>addressentity</th>\n",
       "      <th>internationaladdressentity</th>\n",
       "      <th>domain</th>\n",
       "    </tr>\n",
       "    <tr>\n",
       "      <th>date_submission</th>\n",
       "      <th></th>\n",
       "      <th></th>\n",
       "      <th></th>\n",
       "      <th></th>\n",
       "      <th></th>\n",
       "      <th></th>\n",
       "      <th></th>\n",
       "      <th></th>\n",
       "      <th></th>\n",
       "    </tr>\n",
       "  </thead>\n",
       "  <tbody>\n",
       "    <tr>\n",
       "      <th>2017-07-11 15:53:55.361</th>\n",
       "      <td>59f8b2bb50b733300f069dc9</td>\n",
       "      <td>YaroslavKalinina@pornhub.com</td>\n",
       "      <td>2.017071e+17</td>\n",
       "      <td>Allowing broadband providers to throttle their...</td>\n",
       "      <td>filings.2017.7</td>\n",
       "      <td>[{\"name\":\"Yaroslav Kalinina\"}]</td>\n",
       "      <td>{\"city\":\"\",\"address_line_1\":\"\",\"state\":\"\",\"zip...</td>\n",
       "      <td>{\"addresstext\":\"3575 Eagle Lane\\n55792,Virgini...</td>\n",
       "      <td>pornhub.com</td>\n",
       "    </tr>\n",
       "    <tr>\n",
       "      <th>2017-07-11 15:53:55.390</th>\n",
       "      <td>59f8b2bb50b733300f069dca</td>\n",
       "      <td>GalinaMedvedeva@pornhub.com</td>\n",
       "      <td>2.017071e+15</td>\n",
       "      <td>We need net neutralityto continue. A free and ...</td>\n",
       "      <td>filings.2017.7</td>\n",
       "      <td>[{\"name\":\"Galina Medvedeva\"}]</td>\n",
       "      <td>{\"city\":\"\",\"address_line_1\":\"\",\"state\":\"\",\"zip...</td>\n",
       "      <td>{\"addresstext\":\"2245 Lodgeville Road\\n55415,Mi...</td>\n",
       "      <td>pornhub.com</td>\n",
       "    </tr>\n",
       "  </tbody>\n",
       "</table>\n",
       "</div>"
      ],
      "text/plain": [
       "                                               id  \\\n",
       "date_submission                                     \n",
       "2017-07-11 15:53:55.361  59f8b2bb50b733300f069dc9   \n",
       "2017-07-11 15:53:55.390  59f8b2bb50b733300f069dca   \n",
       "\n",
       "                                        contact_email  confirmation_number  \\\n",
       "date_submission                                                              \n",
       "2017-07-11 15:53:55.361  YaroslavKalinina@pornhub.com         2.017071e+17   \n",
       "2017-07-11 15:53:55.390   GalinaMedvedeva@pornhub.com         2.017071e+15   \n",
       "\n",
       "                                                                 text_data  \\\n",
       "date_submission                                                              \n",
       "2017-07-11 15:53:55.361  Allowing broadband providers to throttle their...   \n",
       "2017-07-11 15:53:55.390  We need net neutralityto continue. A free and ...   \n",
       "\n",
       "                                  index                          filers  \\\n",
       "date_submission                                                           \n",
       "2017-07-11 15:53:55.361  filings.2017.7  [{\"name\":\"Yaroslav Kalinina\"}]   \n",
       "2017-07-11 15:53:55.390  filings.2017.7   [{\"name\":\"Galina Medvedeva\"}]   \n",
       "\n",
       "                                                             addressentity  \\\n",
       "date_submission                                                              \n",
       "2017-07-11 15:53:55.361  {\"city\":\"\",\"address_line_1\":\"\",\"state\":\"\",\"zip...   \n",
       "2017-07-11 15:53:55.390  {\"city\":\"\",\"address_line_1\":\"\",\"state\":\"\",\"zip...   \n",
       "\n",
       "                                                internationaladdressentity  \\\n",
       "date_submission                                                              \n",
       "2017-07-11 15:53:55.361  {\"addresstext\":\"3575 Eagle Lane\\n55792,Virgini...   \n",
       "2017-07-11 15:53:55.390  {\"addresstext\":\"2245 Lodgeville Road\\n55415,Mi...   \n",
       "\n",
       "                              domain  \n",
       "date_submission                       \n",
       "2017-07-11 15:53:55.361  pornhub.com  \n",
       "2017-07-11 15:53:55.390  pornhub.com  "
      ]
     },
     "execution_count": 61,
     "metadata": {},
     "output_type": "execute_result"
    }
   ],
   "source": [
    "df_3mil.head(2)"
   ]
  },
  {
   "cell_type": "code",
   "execution_count": 62,
   "metadata": {},
   "outputs": [
    {
     "data": {
      "text/html": [
       "<div>\n",
       "<style>\n",
       "    .dataframe thead tr:only-child th {\n",
       "        text-align: right;\n",
       "    }\n",
       "\n",
       "    .dataframe thead th {\n",
       "        text-align: left;\n",
       "    }\n",
       "\n",
       "    .dataframe tbody tr th {\n",
       "        vertical-align: top;\n",
       "    }\n",
       "</style>\n",
       "<table border=\"1\" class=\"dataframe\">\n",
       "  <thead>\n",
       "    <tr style=\"text-align: right;\">\n",
       "      <th></th>\n",
       "      <th>id</th>\n",
       "      <th>contact_email</th>\n",
       "      <th>confirmation_number</th>\n",
       "      <th>text_data</th>\n",
       "      <th>index</th>\n",
       "      <th>filers</th>\n",
       "      <th>addressentity</th>\n",
       "      <th>internationaladdressentity</th>\n",
       "      <th>address_line_1</th>\n",
       "      <th>city</th>\n",
       "      <th>...</th>\n",
       "      <th>international_address_text</th>\n",
       "      <th>Zip_Code_num</th>\n",
       "      <th>Place_Name</th>\n",
       "      <th>State</th>\n",
       "      <th>State_Abbreviation</th>\n",
       "      <th>County</th>\n",
       "      <th>Latitude</th>\n",
       "      <th>Longitude</th>\n",
       "      <th>Zip_Code_str</th>\n",
       "      <th>domain</th>\n",
       "    </tr>\n",
       "    <tr>\n",
       "      <th>date_submission</th>\n",
       "      <th></th>\n",
       "      <th></th>\n",
       "      <th></th>\n",
       "      <th></th>\n",
       "      <th></th>\n",
       "      <th></th>\n",
       "      <th></th>\n",
       "      <th></th>\n",
       "      <th></th>\n",
       "      <th></th>\n",
       "      <th></th>\n",
       "      <th></th>\n",
       "      <th></th>\n",
       "      <th></th>\n",
       "      <th></th>\n",
       "      <th></th>\n",
       "      <th></th>\n",
       "      <th></th>\n",
       "      <th></th>\n",
       "      <th></th>\n",
       "      <th></th>\n",
       "    </tr>\n",
       "  </thead>\n",
       "  <tbody>\n",
       "    <tr>\n",
       "      <th>2017-05-24 22:58:31</th>\n",
       "      <td>59f883d850b733300fdbec7a</td>\n",
       "      <td>amos31wj@yahoo.com</td>\n",
       "      <td>201706031279605654</td>\n",
       "      <td>Dear Chairman Pai,  I'm contacting you about r...</td>\n",
       "      <td>filings.2017.5</td>\n",
       "      <td>[{\"name\":\"Amos Thompson\"}]</td>\n",
       "      <td>{'city': 'W Jefferson', 'address_line_1': '133...</td>\n",
       "      <td>{'addresstext': ''}</td>\n",
       "      <td>133 Blendon Rd</td>\n",
       "      <td>W Jefferson</td>\n",
       "      <td>...</td>\n",
       "      <td>NaN</td>\n",
       "      <td>43162</td>\n",
       "      <td>West Jefferson</td>\n",
       "      <td>Ohio</td>\n",
       "      <td>OH</td>\n",
       "      <td>Madison</td>\n",
       "      <td>39.9424</td>\n",
       "      <td>-83.2853</td>\n",
       "      <td>43162</td>\n",
       "      <td>yahoo.com</td>\n",
       "    </tr>\n",
       "    <tr>\n",
       "      <th>2017-05-24 23:09:20</th>\n",
       "      <td>59f8844250b733300fdc6085</td>\n",
       "      <td>villagewj@yahoo.com</td>\n",
       "      <td>20170603120617614</td>\n",
       "      <td>To the Federal Communications Commission:  Reg...</td>\n",
       "      <td>filings.2017.5</td>\n",
       "      <td>[{\"name\":\"Harold Walker\"}]</td>\n",
       "      <td>{'city': 'West Jefferson', 'address_line_1': '...</td>\n",
       "      <td>{'addresstext': ''}</td>\n",
       "      <td>1600 Olmstead Rd</td>\n",
       "      <td>West Jefferson</td>\n",
       "      <td>...</td>\n",
       "      <td>NaN</td>\n",
       "      <td>43162</td>\n",
       "      <td>West Jefferson</td>\n",
       "      <td>Ohio</td>\n",
       "      <td>OH</td>\n",
       "      <td>Madison</td>\n",
       "      <td>39.9424</td>\n",
       "      <td>-83.2853</td>\n",
       "      <td>43162</td>\n",
       "      <td>yahoo.com</td>\n",
       "    </tr>\n",
       "  </tbody>\n",
       "</table>\n",
       "<p>2 rows × 22 columns</p>\n",
       "</div>"
      ],
      "text/plain": [
       "                                           id        contact_email  \\\n",
       "date_submission                                                      \n",
       "2017-05-24 22:58:31  59f883d850b733300fdbec7a   amos31wj@yahoo.com   \n",
       "2017-05-24 23:09:20  59f8844250b733300fdc6085  villagewj@yahoo.com   \n",
       "\n",
       "                     confirmation_number  \\\n",
       "date_submission                            \n",
       "2017-05-24 22:58:31   201706031279605654   \n",
       "2017-05-24 23:09:20    20170603120617614   \n",
       "\n",
       "                                                             text_data  \\\n",
       "date_submission                                                          \n",
       "2017-05-24 22:58:31  Dear Chairman Pai,  I'm contacting you about r...   \n",
       "2017-05-24 23:09:20  To the Federal Communications Commission:  Reg...   \n",
       "\n",
       "                              index                      filers  \\\n",
       "date_submission                                                   \n",
       "2017-05-24 22:58:31  filings.2017.5  [{\"name\":\"Amos Thompson\"}]   \n",
       "2017-05-24 23:09:20  filings.2017.5  [{\"name\":\"Harold Walker\"}]   \n",
       "\n",
       "                                                         addressentity  \\\n",
       "date_submission                                                          \n",
       "2017-05-24 22:58:31  {'city': 'W Jefferson', 'address_line_1': '133...   \n",
       "2017-05-24 23:09:20  {'city': 'West Jefferson', 'address_line_1': '...   \n",
       "\n",
       "                    internationaladdressentity    address_line_1  \\\n",
       "date_submission                                                    \n",
       "2017-05-24 22:58:31        {'addresstext': ''}    133 Blendon Rd   \n",
       "2017-05-24 23:09:20        {'addresstext': ''}  1600 Olmstead Rd   \n",
       "\n",
       "                               city    ...     international_address_text  \\\n",
       "date_submission                        ...                                  \n",
       "2017-05-24 22:58:31     W Jefferson    ...                            NaN   \n",
       "2017-05-24 23:09:20  West Jefferson    ...                            NaN   \n",
       "\n",
       "                     Zip_Code_num      Place_Name  State State_Abbreviation  \\\n",
       "date_submission                                                               \n",
       "2017-05-24 22:58:31         43162  West Jefferson   Ohio                 OH   \n",
       "2017-05-24 23:09:20         43162  West Jefferson   Ohio                 OH   \n",
       "\n",
       "                      County Latitude Longitude  Zip_Code_str     domain  \n",
       "date_submission                                                           \n",
       "2017-05-24 22:58:31  Madison  39.9424  -83.2853         43162  yahoo.com  \n",
       "2017-05-24 23:09:20  Madison  39.9424  -83.2853         43162  yahoo.com  \n",
       "\n",
       "[2 rows x 22 columns]"
      ]
     },
     "execution_count": 62,
     "metadata": {},
     "output_type": "execute_result"
    }
   ],
   "source": [
    "# how are the email domain names split up?\n",
    "df_merged_zip['domain'] = df_merged_zip['contact_email'].str.split(\"@\").str[1]\n",
    "df_merged_zip['domain'] = df_merged_zip['domain'].str.lower()\n",
    "df_merged_zip.head(2)"
   ]
  },
  {
   "cell_type": "markdown",
   "metadata": {},
   "source": [
    "# Domain Name Distribution of ~500K filers (whose zipcodes have been matched with a state abbreviation)"
   ]
  },
  {
   "cell_type": "code",
   "execution_count": 56,
   "metadata": {},
   "outputs": [
    {
     "data": {
      "text/plain": [
       "gmail.com      188613\n",
       "yahoo.com      121284\n",
       "aol.com         40813\n",
       "hotmail.com     28505\n",
       "comcast.net     11499\n",
       "Name: domain, dtype: int64"
      ]
     },
     "execution_count": 56,
     "metadata": {},
     "output_type": "execute_result"
    }
   ],
   "source": [
    "#inspect and sort our data domain distribution\n",
    "df_merged_zip['domain'].value_counts().head()"
   ]
  },
  {
   "cell_type": "code",
   "execution_count": 63,
   "metadata": {},
   "outputs": [],
   "source": [
    "# how are the email domain names split up with our 3 million dataset?\n",
    "df_3mil['domain'] = df_3mil['contact_email'].str.split(\"@\").str[1]\n",
    "df_3mil['domain'] = df_3mil['domain'].str.lower()\n"
   ]
  },
  {
   "cell_type": "code",
   "execution_count": 60,
   "metadata": {},
   "outputs": [
    {
     "data": {
      "text/plain": [
       "gmail.com         693541\n",
       "hurra.de          359826\n",
       "pornhub.com       303002\n",
       "yahoo.com         287767\n",
       "hotmail.com        84894\n",
       "aol.com            73660\n",
       "comcast.net        31709\n",
       "msn.com            15650\n",
       "att.net            14118\n",
       "icloud.com         13902\n",
       "sbcglobal.net      13788\n",
       "outlook.com        10998\n",
       "live.com           10443\n",
       "jourrapide.com      9438\n",
       "einrot.com          9435\n",
       "fleckens.hu         9392\n",
       "verizon.net         9368\n",
       "cuvox.de            9277\n",
       "superrito.com       9186\n",
       "rhyta.com           9182\n",
       "Name: domain, dtype: int64"
      ]
     },
     "execution_count": 60,
     "metadata": {},
     "output_type": "execute_result"
    }
   ],
   "source": [
    "# Quite a few pornhub.com and hurra.de accounts, these are probably fake.\n",
    "df_3mil['domain'].value_counts().head(20)"
   ]
  },
  {
   "cell_type": "code",
   "execution_count": null,
   "metadata": {
    "collapsed": true
   },
   "outputs": [],
   "source": []
  }
 ],
 "metadata": {
  "kernelspec": {
   "display_name": "Python 3",
   "language": "python",
   "name": "python3"
  },
  "language_info": {
   "codemirror_mode": {
    "name": "ipython",
    "version": 3
   },
   "file_extension": ".py",
   "mimetype": "text/x-python",
   "name": "python",
   "nbconvert_exporter": "python",
   "pygments_lexer": "ipython3",
   "version": "3.6.3"
  }
 },
 "nbformat": 4,
 "nbformat_minor": 2
}
